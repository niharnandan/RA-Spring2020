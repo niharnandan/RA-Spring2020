{
 "cells": [
  {
   "cell_type": "code",
   "execution_count": 61,
   "metadata": {},
   "outputs": [],
   "source": [
    "import numpy as np\n",
    "import pandas as pd\n",
    "from os import listdir\n",
    "from os.path import isfile, join\n",
    "import matplotlib.pyplot as plt\n",
    "import warnings\n",
    "import seaborn as sns\n",
    "sns.set_style(\"darkgrid\")\n",
    "warnings.filterwarnings('ignore')"
   ]
  },
  {
   "cell_type": "code",
   "execution_count": 32,
   "metadata": {},
   "outputs": [],
   "source": [
    "folder = ''\n",
    "temp1 = pd.read_csv(folder+'Task1_step2.csv')\n",
    "temp2 = pd.read_csv(folder+'Task2.csv')\n",
    "temp3 = pd.read_csv(folder+'Task3.csv')"
   ]
  },
  {
   "cell_type": "code",
   "execution_count": 33,
   "metadata": {},
   "outputs": [],
   "source": [
    "for key,value in temp1.iterrows():\n",
    "    if value[1] == 0:\n",
    "        temp = temp1.iloc[key, 8:17].to_list()\n",
    "        temp1.iloc[key, 8:17] = [int(x) ^ 1 if x == 1.0 or x == 0.0 else np.nan for x in temp]"
   ]
  },
  {
   "cell_type": "code",
   "execution_count": 34,
   "metadata": {},
   "outputs": [
    {
     "data": {
      "text/plain": [
       "Index(['participant_ID', 'treatment', 'part', 'trial_no', 'rounds',\n",
       "       'red_prior_prob', 'true_guilty_suspect', 'suspect_accused', 'choice_1',\n",
       "       'choice_2', 'choice_3', 'choice_4', 'choice_5', 'choice_6', 'choice_7',\n",
       "       'choice_8', 'choice_9', 'outcome_1', 'outcome_2', 'outcome_3',\n",
       "       'outcome_4', 'outcome_5', 'outcome_6', 'outcome_7', 'outcome_8',\n",
       "       'outcome_9', 'timing_choice_1', 'timing_choice_2', 'timing_choice_3',\n",
       "       'timing_choice_4', 'timing_choice_5', 'timing_choice_6',\n",
       "       'timing_choice_7', 'timing_choice_8', 'timing_choice_9',\n",
       "       'timing_choice_10', 'timing_choice_11', 'correct_suspect_accused',\n",
       "       'evidence_round'],\n",
       "      dtype='object')"
      ]
     },
     "execution_count": 34,
     "metadata": {},
     "output_type": "execute_result"
    }
   ],
   "source": [
    "temp1.to_csv('Task1_step3.csv', index=False)\n",
    "temp1.columns"
   ]
  },
  {
   "cell_type": "code",
   "execution_count": 68,
   "metadata": {},
   "outputs": [],
   "source": [
    "total_no = len(temp1)\n",
    "t1 = [0.1, 0.3, 0.5, 0.7, 0.9]\n",
    "t2 = [0]* 5\n",
    "t3 = [0]* 5\n",
    "t4 = [0]* 5\n",
    "t5 = [0]* 5\n",
    "t6 = [0]* 5\n",
    "t7 = [0]* 5\n",
    "for key,value in temp1.iterrows():\n",
    "    t2[t1.index(value[5])] += 1\n",
    "    t3[t1.index(value[5])] += 1 if value[7] == 0 else 0\n",
    "    \n",
    "    t4[t1.index(value[5])] += 1 if value[4] == 1 else 0\n",
    "    t5[t1.index(value[5])] += 1 if value[7] == 0 and value[4] == 1 else 0\n",
    "    \n",
    "    t6[t1.index(value[5])] += 1 if value[4] == 9 else 0\n",
    "    t7[t1.index(value[5])] += 1 if value[7] == 0 and value[4] == 9 else 0\n",
    "\n",
    "total = np.array(t3)/np.array(t2)\n",
    "rounds1 = np.array(t5)/np.array(t4)\n",
    "rounds9 = np.array(t7)/np.array(t6)"
   ]
  },
  {
   "cell_type": "code",
   "execution_count": 72,
   "metadata": {},
   "outputs": [
    {
     "data": {
      "image/png": "[encoded data removed]",
      "text/plain": [
       "<Figure size 432x288 with 1 Axes>"
      ]
     },
     "metadata": {},
     "output_type": "display_data"
    }
   ],
   "source": [
    "plt.plot(t1, total , 'ro', label='All rounds')\n",
    "plt.plot(t1, total , 'r')\n",
    "plt.plot(t1, rounds1 , 'bo', label='1 round')\n",
    "plt.plot(t1, rounds1 , 'b')\n",
    "plt.plot(t1, rounds9 , 'go', label='9 rounds')\n",
    "plt.plot(t1, rounds9 , 'g')\n",
    "plt.legend()\n",
    "plt.show()"
   ]
  },
  {
   "cell_type": "code",
   "execution_count": null,
   "metadata": {},
   "outputs": [],
   "source": []
  }
 ],
 "metadata": {
  "kernelspec": {
   "display_name": "Python 3",
   "language": "python",
   "name": "python3"
  },
  "language_info": {
   "codemirror_mode": {
    "name": "ipython",
    "version": 3
   },
   "file_extension": ".py",
   "mimetype": "text/x-python",
   "name": "python",
   "nbconvert_exporter": "python",
   "pygments_lexer": "ipython3",
   "version": "3.7.6"
  }
 },
 "nbformat": 4,
 "nbformat_minor": 4
}
