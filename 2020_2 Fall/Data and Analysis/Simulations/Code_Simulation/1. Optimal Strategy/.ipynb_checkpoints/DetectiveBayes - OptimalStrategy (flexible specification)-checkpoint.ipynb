{
 "cells": [
  {
   "cell_type": "code",
   "execution_count": 1,
   "metadata": {
    "ExecuteTime": {
     "end_time": "2020-09-29T07:02:10.373100Z",
     "start_time": "2020-09-29T07:02:10.369112Z"
    }
   },
   "outputs": [],
   "source": [
    "############################### Explanation ###############################\n",
    "# This is a code for plotting optimal strategy over different cost level. It is a combined code\n",
    "# for conservative/confirmative/certainty bias with different parameters that can be set.\n",
    "# It has the following sturcture:\n",
    "#   - calculate the transition matrix of invesitgating state 1 and state 2,\n",
    "#     the entries of the transition matrix are probability of prior -> posterior\n",
    "#   - use dynamic programming to iterate until convergence of value function, goes as follows:\n",
    "#       1. start with V0 = zeros()\n",
    "#       2. calculate Vt (and V_stop, V_1, V_2) according to transition matrices t1, t2 and Vt-1\n",
    "#       3. stop if error(Vt - V) is small\n",
    "#   - figure out the optimal strategy (V==V_stop), (V==V_1), (V==V_2) and plot the graph\n",
    "#   - repeat this for every cost level"
   ]
  },
  {
   "cell_type": "code",
   "execution_count": 2,
   "metadata": {
    "ExecuteTime": {
     "end_time": "2020-09-29T07:02:12.742991Z",
     "start_time": "2020-09-29T07:02:10.379087Z"
    }
   },
   "outputs": [],
   "source": [
    "# import packages\n",
    "import numpy as np\n",
    "import pandas as pd\n",
    "import matplotlib.pyplot as plt\n",
    "\n",
    "# set printing options\n",
    "np.set_printoptions(threshold=1200)\n",
    "pd.set_option('display.max_rows',500)\n",
    "pd.set_option('display.max_columns',500)\n",
    "pd.set_option('display.width',500)\n",
    "\n",
    "# set label size\n",
    "#plt.rcParams['font.size'] = 10\n",
    "plt.rcParams['axes.labelsize'] = 11\n",
    "#plt.rcParams['axes.labelweight'] = 'bold'\n",
    "#plt.rcParams['xtick.labelsize'] = 8\n",
    "#plt.rcParams['ytick.labelsize'] = 8\n",
    "#plt.rcParams['legend.fontsize'] = 10\n",
    "#plt.rcParams['figure.titlesize'] = 12"
   ]
  },
  {
   "cell_type": "code",
   "execution_count": 3,
   "metadata": {
    "ExecuteTime": {
     "end_time": "2020-09-29T07:02:12.755722Z",
     "start_time": "2020-09-29T07:02:12.746759Z"
    }
   },
   "outputs": [],
   "source": [
    "# combined code for conservative/confirmative/certainty bias\n",
    "\n",
    "# coefficients\n",
    "alpha_1 = 1 # update in the direction of more likely\n",
    "alpha_2 = 1 # update in the direction of less likely\n",
    "accuracy1 = 0.25 # prob of reveal for 1\n",
    "accuracy2 = 0.25 # prob of reveal for 2\n",
    "cost_vector = [5,5*2**0.5,10,10*2**0.5,20,20*2**0.5,40,40*2**0.5,80] # cost for investigation\n",
    "stop_cost = 0 # stop cost\n",
    "reward = 1000 # reward for getting the right state\n",
    "number = 1001 # number of grids\n",
    "p_grid = np.linspace(0,1,number,endpoint=True) # probability grid"
   ]
  },
  {
   "cell_type": "code",
   "execution_count": 4,
   "metadata": {
    "ExecuteTime": {
     "end_time": "2020-09-29T07:02:14.235693Z",
     "start_time": "2020-09-29T07:02:12.758715Z"
    }
   },
   "outputs": [
    {
     "data": {
      "image/png": "[encoded data removed]",
      "text/plain": [
       "<Figure size 432x288 with 1 Axes>"
      ]
     },
     "metadata": {
      "needs_background": "light"
     },
     "output_type": "display_data"
    }
   ],
   "source": [
    "for cost in cost_vector:\n",
    "    cost1 = cost # cost for investigating state 1 (symmetric)\n",
    "    cost2 = cost # cost for investigating state 2 (symmetric)\n",
    "\n",
    "\n",
    "    ############################### calculate the transition matrix ###############################\n",
    "    t1 = np.zeros((number, number))\n",
    "    t2 = np.zeros((number, number))\n",
    "\n",
    "\n",
    "    # if investigate state 1\n",
    "    for i in range(number):\n",
    "        \n",
    "        p = p_grid[i]\n",
    "        prob_reveal = p*accuracy1\n",
    "        posterior = p*(1-accuracy1)/(1 - prob_reveal)\n",
    "        \n",
    "        if p < 0.5: # update in the more likely direction\n",
    "            posterior = alpha_1*posterior + (1-alpha_1)*p\n",
    "        else: # update in the less likely direction\n",
    "            posterior = alpha_2*posterior + (1-alpha_2)*p \n",
    "            \n",
    "        no_signal = np.argmax(-(abs(p_grid - posterior))) # posterior for no-signal\n",
    "        t1[i,number-1] = prob_reveal\n",
    "        t1[i,no_signal] = 1 - prob_reveal\n",
    "        if no_signal == (number-1):\n",
    "            t1[i, no_signal] = 1\n",
    "\n",
    "\n",
    "    # if investigate state 2\n",
    "    for i in range(number):\n",
    "        p = p_grid[i]\n",
    "        prob_reveal = (1-p)*accuracy2\n",
    "        posterior = p/(1 - prob_reveal)\n",
    "        \n",
    "        if p >= 0.5: # update in the more likely direction           \n",
    "            posterior = alpha_1*posterior + (1-alpha_1)*p\n",
    "        else: # update in the less likely direction\n",
    "            posterior = alpha_2*posterior + (1-alpha_2)*p\n",
    "        \n",
    "        no_signal = np.argmax(-(abs(p_grid - posterior))) # posterior for no-signal\n",
    "        t2[i,number-1] = prob_reveal \n",
    "        t2[i,no_signal] = 1 - prob_reveal\n",
    "        if no_signal == (number-1):\n",
    "            t2[i,no_signal] = 1\n",
    "\n",
    "\n",
    "    ###################### dynamic programming for convergence of value function ######################\n",
    "            \n",
    "    # value function for stop\n",
    "    V_stop = reward * np.maximum(p_grid, 1-p_grid) # vslue of stop\n",
    "    V_stop[1:(number-1)] = V_stop[1:(number-1)] - stop_cost # minus stop cost for uncertainty bias\n",
    "\n",
    "\n",
    "    # Dynamic Programming for convergence\n",
    "    value = np.zeros(number) # initial v0\n",
    "    error = 0.0005 # maximum error allowed\n",
    "    limit = 100000000 # largest number of iterations\n",
    "    diff = 1 # keep track of error\n",
    "    count = 1 # keep track of number of iterations\n",
    "\n",
    "    while diff > error: # iterate until reach the maximum error allowed\n",
    "        V_1 = np.matmul(value,np.transpose(t1)) - cost1 # value of investigating state 1\n",
    "        V_2 = np.matmul(value,np.transpose(t2)) - cost2 # value of investigating state 2\n",
    "        V = np.maximum.reduce([V_stop,V_1,V_2]) # value of the optimal strategy\n",
    "        diff = max(abs(V- value)) # difference between Vt and Vt-1\n",
    "        count += 1\n",
    "        if count > limit: # exceed maximum number of iterations\n",
    "            break\n",
    "        else:\n",
    "            value = V # update Vt\n",
    "\n",
    "\n",
    "    ############################ optimal strategy and plotting ############################\n",
    "    \n",
    "    action_stop = (V_stop == value)\n",
    "    action_1 = (V_1 == value)\n",
    "    action_2 = (V_2 == value)\n",
    "    action_indifferent = np.logical_and(action_1+action_2 > 0, abs(V_1-V_2) < 0.03)\n",
    "    \n",
    "    # plot different investigation strtegy for different p-grid\n",
    "    plt.plot(p_grid, (cost_vector.index(cost)+1)*np.ma.masked_where(action_stop==False, action_stop),'k', linewidth=3, label='stop' if cost == cost_vector[0] else '')\n",
    "    plt.plot(p_grid, (cost_vector.index(cost)+1)*np.ma.masked_where(action_1==False, action_1),'r', linewidth=3, label='investigate 1' if cost == cost_vector[0] else '')\n",
    "    plt.plot(p_grid, (cost_vector.index(cost)+1)*np.ma.masked_where(action_2==False, action_2),'b', linewidth=3, label='investigate 2' if cost == cost_vector[0] else '')\n",
    "    plt.plot(p_grid, (cost_vector.index(cost)+1)*np.ma.masked_where(action_indifferent==False, action_indifferent),'w', linewidth=3)\n",
    "\n",
    "\n",
    "plt.axis([-0.05, 1.05, 0.2, 9.975]) #axis range\n",
    "plt.yticks(np.arange(1, 10, 1)) # add ticks\n",
    "plt.xlabel('Prior probability') # add x-axis label\n",
    "plt.ylabel('Cost per sample') # add y-axis label\n",
    "lgd = plt.legend(loc='upper center', bbox_to_anchor=(0.5, -0.15), fancybox=True, shadow=True, ncol=3) # add legend\n",
    "\n",
    "\n",
    "# plot title according to different model\n",
    "if alpha_1==alpha_2==1 and stop_cost==0:\n",
    "    plt.title('Optimal Strategy for benchmark model')\n",
    "elif alpha_1 < 1 and alpha_2 < 1 and stop_cost==0:\n",
    "    plt.title('Optimal Strategy for conservative update \\nwith alpha1={alpha_1} and alpha2={alpha_2}'.format(alpha_1=alpha_1,alpha_2=alpha_2))\n",
    "elif alpha_1 > 1 and alpha_2 < 1 and stop_cost==0:\n",
    "    plt.title('Optimal Strategy for confirmative update \\nwith alpha1={alpha_1} and alpha2={alpha_2}'.format(alpha_1=alpha_1,alpha_2=alpha_2))\n",
    "elif stop_cost!=0:\n",
    "    plt.title('Optimal Strategy for certainty bias \\nwith stop cost={stop_cost}'.format(stop_cost=stop_cost))\n",
    "\n",
    "\n",
    "# show the vertical lines in plot\n",
    "for i in np.linspace(0.1,0.9,5,endpoint=True):\n",
    "    plt.plot((i, i), (0, 9.5), 'k:', linewidth=1)\n",
    "\n",
    "#plt.savefig('certainty bias', bbox_extra_artists=[lgd], bbox_inches='tight', dpi=300)"
   ]
  },
  {
   "cell_type": "code",
   "execution_count": null,
   "metadata": {},
   "outputs": [],
   "source": []
  }
 ],
 "metadata": {
  "kernelspec": {
   "display_name": "Python 3",
   "language": "python",
   "name": "python3"
  },
  "language_info": {
   "codemirror_mode": {
    "name": "ipython",
    "version": 3
   },
   "file_extension": ".py",
   "mimetype": "text/x-python",
   "name": "python",
   "nbconvert_exporter": "python",
   "pygments_lexer": "ipython3",
   "version": "3.8.3"
  },
  "varInspector": {
   "cols": {
    "lenName": 16,
    "lenType": 16,
    "lenVar": 40
   },
   "kernels_config": {
    "python": {
     "delete_cmd_postfix": "",
     "delete_cmd_prefix": "del ",
     "library": "var_list.py",
     "varRefreshCmd": "print(var_dic_list())"
    },
    "r": {
     "delete_cmd_postfix": ") ",
     "delete_cmd_prefix": "rm(",
     "library": "var_list.r",
     "varRefreshCmd": "cat(var_dic_list()) "
    }
   },
   "types_to_exclude": [
    "module",
    "function",
    "builtin_function_or_method",
    "instance",
    "_Feature"
   ],
   "window_display": false
  }
 },
 "nbformat": 4,
 "nbformat_minor": 2
}
