{
 "cells": [
  {
   "cell_type": "code",
   "execution_count": 1,
   "metadata": {
    "ExecuteTime": {
     "end_time": "2020-10-28T02:49:49.775195Z",
     "start_time": "2020-10-28T02:49:47.042461Z"
    }
   },
   "outputs": [],
   "source": [
    "import numpy as np\n",
    "import pandas as pd\n",
    "from os import listdir\n",
    "from os.path import isfile, join\n",
    "import warnings\n",
    "warnings.filterwarnings('ignore')\n",
    "mypath= '../../../Data/RawData_OnlineExperiment/'\n",
    "oloc = open(\"../Output_Location (Simulated).txt\", \"r\").read()"
   ]
  },
  {
   "cell_type": "code",
   "execution_count": 7,
   "metadata": {
    "ExecuteTime": {
     "end_time": "2020-10-28T03:00:37.161407Z",
     "start_time": "2020-10-28T03:00:01.616449Z"
    }
   },
   "outputs": [
    {
     "name": "stdout",
     "output_type": "stream",
     "text": [
      "Running Step 2 for File A\n"
     ]
    }
   ],
   "source": [
    "for name in range(65,66):\n",
    "    print('Running Step 2 for File', chr(name))\n",
    "    step2_df = pd.read_csv('../Simulated_Data/simulation results '+chr(name)+'.csv', error_bad_lines=False)\n",
    "    \n",
    "    # Replace values (convert strings to numerical variables)\n",
    "    step2_df = step2_df.replace('red', 0)\n",
    "    step2_df = step2_df.replace('blue', 1)\n",
    "    step2_df = step2_df.rename(columns={\"setup_cost\": \"rounds\",})\n",
    "    step2_df = step2_df.rename(columns={\"guilty_suspect_chosen\": \"true_guilty_suspect\",})\n",
    "    for i in range(1,63,1):\n",
    "        step2_df.insert(len(step2_df.columns), 'outcome_'+str(i), np.nan)\n",
    "    step2_df['evidence_round'] = 0\n",
    "    step2_df['correct_suspect_accused'] = 0\n",
    "    step2_df['participant_ID'] = 0\n",
    "    step2_df['treatment'] = 0\n",
    "    step2_df['part'] = 2\n",
    "    step2_df['suspect_accused'] = 0\n",
    "    for i in range(1,63): \n",
    "        step2_df['timing_choice_'+str(i)] = 0\n",
    "\n",
    "    # Ennumeration values that is represented by the array index. Example: investigate_red will be stored as 0\n",
    "    values = ['investigate_red','investigate_blue','accuse_red','accuse_blue','advance_to_next_trial', 'evidence_shown']\n",
    "    for i in values: step2_df = step2_df.replace(i, values.index(i))\n",
    "\t\n",
    "    for key,value in step2_df.iterrows():\n",
    "        temp = step2_df.iloc[key, 7:69].to_list()\n",
    "        outcome = [x for x in temp if x != np.nan and (x == 5) or (x == 1) or (x == 0)]\n",
    "        outcome = [1 if i == 5 else 0 for i in outcome]\n",
    "        for i in range(1,len(outcome)+1):\n",
    "            step2_df['outcome_'+str(i)][key] = outcome[i-1]\n",
    "            \n",
    "    # Calculating the values for correct_suspect accused\n",
    "        if (2 in temp and value[4] == 0) or (3 in temp and value[4] == 1): \n",
    "            step2_df['correct_suspect_accused'][key] = 1 \n",
    "        if 2 in temp: step2_df['suspect_accused'][key] = 0\n",
    "        elif 3 in temp: step2_df['suspect_accused'][key] = 1\n",
    "\n",
    "    # ??? ASK NIHAR\n",
    "        if 5 in temp:\n",
    "            step2_df['evidence_round'][key] = temp.index(5)+1\n",
    "            temp.remove(5)\n",
    "            temp.append(np.nan)\n",
    "        else: step2_df['evidence_round'][key] = 0\n",
    "        temp = [x if x == 1 or x == 0 else np.nan for x in temp]\n",
    "        step2_df.iloc[key, 7:69] = temp\n",
    "\n",
    "    d3 = ['choice_'+str(i) for i in range(1,61)]\n",
    "    d4 = ['outcome_'+str(i) for i in range(1,61)]\n",
    "    d5 = ['timing_choice_'+str(i) for i in range(1,63)]\n",
    "    step2_df = step2_df.rename(columns={\"rounds\": \"setup_cost_red\",})\n",
    "    step2_df[\"setup_cost_blue\"] =  step2_df[\"setup_cost_red\"]\n",
    "    cols = ['participant_ID', 'treatment', 'part', 'trial_no', \n",
    "             'setup_cost_red', 'setup_cost_blue', 'red_prior_prob',\n",
    "            'true_guilty_suspect', 'suspect_accused']+d3+d4+d5+['correct_suspect_accused', 'evidence_round']\n",
    "    step2_df = step2_df[cols]\n",
    "\n",
    "    # Save output file\n",
    "    step2_df.to_csv(oloc+'Step2_'+chr(name)+'.csv', index=False)"
   ]
  },
  {
   "cell_type": "code",
   "execution_count": null,
   "metadata": {},
   "outputs": [],
   "source": []
  }
 ],
 "metadata": {
  "kernelspec": {
   "display_name": "Python 3",
   "language": "python",
   "name": "python3"
  },
  "language_info": {
   "codemirror_mode": {
    "name": "ipython",
    "version": 3
   },
   "file_extension": ".py",
   "mimetype": "text/x-python",
   "name": "python",
   "nbconvert_exporter": "python",
   "pygments_lexer": "ipython3",
   "version": "3.8.3"
  },
  "varInspector": {
   "cols": {
    "lenName": 16,
    "lenType": 16,
    "lenVar": 40
   },
   "kernels_config": {
    "python": {
     "delete_cmd_postfix": "",
     "delete_cmd_prefix": "del ",
     "library": "var_list.py",
     "varRefreshCmd": "print(var_dic_list())"
    },
    "r": {
     "delete_cmd_postfix": ") ",
     "delete_cmd_prefix": "rm(",
     "library": "var_list.r",
     "varRefreshCmd": "cat(var_dic_list()) "
    }
   },
   "types_to_exclude": [
    "module",
    "function",
    "builtin_function_or_method",
    "instance",
    "_Feature"
   ],
   "window_display": false
  }
 },
 "nbformat": 4,
 "nbformat_minor": 4
}
