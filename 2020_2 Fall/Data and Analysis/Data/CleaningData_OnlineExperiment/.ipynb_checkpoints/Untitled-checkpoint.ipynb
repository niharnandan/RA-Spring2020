{
 "cells": [
  {
   "cell_type": "code",
   "execution_count": null,
   "metadata": {},
   "outputs": [],
   "source": [
    "import numpy as np\n",
    "import pandas as pd\n",
    "from os import listdir\n",
    "from os.path import isfile, join\n",
    "import matplotlib.pyplot as plt\n",
    "import warnings\n",
    "import seaborn as sns\n",
    "sns.set_style(\"darkgrid\")\n",
    "warnings.filterwarnings('ignore')"
   ]
  },
  {
   "cell_type": "code",
   "execution_count": null,
   "metadata": {},
   "outputs": [],
   "source": [
    "folder = ''\n",
    "df = pd.read_csv(folder+'Task1_step3.csv')\n",
    "print(df.columns)\n",
    "df.head()\n",
    "data = []\n",
    "for key,value in df.iterrows():\n",
    "    info_b = value[:6].to_list()\n",
    "    info_e = value[6:8].to_list()\n",
    "    rounds = value[8:17].to_list()\n",
    "    rounds = [x for x in rounds if x == 1.0 or x == 0.0]\n",
    "    print(rounds)\n",
    "    suspect = []\n",
    "    post = value[5]\n",
    "    e_f = 0\n",
    "    e_s = -1\n",
    "    for i in range(len(rounds)):\n",
    "        suspect.append(rounds[i])\n",
    "        pg = 0.75 if suspect[-1] == 0 else 1\n",
    "        pi = 1 if suspect[-1] == 0 else 0.75\n",
    "        temp = [i+1, 0, suspect[-1], suspect[:-1].count(0.0), \n",
    "               suspect[:-1].count(1.0), e_f, e_s]\n",
    "        data.append(info_b+temp+[post]+info_e+[df['timing_choice_'+str(i+1)][key]])\n",
    "        post = post*pg/(post*pg + pi*(1-post))\n",
    "        e_f = int(value[17+i]) if e_f != 1 else 1\n",
    "        if e_f == 1: \n",
    "            e_s = value[7]\n",
    "        else: e_f = 1 if e_f == 1 and i != 0 else 0\n",
    "        post = value[7] if e_f == 1 else post\n",
    "    suspect.append(value[7])\n",
    "    temp = [i+2, 1, suspect[-1], suspect[:-1].count(0.0), suspect[:-1].count(1.0), e_f, e_s]\n",
    "    data.append(info_b+temp+[post]+info_e+[df['timing_choice_'+str(i+2)][key]])\n",
    "cols = ['participant_ID', 'treatment', 'part', 'trial_no', 'rounds',\n",
    "       'red_prior_prob', 'current_rounds', 'action_type', 'suspect', \n",
    "        'count_red_samples', 'count_blue_samples', 'evidence_found',\n",
    "       'evidence_suspect', 'posterior', 'true_guilty_suspect', 'suspect_accused',\n",
    "       'time']\n",
    "df2 = pd.DataFrame(data,columns=cols)\n",
    "df2.head()\n",
    "df2.to_csv('Task1_step4.csv', index=False)"
   ]
  }
 ],
 "metadata": {
  "kernelspec": {
   "display_name": "Python 3",
   "language": "python",
   "name": "python3"
  },
  "language_info": {
   "codemirror_mode": {
    "name": "ipython",
    "version": 3
   },
   "file_extension": ".py",
   "mimetype": "text/x-python",
   "name": "python",
   "nbconvert_exporter": "python",
   "pygments_lexer": "ipython3",
   "version": "3.8.3"
  },
  "varInspector": {
   "cols": {
    "lenName": 16,
    "lenType": 16,
    "lenVar": 40
   },
   "kernels_config": {
    "python": {
     "delete_cmd_postfix": "",
     "delete_cmd_prefix": "del ",
     "library": "var_list.py",
     "varRefreshCmd": "print(var_dic_list())"
    },
    "r": {
     "delete_cmd_postfix": ") ",
     "delete_cmd_prefix": "rm(",
     "library": "var_list.r",
     "varRefreshCmd": "cat(var_dic_list()) "
    }
   },
   "types_to_exclude": [
    "module",
    "function",
    "builtin_function_or_method",
    "instance",
    "_Feature"
   ],
   "window_display": false
  }
 },
 "nbformat": 4,
 "nbformat_minor": 4
}
