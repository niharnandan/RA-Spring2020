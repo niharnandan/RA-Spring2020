{
 "cells": [
  {
   "cell_type": "code",
   "execution_count": 1,
   "metadata": {
    "ExecuteTime": {
     "end_time": "2020-10-07T21:14:06.395023Z",
     "start_time": "2020-10-07T21:14:05.189610Z"
    }
   },
   "outputs": [],
   "source": [
    "import numpy as np\n",
    "import pandas as pd\n",
    "from os import listdir\n",
    "from os.path import isfile, join\n",
    "import warnings\n",
    "warnings.filterwarnings('ignore')"
   ]
  },
  {
   "cell_type": "code",
   "execution_count": 2,
   "metadata": {
    "ExecuteTime": {
     "end_time": "2020-10-07T21:14:06.504207Z",
     "start_time": "2020-10-07T21:14:06.424926Z"
    }
   },
   "outputs": [],
   "source": [
    "oloc = open(\"../Output_Location.txt\", \"r\").read()\n",
    "df = pd.read_csv(oloc+'Task1_step4.csv')\n",
    "players = list(set(df['participant_ID'].to_list()))"
   ]
  },
  {
   "cell_type": "code",
   "execution_count": 3,
   "metadata": {
    "ExecuteTime": {
     "end_time": "2020-09-29T00:39:02.640450Z",
     "start_time": "2020-09-29T00:39:01.048487Z"
    }
   },
   "outputs": [],
   "source": [
    "t1 = np.array([[int(i),0] for i in players])\n",
    "for key,value in df.iterrows():\n",
    "    if value[7] == 1:\n",
    "        if value[-2] == value[-3]:\n",
    "            t1[list(t1[:,0]).index(value[0]),1] += 1000"
   ]
  },
  {
   "cell_type": "code",
   "execution_count": 4,
   "metadata": {
    "ExecuteTime": {
     "end_time": "2020-09-29T00:39:02.649428Z",
     "start_time": "2020-09-29T00:39:02.643443Z"
    },
    "scrolled": true
   },
   "outputs": [
    {
     "name": "stdout",
     "output_type": "stream",
     "text": [
      "[[    1 19000]\n",
      " [    2 24000]\n",
      " [    3 16000]\n",
      " [    4 24000]\n",
      " [    5 21000]\n",
      " [    6 23000]\n",
      " [    7 21000]\n",
      " [    8 22000]\n",
      " [    9 23000]\n",
      " [   10 17000]\n",
      " [   11 21000]\n",
      " [   12 23000]\n",
      " [   13 18000]\n",
      " [   14 19000]\n",
      " [   15 20000]\n",
      " [   16 20000]\n",
      " [   17 23000]\n",
      " [   18 20000]\n",
      " [   19 20000]\n",
      " [   20 20000]\n",
      " [   21 17000]\n",
      " [   22 20000]\n",
      " [   23 19000]\n",
      " [   24 21000]\n",
      " [   25 21000]\n",
      " [   26 22000]\n",
      " [   27 19000]\n",
      " [   28 23000]\n",
      " [   29 20000]\n",
      " [   30 24000]\n",
      " [   31 19000]\n",
      " [   32 14000]\n",
      " [   33 17000]\n",
      " [   34 17000]\n",
      " [   35 17000]\n",
      " [   36 21000]\n",
      " [   37 18000]\n",
      " [   38 15000]\n",
      " [   39 20000]\n",
      " [   40 21000]\n",
      " [   41 21000]\n",
      " [   42 21000]\n",
      " [   43 19000]\n",
      " [   44  8000]\n",
      " [   45 22000]\n",
      " [   46 23000]\n",
      " [   47 20000]\n",
      " [   48 20000]\n",
      " [   49 20000]\n",
      " [   50 23000]\n",
      " [   51 23000]\n",
      " [   52 20000]\n",
      " [   53 22000]\n",
      " [   54 21000]\n",
      " [   55 20000]\n",
      " [   56 18000]\n",
      " [   57 22000]\n",
      " [   58 24000]\n",
      " [   59 18000]\n",
      " [   60  9000]\n",
      " [   61 11000]\n",
      " [   62 24000]\n",
      " [   63 19000]\n",
      " [   64 23000]\n",
      " [   65 21000]\n",
      " [   66 20000]\n",
      " [   67 19000]\n",
      " [   68 20000]\n",
      " [   69 20000]\n",
      " [   70 17000]\n",
      " [   71 22000]\n",
      " [   72 18000]\n",
      " [   73 21000]\n",
      " [   74 22000]\n",
      " [   75 20000]\n",
      " [   76 21000]\n",
      " [   77 16000]\n",
      " [   78 23000]\n",
      " [   79 18000]\n",
      " [   80 14000]\n",
      " [   81 23000]\n",
      " [   82 24000]\n",
      " [   83 19000]\n",
      " [   84 16000]\n",
      " [   85 21000]\n",
      " [   86  7000]\n",
      " [   87 19000]\n",
      " [   88 18000]\n",
      " [   89 20000]\n",
      " [   90 21000]\n",
      " [   91 24000]\n",
      " [   92 19000]\n",
      " [   93 18000]\n",
      " [   94 21000]\n",
      " [   95 22000]\n",
      " [   96 23000]\n",
      " [   97 25000]\n",
      " [   98 23000]\n",
      " [   99 22000]\n",
      " [  100 22000]\n",
      " [  101 24000]\n",
      " [  102 20000]\n",
      " [  103 22000]\n",
      " [  104 21000]\n",
      " [  105 19000]\n",
      " [  106 23000]\n",
      " [  107 21000]\n",
      " [  108 21000]\n",
      " [  109 25000]\n",
      " [  110 22000]\n",
      " [  111 17000]\n",
      " [  112 18000]\n",
      " [  113 21000]\n",
      " [  114 20000]\n",
      " [  115 15000]\n",
      " [  116 19000]\n",
      " [  117 19000]\n",
      " [  118 20000]\n",
      " [  119 20000]\n",
      " [  120 20000]\n",
      " [  121 18000]\n",
      " [  122 24000]\n",
      " [  123 20000]\n",
      " [  124 12000]\n",
      " [  125 19000]\n",
      " [  126 19000]\n",
      " [  127 18000]\n",
      " [  128 22000]\n",
      " [  129 17000]\n",
      " [  130 17000]\n",
      " [  131 19000]\n",
      " [  132 22000]\n",
      " [  133 17000]\n",
      " [  134 21000]\n",
      " [  135 22000]\n",
      " [  136 20000]\n",
      " [  137 19000]\n",
      " [  138 19000]\n",
      " [  139 20000]\n",
      " [  140 19000]\n",
      " [  141 21000]\n",
      " [  142 23000]\n",
      " [  143 13000]\n",
      " [  144 21000]\n",
      " [  145 22000]\n",
      " [  146 22000]\n",
      " [  147 19000]\n",
      " [  148 17000]\n",
      " [  149 17000]\n",
      " [  150 24000]\n",
      " [  151 22000]\n",
      " [  152 16000]\n",
      " [  153 15000]\n",
      " [  154 20000]\n",
      " [  155 22000]\n",
      " [  156 21000]\n",
      " [  157 22000]\n",
      " [  158 23000]\n",
      " [  159 22000]\n",
      " [  160 20000]\n",
      " [  161 19000]\n",
      " [  162 21000]\n",
      " [  163 16000]\n",
      " [  164 21000]\n",
      " [  165 20000]\n",
      " [  166 22000]\n",
      " [  167 17000]\n",
      " [  168 18000]\n",
      " [  169 20000]\n",
      " [  170 22000]\n",
      " [  171 18000]\n",
      " [  172 21000]\n",
      " [  173 17000]\n",
      " [  174 24000]\n",
      " [  175 19000]\n",
      " [  176 19000]\n",
      " [  177 19000]\n",
      " [  178 19000]\n",
      " [  179 18000]\n",
      " [  180 16000]\n",
      " [  181 23000]\n",
      " [  182 17000]\n",
      " [  183 21000]\n",
      " [  184 22000]\n",
      " [  185 18000]\n",
      " [  186 19000]\n",
      " [  187 20000]\n",
      " [  188 12000]\n",
      " [  189 23000]\n",
      " [  190 20000]\n",
      " [  191 19000]\n",
      " [  192 20000]\n",
      " [  193 18000]\n",
      " [  194 21000]\n",
      " [  195 23000]\n",
      " [  196 11000]\n",
      " [  197 24000]\n",
      " [  198 23000]\n",
      " [  199 21000]\n",
      " [  200 17000]\n",
      " [  201 23000]\n",
      " [  202 20000]\n",
      " [  203 19000]\n",
      " [  204 17000]\n",
      " [  205 19000]\n",
      " [  206 21000]\n",
      " [  207 21000]\n",
      " [  208 10000]\n",
      " [  209 20000]\n",
      " [  210 22000]\n",
      " [  211 22000]\n",
      " [  212 18000]\n",
      " [  213 21000]\n",
      " [  214 20000]\n",
      " [  215 21000]\n",
      " [  216 21000]\n",
      " [  217 19000]\n",
      " [  218 16000]\n",
      " [  219 17000]\n",
      " [  220 18000]\n",
      " [  221 23000]\n",
      " [  222 24000]\n",
      " [  223 20000]\n",
      " [  224 22000]\n",
      " [  225 17000]\n",
      " [  226 20000]\n",
      " [  227 22000]\n",
      " [  228 21000]\n",
      " [  229 19000]\n",
      " [  230 17000]\n",
      " [  231  9000]\n",
      " [  232 22000]\n",
      " [  233 19000]\n",
      " [  234 22000]\n",
      " [  235 21000]\n",
      " [  236 23000]\n",
      " [  237 18000]\n",
      " [  238 22000]\n",
      " [  239 19000]\n",
      " [  240 21000]\n",
      " [  241 20000]\n",
      " [  242 22000]\n",
      " [  243 22000]\n",
      " [  244 20000]\n",
      " [  245 20000]\n",
      " [  246 22000]\n",
      " [  247 23000]\n",
      " [  248 17000]\n",
      " [  249 19000]\n",
      " [  250 21000]\n",
      " [  251 18000]\n",
      " [  252 22000]\n",
      " [  253 21000]\n",
      " [  254 20000]\n",
      " [  255 22000]\n",
      " [  256 23000]\n",
      " [  257 16000]\n",
      " [  258 17000]\n",
      " [  259 17000]\n",
      " [  260 20000]\n",
      " [  261 18000]\n",
      " [  262 20000]\n",
      " [  263 20000]\n",
      " [  264 21000]\n",
      " [  265 21000]\n",
      " [  266 17000]\n",
      " [  267 18000]\n",
      " [  268 19000]\n",
      " [  269 21000]\n",
      " [  270 20000]\n",
      " [  271 20000]\n",
      " [  272 22000]\n",
      " [  273 23000]\n",
      " [  274 18000]\n",
      " [  275 17000]\n",
      " [  276 19000]\n",
      " [  277 21000]\n",
      " [  278 20000]\n",
      " [  279 22000]\n",
      " [  280 24000]\n",
      " [  281 22000]\n",
      " [  282 23000]\n",
      " [  283 20000]\n",
      " [  284 21000]\n",
      " [  285 21000]\n",
      " [  286 23000]\n",
      " [  287 20000]\n",
      " [  288 22000]\n",
      " [  289 22000]\n",
      " [  290 21000]\n",
      " [  291 21000]]\n"
     ]
    }
   ],
   "source": [
    "print(t1)"
   ]
  },
  {
   "cell_type": "code",
   "execution_count": 5,
   "metadata": {
    "ExecuteTime": {
     "end_time": "2020-10-07T21:22:26.235032Z",
     "start_time": "2020-10-07T21:22:26.198103Z"
    }
   },
   "outputs": [],
   "source": [
    "temp2 = pd.read_csv(oloc+'Task2_step4.csv')\n",
    "players = list(set(temp2['participant_ID'].to_list()))"
   ]
  },
  {
   "cell_type": "code",
   "execution_count": 6,
   "metadata": {
    "ExecuteTime": {
     "end_time": "2020-10-07T21:22:28.825122Z",
     "start_time": "2020-10-07T21:22:27.310926Z"
    }
   },
   "outputs": [],
   "source": [
    "t2 = np.array([[int(i),0] for i in players])\n",
    "for key,value in temp2.iterrows():\n",
    "    if value[8] == 1:\n",
    "        # suspect_accused == true_guilty_suspect\n",
    "        if value[-2] == value[-3]:\n",
    "            # 1000 - setup_cost_red*count_red_samples - setup_cost_blue*count_blue_samples\n",
    "            t2[list(t2[:,0]).index(value[0]),1] += 1500 - value[4]*value[10] - value[5]*value[11]\n",
    "        else:\n",
    "            t2[list(t2[:,0]).index(value[0]),1] += 500 - value[4]*value[10] - value[5]*value[11]"
   ]
  },
  {
   "cell_type": "code",
   "execution_count": 7,
   "metadata": {
    "ExecuteTime": {
     "end_time": "2020-10-07T21:22:34.737306Z",
     "start_time": "2020-10-07T21:22:34.731322Z"
    },
    "scrolled": true
   },
   "outputs": [
    {
     "name": "stdout",
     "output_type": "stream",
     "text": [
      "12500\n",
      "12500.0\n"
     ]
    }
   ],
   "source": [
    "print(np.max(t2[:,1]))\n",
    "print(np.mean(t2[:,1]))"
   ]
  },
  {
   "cell_type": "code",
   "execution_count": 8,
   "metadata": {
    "ExecuteTime": {
     "end_time": "2020-10-07T21:22:40.666195Z",
     "start_time": "2020-10-07T21:22:40.591363Z"
    }
   },
   "outputs": [],
   "source": [
    "temp3 = pd.read_csv(oloc+'Task3_step4.csv')\n",
    "players = list(set(temp3['participant_ID'].to_list()))"
   ]
  },
  {
   "cell_type": "code",
   "execution_count": 9,
   "metadata": {
    "ExecuteTime": {
     "end_time": "2020-10-07T21:22:44.363963Z",
     "start_time": "2020-10-07T21:22:41.096199Z"
    }
   },
   "outputs": [],
   "source": [
    "t3 = np.array([[int(i),0] for i in players])\n",
    "for key,value in temp3.iterrows():\n",
    "    if value[8] == 1:\n",
    "        if value[-2] == value[-3]:\n",
    "            t3[list(t3[:,0]).index(value[0]),1] += 1500 - value[4]*value[10] - value[5]*value[11]\n",
    "        else:\n",
    "            t3[list(t3[:,0]).index(value[0]),1] += 500 - value[4]*value[10] - value[5]*value[11]"
   ]
  },
  {
   "cell_type": "code",
   "execution_count": 10,
   "metadata": {
    "ExecuteTime": {
     "end_time": "2020-10-07T21:22:44.595344Z",
     "start_time": "2020-10-07T21:22:44.587375Z"
    }
   },
   "outputs": [
    {
     "name": "stdout",
     "output_type": "stream",
     "text": [
      "25000.0\n",
      "25000\n"
     ]
    }
   ],
   "source": [
    "print(np.mean(t3[:,1]))\n",
    "print(np.max(t3[:,1]))"
   ]
  },
  {
   "cell_type": "code",
   "execution_count": 11,
   "metadata": {
    "ExecuteTime": {
     "end_time": "2020-09-29T00:39:06.755349Z",
     "start_time": "2020-09-29T00:39:06.745372Z"
    }
   },
   "outputs": [],
   "source": [
    "df = pd.DataFrame(t3, columns=['participant_ID', 'task_3'])\n",
    "df['task_2'] = t2[:,1]\n",
    "df['task_1'] = t1[:,1]"
   ]
  },
  {
   "cell_type": "code",
   "execution_count": 12,
   "metadata": {
    "ExecuteTime": {
     "end_time": "2020-09-29T00:39:06.767317Z",
     "start_time": "2020-09-29T00:39:06.757342Z"
    }
   },
   "outputs": [],
   "source": [
    "df.to_csv(oloc+'payoff.csv', index=False)"
   ]
  },
  {
   "cell_type": "code",
   "execution_count": null,
   "metadata": {},
   "outputs": [],
   "source": []
  }
 ],
 "metadata": {
  "kernelspec": {
   "display_name": "Python 3",
   "language": "python",
   "name": "python3"
  },
  "language_info": {
   "codemirror_mode": {
    "name": "ipython",
    "version": 3
   },
   "file_extension": ".py",
   "mimetype": "text/x-python",
   "name": "python",
   "nbconvert_exporter": "python",
   "pygments_lexer": "ipython3",
   "version": "3.8.3"
  },
  "varInspector": {
   "cols": {
    "lenName": 16,
    "lenType": 16,
    "lenVar": 40
   },
   "kernels_config": {
    "python": {
     "delete_cmd_postfix": "",
     "delete_cmd_prefix": "del ",
     "library": "var_list.py",
     "varRefreshCmd": "print(var_dic_list())"
    },
    "r": {
     "delete_cmd_postfix": ") ",
     "delete_cmd_prefix": "rm(",
     "library": "var_list.r",
     "varRefreshCmd": "cat(var_dic_list()) "
    }
   },
   "types_to_exclude": [
    "module",
    "function",
    "builtin_function_or_method",
    "instance",
    "_Feature"
   ],
   "window_display": false
  }
 },
 "nbformat": 4,
 "nbformat_minor": 4
}
