{
 "cells": [
  {
   "cell_type": "code",
   "execution_count": 1,
   "metadata": {
    "ExecuteTime": {
     "end_time": "2020-10-07T21:14:06.395023Z",
     "start_time": "2020-10-07T21:14:05.189610Z"
    }
   },
   "outputs": [],
   "source": [
    "import numpy as np\n",
    "import pandas as pd\n",
    "from os import listdir\n",
    "from os.path import isfile, join\n",
    "import warnings\n",
    "warnings.filterwarnings('ignore')"
   ]
  },
  {
   "cell_type": "code",
   "execution_count": 2,
   "metadata": {
    "ExecuteTime": {
     "end_time": "2020-10-07T21:14:06.504207Z",
     "start_time": "2020-10-07T21:14:06.424926Z"
    }
   },
   "outputs": [],
   "source": [
    "oloc = open(\"../Output_Location.txt\", \"r\").read()\n",
    "df = pd.read_csv(oloc+'Task1_step4.csv')\n",
    "players = list(set(df['participant_ID'].to_list()))"
   ]
  },
  {
   "cell_type": "code",
   "execution_count": 11,
   "metadata": {
    "ExecuteTime": {
     "end_time": "2020-09-29T00:39:02.640450Z",
     "start_time": "2020-09-29T00:39:01.048487Z"
    }
   },
   "outputs": [],
   "source": [
    "t1 = np.array([[int(i),0] for i in players])\n",
    "for key,value in df.iterrows():\n",
    "    if value[7] == 1:\n",
    "        if value[-2] == value[-3]:\n",
    "            t1[list(t1[:,0]).index(value[0]),1] += 1000"
   ]
  },
  {
   "cell_type": "code",
   "execution_count": 12,
   "metadata": {
    "ExecuteTime": {
     "end_time": "2020-09-29T00:39:02.649428Z",
     "start_time": "2020-09-29T00:39:02.643443Z"
    },
    "scrolled": true
   },
   "outputs": [
    {
     "name": "stdout",
     "output_type": "stream",
     "text": [
      "[[    1 21000]\n",
      " [    2 21000]\n",
      " [    3 22000]\n",
      " [    4 23000]\n",
      " [    5 18000]\n",
      " [    6 20000]\n",
      " [    7 20000]\n",
      " [    8 19000]\n",
      " [    9 21000]\n",
      " [   10 19000]\n",
      " [   11 17000]\n",
      " [   12 21000]\n",
      " [   13 15000]\n",
      " [   14 20000]\n",
      " [   15 22000]\n",
      " [   16 23000]\n",
      " [   17 22000]\n",
      " [   18 22000]\n",
      " [   19 23000]\n",
      " [   20 21000]\n",
      " [   21 22000]\n",
      " [   22 22000]\n",
      " [   23 21000]\n",
      " [   24 18000]\n",
      " [   25 23000]\n",
      " [   26 24000]\n",
      " [   27 20000]\n",
      " [   28 19000]\n",
      " [   29 22000]\n",
      " [   30 23000]\n",
      " [   31 22000]\n",
      " [   32 20000]\n",
      " [   33 19000]\n",
      " [   34 21000]\n",
      " [   35 20000]\n",
      " [   36 20000]\n",
      " [   37 12000]\n",
      " [   38 19000]\n",
      " [   39 18000]\n",
      " [   40 17000]\n",
      " [   41 22000]\n",
      " [   42 23000]\n",
      " [   43 13000]\n",
      " [   44 22000]\n",
      " [   45 22000]\n",
      " [   46 15000]\n",
      " [   47 20000]\n",
      " [   48 22000]\n",
      " [   49 19000]\n",
      " [   50 20000]\n",
      " [   51 22000]\n",
      " [   52 22000]\n",
      " [   53 24000]\n",
      " [   54 19000]\n",
      " [   55 19000]\n",
      " [   56 16000]\n",
      " [   57 17000]\n",
      " [   58 18000]\n",
      " [   59 12000]\n",
      " [   60 19000]\n",
      " [   61 21000]\n",
      " [   62 21000]\n",
      " [   63 17000]\n",
      " [   64 23000]\n",
      " [   65 21000]\n",
      " [   66 21000]\n",
      " [   67 19000]\n",
      " [   68 17000]\n",
      " [   69 23000]\n",
      " [   70 24000]\n",
      " [   71 21000]\n",
      " [   72 19000]\n",
      " [   73 19000]\n",
      " [   74 22000]\n",
      " [   75 21000]\n",
      " [   76 18000]\n",
      " [   77 20000]\n",
      " [   78 22000]\n",
      " [   79 23000]\n",
      " [   80 18000]\n",
      " [   81 21000]\n",
      " [   82 20000]\n",
      " [   83 16000]\n",
      " [   84 18000]\n",
      " [   85 20000]\n",
      " [   86 21000]\n",
      " [   87 18000]\n",
      " [   88 18000]\n",
      " [   89 20000]\n",
      " [   90 23000]\n",
      " [   91 20000]\n",
      " [   92 21000]\n",
      " [   93 21000]\n",
      " [   94 23000]\n",
      " [   95 22000]\n",
      " [   96 21000]]\n"
     ]
    }
   ],
   "source": [
    "print(t1)"
   ]
  },
  {
   "cell_type": "code",
   "execution_count": 37,
   "metadata": {
    "ExecuteTime": {
     "end_time": "2020-10-07T21:22:26.235032Z",
     "start_time": "2020-10-07T21:22:26.198103Z"
    }
   },
   "outputs": [],
   "source": [
    "temp2 = pd.read_csv(oloc+'Task2_step4.csv')\n",
    "players = list(set(temp2['participant_ID'].to_list()))"
   ]
  },
  {
   "cell_type": "code",
   "execution_count": 38,
   "metadata": {
    "ExecuteTime": {
     "end_time": "2020-10-07T21:22:28.825122Z",
     "start_time": "2020-10-07T21:22:27.310926Z"
    }
   },
   "outputs": [],
   "source": [
    "t2 = np.array([[int(i),0] for i in players])\n",
    "for key,value in temp2.iterrows():\n",
    "    if value[8] == 1:\n",
    "        # suspect_accused == true_guilty_suspect\n",
    "        if value[-2] == value[-3]:\n",
    "            # 1000 - setup_cost_red*count_red_samples - setup_cost_blue*count_blue_samples\n",
    "            t2[list(t2[:,0]).index(value[0]),1] += 1500 - value[4]*value[10] - value[5]*value[11]\n",
    "        else:\n",
    "            t2[list(t2[:,0]).index(value[0]),1] += 500 - value[4]*value[10] - value[5]*value[11]"
   ]
  },
  {
   "cell_type": "code",
   "execution_count": 40,
   "metadata": {
    "ExecuteTime": {
     "end_time": "2020-10-07T21:22:34.737306Z",
     "start_time": "2020-10-07T21:22:34.731322Z"
    },
    "scrolled": true
   },
   "outputs": [
    {
     "name": "stdout",
     "output_type": "stream",
     "text": [
      "36585\n",
      "32324.635416666668\n"
     ]
    }
   ],
   "source": [
    "print(np.max(t2[:,1]))\n",
    "print(np.mean(t2[:,1]))"
   ]
  },
  {
   "cell_type": "code",
   "execution_count": 41,
   "metadata": {
    "ExecuteTime": {
     "end_time": "2020-10-07T21:22:40.666195Z",
     "start_time": "2020-10-07T21:22:40.591363Z"
    }
   },
   "outputs": [],
   "source": [
    "temp3 = pd.read_csv(oloc+'Task3_step4.csv')\n",
    "players = list(set(temp3['participant_ID'].to_list()))"
   ]
  },
  {
   "cell_type": "code",
   "execution_count": 42,
   "metadata": {
    "ExecuteTime": {
     "end_time": "2020-10-07T21:22:44.363963Z",
     "start_time": "2020-10-07T21:22:41.096199Z"
    }
   },
   "outputs": [],
   "source": [
    "t3 = np.array([[int(i),0] for i in players])\n",
    "for key,value in temp3.iterrows():\n",
    "    if value[8] == 1:\n",
    "        if value[-2] == value[-3]:\n",
    "            t3[list(t3[:,0]).index(value[0]),1] += 1500 - value[4]*value[10] - value[5]*value[11]\n",
    "        else:\n",
    "            t3[list(t3[:,0]).index(value[0]),1] += 500 - value[4]*value[10] - value[5]*value[11]"
   ]
  },
  {
   "cell_type": "code",
   "execution_count": 43,
   "metadata": {
    "ExecuteTime": {
     "end_time": "2020-10-07T21:22:44.595344Z",
     "start_time": "2020-10-07T21:22:44.587375Z"
    }
   },
   "outputs": [
    {
     "name": "stdout",
     "output_type": "stream",
     "text": [
      "64049.229166666664\n",
      "69858\n"
     ]
    }
   ],
   "source": [
    "print(np.mean(t3[:,1]))\n",
    "print(np.max(t3[:,1]))"
   ]
  },
  {
   "cell_type": "code",
   "execution_count": 19,
   "metadata": {
    "ExecuteTime": {
     "end_time": "2020-09-29T00:39:06.755349Z",
     "start_time": "2020-09-29T00:39:06.745372Z"
    }
   },
   "outputs": [],
   "source": [
    "df = pd.DataFrame(t3, columns=['participant_ID', 'task_3'])\n",
    "df['task_2'] = t2[:,1]\n",
    "df['task_1'] = t1[:,1]"
   ]
  },
  {
   "cell_type": "code",
   "execution_count": 20,
   "metadata": {
    "ExecuteTime": {
     "end_time": "2020-09-29T00:39:06.767317Z",
     "start_time": "2020-09-29T00:39:06.757342Z"
    }
   },
   "outputs": [],
   "source": [
    "df.to_csv(oloc+'payoff.csv', index=False)"
   ]
  },
  {
   "cell_type": "code",
   "execution_count": null,
   "metadata": {},
   "outputs": [],
   "source": []
  }
 ],
 "metadata": {
  "kernelspec": {
   "display_name": "Python 3",
   "language": "python",
   "name": "python3"
  },
  "language_info": {
   "codemirror_mode": {
    "name": "ipython",
    "version": 3
   },
   "file_extension": ".py",
   "mimetype": "text/x-python",
   "name": "python",
   "nbconvert_exporter": "python",
   "pygments_lexer": "ipython3",
   "version": "3.8.3"
  },
  "varInspector": {
   "cols": {
    "lenName": 16,
    "lenType": 16,
    "lenVar": 40
   },
   "kernels_config": {
    "python": {
     "delete_cmd_postfix": "",
     "delete_cmd_prefix": "del ",
     "library": "var_list.py",
     "varRefreshCmd": "print(var_dic_list())"
    },
    "r": {
     "delete_cmd_postfix": ") ",
     "delete_cmd_prefix": "rm(",
     "library": "var_list.r",
     "varRefreshCmd": "cat(var_dic_list()) "
    }
   },
   "types_to_exclude": [
    "module",
    "function",
    "builtin_function_or_method",
    "instance",
    "_Feature"
   ],
   "window_display": false
  }
 },
 "nbformat": 4,
 "nbformat_minor": 4
}