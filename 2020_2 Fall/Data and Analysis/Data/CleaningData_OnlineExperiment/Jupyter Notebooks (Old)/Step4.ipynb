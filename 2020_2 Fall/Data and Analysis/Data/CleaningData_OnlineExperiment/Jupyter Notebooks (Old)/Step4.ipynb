{
 "cells": [
  {
   "cell_type": "code",
   "execution_count": 2,
   "metadata": {
    "ExecuteTime": {
     "end_time": "2020-11-01T06:39:22.952647Z",
     "start_time": "2020-11-01T06:39:22.947660Z"
    }
   },
   "outputs": [],
   "source": [
    "import numpy as np\n",
    "import pandas as pd\n",
    "from os import listdir\n",
    "from os.path import isfile, join\n",
    "import matplotlib.pyplot as plt\n",
    "import warnings\n",
    "import seaborn as sns\n",
    "sns.set_style(\"darkgrid\")\n",
    "warnings.filterwarnings('ignore')"
   ]
  },
  {
   "cell_type": "code",
   "execution_count": 5,
   "metadata": {
    "ExecuteTime": {
     "end_time": "2020-11-01T06:46:40.427227Z",
     "start_time": "2020-11-01T06:46:36.315153Z"
    }
   },
   "outputs": [
    {
     "name": "stdout",
     "output_type": "stream",
     "text": [
      "Index(['participant_ID', 'treatment', 'part', 'trial_no', 'rounds',\n",
      "       'red_prior_prob', 'true_guilty_suspect', 'suspect_accused', 'choice_1',\n",
      "       'choice_2', 'choice_3', 'choice_4', 'choice_5', 'choice_6', 'choice_7',\n",
      "       'choice_8', 'choice_9', 'outcome_1', 'outcome_2', 'outcome_3',\n",
      "       'outcome_4', 'outcome_5', 'outcome_6', 'outcome_7', 'outcome_8',\n",
      "       'outcome_9', 'timing_choice_1', 'timing_choice_2', 'timing_choice_3',\n",
      "       'timing_choice_4', 'timing_choice_5', 'timing_choice_6',\n",
      "       'timing_choice_7', 'timing_choice_8', 'timing_choice_9',\n",
      "       'timing_choice_10', 'timing_choice_11', 'correct_suspect_accused',\n",
      "       'evidence_round'],\n",
      "      dtype='object')\n"
     ]
    }
   ],
   "source": [
    "folder = ''\n",
    "oloc = open(\"../Output_Location.txt\", \"r\").read()\n",
    "temp1 = pd.read_csv(oloc+'Task1_step3.csv')\n",
    "print(temp1.columns)\n",
    "temp1.head()\n",
    "data = []\n",
    "for key,value in temp1.iterrows():\n",
    "    info_b = value[:6].to_list()\n",
    "    info_e = value[6:8].to_list()\n",
    "    rounds = value[8:17].to_list()\n",
    "    rounds = [x for x in rounds if x == 1.0 or x == 0.0]\n",
    "    suspect = []\n",
    "    post = value[5]\n",
    "    e_f = 0\n",
    "    e_s = -1\n",
    "    for i in range(len(rounds)):\n",
    "        suspect.append(rounds[i])\n",
    "        pg = 0.75 if suspect[-1] == 0 else 1\n",
    "        pi = 1 if suspect[-1] == 0 else 0.75\n",
    "        temp = [i+1, 0, suspect[-1], suspect[:-1].count(0.0), \n",
    "               suspect[:-1].count(1.0), e_f, e_s]\n",
    "        data.append(info_b+temp+[post]+info_e+[temp1['timing_choice_'+str(i+1)][key]])\n",
    "        post = post*pg/(post*pg + pi*(1-post))\n",
    "        e_f = int(value[17+i]) if e_f != 1 else 1\n",
    "        if e_f == 1: \n",
    "            e_s = value[7]\n",
    "        else: e_f = 1 if e_f == 1 and i != 0 else 0\n",
    "        post = value[7] if e_f == 1 else post\n",
    "    temp = [i+2, 1, value[7], suspect.count(0.0), suspect.count(1.0), e_f, e_s]\n",
    "    data.append(info_b+temp+[post]+info_e+[temp1['timing_choice_'+str(i+2)][key]])\n",
    "cols = ['participant_ID', 'treatment', 'part', 'trial_no', 'rounds',\n",
    "       'red_prior_prob', 'current_rounds', 'action_type', 'suspect', \n",
    "        'count_red_samples', 'count_blue_samples', 'evidence_found',\n",
    "       'evidence_suspect', 'posterior', 'true_guilty_suspect', 'suspect_accused',\n",
    "       'time']\n",
    "df2 = pd.DataFrame(data,columns=cols)\n",
    "df2.head()\n",
    "df2.to_csv(oloc+'Task1_step4.csv', index=False)"
   ]
  },
  {
   "cell_type": "code",
   "execution_count": 3,
   "metadata": {
    "ExecuteTime": {
     "end_time": "2020-10-28T21:09:16.364672Z",
     "start_time": "2020-10-28T21:09:13.119421Z"
    }
   },
   "outputs": [
    {
     "name": "stdout",
     "output_type": "stream",
     "text": [
      "Index(['participant_ID', 'treatment', 'part', 'trial_no', 'setup_cost_red',\n",
      "       'setup_cost_blue', 'red_prior_prob', 'true_guilty_suspect',\n",
      "       'suspect_accused', 'choice_1',\n",
      "       ...\n",
      "       'timing_choice_55', 'timing_choice_56', 'timing_choice_57',\n",
      "       'timing_choice_58', 'timing_choice_59', 'timing_choice_60',\n",
      "       'timing_choice_61', 'timing_choice_62', 'correct_suspect_accused',\n",
      "       'evidence_round'],\n",
      "      dtype='object', length=193)\n"
     ]
    }
   ],
   "source": [
    "folder = ''\n",
    "temp1 = pd.read_csv(oloc+'Task2_step3.csv')\n",
    "print(temp1.columns)\n",
    "temp1.head()\n",
    "data = []\n",
    "for key,value in temp1.iterrows():\n",
    "    info_b = value[:7].to_list()\n",
    "    info_e = value[7:9].to_list()\n",
    "    rounds = value[9:69].to_list()\n",
    "    rounds = [x for x in rounds if x == 1.0 or x == 0.0]\n",
    "    suspect = []\n",
    "    post = value[6]\n",
    "    #if value[3] == 1: print(len(rounds))\n",
    "    e_f = 0\n",
    "    e_s = -1\n",
    "    i = 1\n",
    "    for i in range(1,len(rounds)):\n",
    "        suspect.append(rounds[i])\n",
    "        pg = 0.75 if suspect[-1] == 0 else 1\n",
    "        pi = 1 if suspect[-1] == 0 else 0.75\n",
    "        temp = [i, 0, suspect[-1], suspect[:-1].count(0.0), \n",
    "               suspect[:-1].count(1.0), e_f, e_s]\n",
    "        data.append(info_b+temp+[post]+info_e+[temp1['timing_choice_'+str(i+1)][key]])\n",
    "        post = post*pg/(post*pg + pi*(1-post))\n",
    "        \n",
    "        e_f = int(value[69+i]) if e_f != 1 else 1\n",
    "        if e_f == 1: \n",
    "            e_s = value[8]\n",
    "        else: e_f = 1 if e_f == 1 and i != 0 else 0\n",
    "        post = value[7] if e_f == 1 else post\n",
    "    if len(rounds) == 1 or len(rounds) == 0: i = 0\n",
    "    suspect.append(value[7])\n",
    "    temp = [i+1, 1, suspect[-1], suspect[:-1].count(0.0), suspect[:-1].count(1.0), e_f, e_s]\n",
    "    data.append(info_b+temp+[post]+info_e+[temp1['timing_choice_'+str(i+2)][key]])\n",
    "cols = ['participant_ID', 'treatment', 'part', 'trial_no', 'setup_cost_red', 'setup_cost_blue',\n",
    "       'red_prior_prob', 'current_rounds', 'action_type', 'suspect', \n",
    "        'count_red_samples', 'count_blue_samples', 'evidence_found',\n",
    "       'evidence_suspect', 'posterior', 'true_guilty_suspect', 'suspect_accused',\n",
    "       'time']\n",
    "df2 = pd.DataFrame(data,columns=cols)\n",
    "df2.head()\n",
    "df2 = df2.fillna(0)\n",
    "df2.to_csv(oloc+'Task2_step4.csv', index=False)"
   ]
  },
  {
   "cell_type": "code",
   "execution_count": 4,
   "metadata": {
    "ExecuteTime": {
     "end_time": "2020-10-28T21:09:22.473221Z",
     "start_time": "2020-10-28T21:09:16.366649Z"
    }
   },
   "outputs": [
    {
     "name": "stdout",
     "output_type": "stream",
     "text": [
      "Index(['choice_1', 'choice_2', 'choice_3', 'choice_4', 'choice_5', 'choice_6',\n",
      "       'choice_7', 'choice_8', 'choice_9', 'choice_10', 'choice_11',\n",
      "       'choice_12', 'choice_13', 'choice_14', 'choice_15', 'choice_16',\n",
      "       'choice_17', 'choice_18', 'choice_19', 'choice_20', 'choice_21',\n",
      "       'choice_22', 'choice_23', 'choice_24', 'choice_25', 'choice_26',\n",
      "       'choice_27', 'choice_28', 'choice_29', 'choice_30', 'choice_31',\n",
      "       'choice_32', 'choice_33', 'choice_34', 'choice_35', 'choice_36',\n",
      "       'choice_37', 'choice_38', 'choice_39', 'choice_40', 'choice_41',\n",
      "       'choice_42', 'choice_43', 'choice_44', 'choice_45', 'choice_46',\n",
      "       'choice_47', 'choice_48', 'choice_49', 'choice_50', 'choice_51',\n",
      "       'choice_52', 'choice_53', 'choice_54', 'choice_55', 'choice_56',\n",
      "       'choice_57', 'choice_58', 'choice_59', 'choice_60'],\n",
      "      dtype='object')\n"
     ]
    }
   ],
   "source": [
    "folder = ''\n",
    "temp1 = pd.read_csv(oloc+'Task3_step3.csv')\n",
    "print(temp1.columns[9:69])\n",
    "data = []\n",
    "for key,value in temp1.iterrows():\n",
    "    info_b = value[:7].to_list()\n",
    "    info_e = value[7:9].to_list()\n",
    "    rounds = value[9:69].to_list()\n",
    "    rounds = [x for x in rounds if x == 1.0 or x == 0.0]\n",
    "    suspect = []\n",
    "    post = value[6]\n",
    "    \n",
    "    e_f = 0\n",
    "    e_s = -1\n",
    "    i = 1\n",
    "    for i in range(1,len(rounds)):\n",
    "        suspect.append(rounds[i])\n",
    "        pg = 0.75 if suspect[-1] == 0 else 1\n",
    "        pi = 1 if suspect[-1] == 0 else 0.75\n",
    "        temp = [i, 0, suspect[-1], suspect[:-1].count(0.0), \n",
    "               suspect[:-1].count(1.0), e_f, e_s]\n",
    "        data.append(info_b+temp+[post]+info_e+[temp1['timing_choice_'+str(i+1)][key]])\n",
    "        post = post*pg/(post*pg + pi*(1-post))\n",
    "        \n",
    "        e_f = int(value[69+i]) if e_f != 1 else 1\n",
    "        if e_f == 1: \n",
    "            e_s = value[8]\n",
    "        else: e_f = 1 if e_f == 1 and i != 0 else 0\n",
    "        post = value[7] if e_f == 1 else post\n",
    "    if len(rounds) == 1 or len(rounds) == 0: i = 0\n",
    "    suspect.append(value[7])\n",
    "    temp = [i+1, 1, suspect[-1], suspect[:-1].count(0.0), suspect[:-1].count(1.0), e_f, e_s]\n",
    "    data.append(info_b+temp+[post]+info_e+[temp1['timing_choice_'+str(i+2)][key]])\n",
    "cols = ['participant_ID', 'treatment', 'part', 'trial_no', 'setup_cost_red', 'setup_cost_blue',\n",
    "       'red_prior_prob', 'current_rounds', 'action_type', 'suspect', \n",
    "        'count_red_samples', 'count_blue_samples', 'evidence_found',\n",
    "       'evidence_suspect', 'posterior', 'true_guilty_suspect', 'suspect_accused',\n",
    "       'time']\n",
    "df2 = pd.DataFrame(data,columns=cols)\n",
    "df2.head()\n",
    "df2 = df2.fillna(0)\n",
    "df2.to_csv(oloc+'Task3_step4.csv', index=False)"
   ]
  }
 ],
 "metadata": {
  "kernelspec": {
   "display_name": "Python 3",
   "language": "python",
   "name": "python3"
  },
  "language_info": {
   "codemirror_mode": {
    "name": "ipython",
    "version": 3
   },
   "file_extension": ".py",
   "mimetype": "text/x-python",
   "name": "python",
   "nbconvert_exporter": "python",
   "pygments_lexer": "ipython3",
   "version": "3.8.3"
  },
  "varInspector": {
   "cols": {
    "lenName": 16,
    "lenType": 16,
    "lenVar": 40
   },
   "kernels_config": {
    "python": {
     "delete_cmd_postfix": "",
     "delete_cmd_prefix": "del ",
     "library": "var_list.py",
     "varRefreshCmd": "print(var_dic_list())"
    },
    "r": {
     "delete_cmd_postfix": ") ",
     "delete_cmd_prefix": "rm(",
     "library": "var_list.r",
     "varRefreshCmd": "cat(var_dic_list()) "
    }
   },
   "types_to_exclude": [
    "module",
    "function",
    "builtin_function_or_method",
    "instance",
    "_Feature"
   ],
   "window_display": false
  }
 },
 "nbformat": 4,
 "nbformat_minor": 4
}
