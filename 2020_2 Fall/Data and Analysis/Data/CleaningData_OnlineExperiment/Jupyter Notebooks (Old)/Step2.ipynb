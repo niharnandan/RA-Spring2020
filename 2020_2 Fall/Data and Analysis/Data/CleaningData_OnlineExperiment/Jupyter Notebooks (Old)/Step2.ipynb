{
 "cells": [
  {
   "cell_type": "code",
   "execution_count": 22,
   "metadata": {
    "ExecuteTime": {
     "end_time": "2020-11-01T06:35:01.197745Z",
     "start_time": "2020-11-01T06:35:00.801762Z"
    }
   },
   "outputs": [],
   "source": [
    "import numpy as np\n",
    "import pandas as pd\n",
    "from os import listdir\n",
    "from os.path import isfile, join\n",
    "import warnings\n",
    "warnings.filterwarnings('ignore')\n",
    "mypath= '../../../Data/RawData_OnlineExperiment/'\n",
    "oloc = open(\"../Output_Location.txt\", \"r\").read()\n",
    "temp1 = pd.read_csv(oloc+'Task1.csv')\n",
    "temp2 = pd.read_csv(oloc+'Task2.csv')\n",
    "temp3 = pd.read_csv(oloc+'Task3.csv')"
   ]
  },
  {
   "cell_type": "code",
   "execution_count": 23,
   "metadata": {
    "ExecuteTime": {
     "end_time": "2020-11-01T06:35:01.432301Z",
     "start_time": "2020-11-01T06:35:01.358273Z"
    }
   },
   "outputs": [],
   "source": [
    "d_columns = ['choice_'+str(i) for i in range(12,63)]\n",
    "d_columns += ['timing_choice_'+str(i) for i in range(12,63)]\n",
    "d_columns += ['evidence_red_'+str(i) for i in range(10,31)]\n",
    "d_columns += ['evidence_blue_'+str(i) for i in range(10,31)]\n",
    "d_columns += ['num_evidences_total', 'final_evidence', 'bonus_earned', \n",
    "        'trial_chosen_for_bonus', 'total_bonus_paid_cents', 'setup_cost_investigate_red',\n",
    "              'setup_cost_investigate_blue', 'timing_valid', 'timing_error', \n",
    "             'choice_10', 'choice_11']\n",
    "temp1 = temp1.drop(columns = d_columns)\n",
    "temp1 = temp1.replace('red', 0)\n",
    "temp1 = temp1.replace('blue', 1)\n",
    "temp1 = temp1.rename(columns={\"setup_cost\": \"rounds\",})# 'guilty_suspect_chosen': 'true_guilty_suspect'})\n",
    "temp1['true_guilty_suspect'] = 0\n",
    "temp1['evidence_round'] = 0\n",
    "for i in range(9,0,-1):\n",
    "    temp1.insert(48, 'outcome_'+str(i), np.nan)\n",
    "temp1.correct_suspect_accused = temp1.correct_suspect_accused.astype(int)\n",
    "\n",
    "c = ['choice_' + str(i) for i in range(1,12)]\n",
    "temp = ['investigate_red','investigate_blue','accuse_red','accuse_blue','advance_to_next_trial']\n",
    "\n",
    "for i in temp:\n",
    "    temp1 = temp1.replace(i, temp.index(i))"
   ]
  },
  {
   "cell_type": "code",
   "execution_count": 24,
   "metadata": {
    "ExecuteTime": {
     "end_time": "2020-11-01T06:35:29.768745Z",
     "start_time": "2020-11-01T06:35:09.509335Z"
    }
   },
   "outputs": [],
   "source": [
    "evr_col = temp1.columns.to_list().index('evidence_red_1')\n",
    "evb_col = temp1.columns.to_list().index('evidence_blue_1')\n",
    "out_col = temp1.columns.to_list().index('outcome_1')\n",
    "choice_col = temp1.columns.to_list().index('choice_1')\n",
    "for key,value in temp1.iterrows():\n",
    "    temp1['true_guilty_suspect'][key] = temp1['suspect_accused'][key] ^ 1 if temp1['correct_suspect_accused'][key] == 0 else temp1['suspect_accused'][key]\n",
    "    temp = []\n",
    "    counter_r = 0\n",
    "    counter_b = 0\n",
    "    for i in range(9):\n",
    "        if value[i+5] == 0:\n",
    "            temp.append(1) if value[evr_col+counter_r] == 1 else temp.append(0)\n",
    "            counter_r += 1\n",
    "        elif value[i+5] == 1:\n",
    "            temp.append(1) if value[evb_col+counter_b] == 1 else temp.append(0)\n",
    "            counter_b += 1\n",
    "    for i in range(1,len(temp)+1):\n",
    "        temp1['outcome_'+str(i)][key] = temp[i-1]\n",
    "    \n",
    "    temp = temp1.iloc[key, out_col:].to_list()\n",
    "    temp1['evidence_round'][key] = temp.index(1.0)+1 if 1 in temp else 0\n",
    "    \n",
    "    temp = temp1.iloc[key, choice_col:choice_col+9].to_list()\n",
    "    temp = [x if x == 1 or x == 0 else np.nan for x in temp]\n",
    "    temp1.iloc[key, choice_col:choice_col+9] = temp\n",
    "\n",
    "temp1.head()\n",
    "\n",
    "d_columns = ['evidence_red_1', 'evidence_red_2', 'evidence_red_3', \n",
    "        'evidence_red_4', 'evidence_red_5', 'evidence_red_6', \n",
    "        'evidence_red_7', 'evidence_red_8', 'evidence_red_9', \n",
    "        'evidence_blue_1', 'evidence_blue_2', 'evidence_blue_3', \n",
    "        'evidence_blue_4', 'evidence_blue_5', 'evidence_blue_6', \n",
    "        'evidence_blue_7', 'evidence_blue_8', 'evidence_blue_9']\n",
    "temp1 = temp1.drop(columns = d_columns)\n",
    "\n",
    "cols = ['participant_ID', 'treatment', 'part', 'trial_no', \n",
    "         'rounds', 'red_prior_prob',\n",
    "        'true_guilty_suspect', 'suspect_accused',  \n",
    "        'choice_1', 'choice_2', 'choice_3', 'choice_4', 'choice_5', \n",
    "        'choice_6', 'choice_7', 'choice_8', 'choice_9', 'outcome_1', 'outcome_2',\n",
    "        'outcome_3', 'outcome_4', 'outcome_5', 'outcome_6', 'outcome_7', 'outcome_8', 'outcome_9',\n",
    "        'timing_choice_1', 'timing_choice_2', \n",
    "        'timing_choice_3', 'timing_choice_4', 'timing_choice_5', \n",
    "        'timing_choice_6', 'timing_choice_7', 'timing_choice_8', \n",
    "        'timing_choice_9', 'timing_choice_10', 'timing_choice_11', \n",
    "        \n",
    "        'correct_suspect_accused', 'evidence_round']\n",
    "temp1 = temp1[cols]\n",
    "temp1.to_csv(oloc+'Task1_step2.csv', index=False)"
   ]
  },
  {
   "cell_type": "code",
   "execution_count": 3,
   "metadata": {
    "ExecuteTime": {
     "end_time": "2020-10-28T21:03:35.717638Z",
     "start_time": "2020-10-28T21:02:20.154687Z"
    }
   },
   "outputs": [],
   "source": [
    "folder = ''\n",
    "temp1 = pd.read_csv(oloc+'Task2.csv')\n",
    "drop_columns = ['num_evidences_total', 'final_evidence', 'bonus_earned', \n",
    "        'trial_chosen_for_bonus', 'total_bonus_paid_cents', 'timing_valid', 'timing_error']\n",
    "num_rounds = 60\n",
    "temp1 = temp1.drop(columns = drop_columns)\n",
    "temp1 = temp1.replace('red', 0)\n",
    "temp1 = temp1.replace('blue', 1)\n",
    "temp1['true_guilty_suspect'] = 0\n",
    "temp1['evidence_round'] = 0\n",
    "\n",
    "for i in range(num_rounds,0,-1):\n",
    "    temp1.insert(68, 'outcome_'+str(i), np.nan)\n",
    "temp1.correct_suspect_accused = temp1.correct_suspect_accused.astype(int)\n",
    "\n",
    "temp = ['investigate_red','investigate_blue','accuse_red','accuse_blue','advance_to_next_trial']\n",
    "\n",
    "for i in temp:\n",
    "    temp1 = temp1.replace(i, temp.index(i))\n",
    "temp1.astype({'suspect_accused': 'int'}).dtypes\n",
    "temp1.astype({'correct_suspect_accused': 'int'}).dtypes\n",
    "p_count = 0\n",
    "for key,value in temp1.iterrows():\n",
    "    temp1['true_guilty_suspect'][key] = int(temp1['suspect_accused'][key]) ^ 1 if temp1['correct_suspect_accused'][key] == 0 else temp1['suspect_accused'][key]\n",
    "    temp = []\n",
    "    counter_r = 0\n",
    "    counter_b = 0\n",
    "    for i in range(num_rounds):\n",
    "        if value[i+7] == 0:\n",
    "            temp.append(1) if value[191+counter_r] == 1 else temp.append(0)\n",
    "            counter_r += 1\n",
    "        elif value[i+7] == 1:\n",
    "            temp.append(1) if value[221+counter_b] == 1 else temp.append(0)\n",
    "            counter_b += 1\n",
    "    for i in range(1,len(temp)+1):\n",
    "        temp1['outcome_'+str(i)][key] = temp[i-1]\n",
    "    \n",
    "    temp = temp1.iloc[key, 68:130].to_list()\n",
    "    temp1['evidence_round'][key] = temp.index(1.0)+1 if 1 in temp else 0\n",
    "    \n",
    "    \n",
    "    temp = temp1.iloc[key, 7:67].to_list()\n",
    "    temp = [x if x == 1 or x == 0 else np.nan for x in temp]\n",
    "    temp1.iloc[key, 7:67] = temp\n",
    "\n",
    "temp1.head()\n",
    "d1 = ['evidence_red_'+str(i) for i in range(1,31)]\n",
    "d2 = ['evidence_blue_'+str(i) for i in range(1,31)]\n",
    "d3 = ['choice_'+str(i) for i in range(1,61)]\n",
    "d4 = ['outcome_'+str(i) for i in range(1,61)]\n",
    "d5 = ['timing_choice_'+str(i) for i in range(1,63)]\n",
    "d_columns = d1+d2\n",
    "temp1 = temp1.drop(columns = d_columns)\n",
    "temp1['setup_cost_blue'] = temp1['setup_cost']\n",
    "temp1 = temp1.rename(columns={\"setup_cost\": \"setup_cost_red\",})# 'guilty_suspect_chosen': 'true_guilty_suspect'})\n",
    "cols = ['participant_ID', 'treatment', 'part', 'trial_no', \n",
    "         'setup_cost_red', 'setup_cost_blue', 'red_prior_prob',\n",
    "        'true_guilty_suspect', 'suspect_accused']+d3+d4+d5+['correct_suspect_accused', 'evidence_round']\n",
    "temp1 = temp1[cols]\n",
    "temp1.to_csv(oloc+'Task2_step2.csv', index=False)"
   ]
  },
  {
   "cell_type": "code",
   "execution_count": 4,
   "metadata": {
    "ExecuteTime": {
     "end_time": "2020-10-28T21:06:16.402843Z",
     "start_time": "2020-10-28T21:03:35.719597Z"
    }
   },
   "outputs": [],
   "source": [
    "folder = ''\n",
    "temp1 = pd.read_csv(oloc+'Task3.csv')\n",
    "drop_columns = ['num_evidences_total', 'final_evidence', 'bonus_earned', \n",
    "        'trial_chosen_for_bonus', 'total_bonus_paid_cents', 'timing_valid', 'timing_error']\n",
    "num_rounds = 60\n",
    "temp1 = temp1.drop(columns = drop_columns)\n",
    "temp1 = temp1.replace('red', 0)\n",
    "temp1 = temp1.replace('blue', 1)\n",
    "temp1['true_guilty_suspect'] = 0\n",
    "temp1['evidence_round'] = 0\n",
    "\n",
    "for i in range(num_rounds,0,-1):\n",
    "    temp1.insert(68, 'outcome_'+str(i), np.nan)\n",
    "temp1.correct_suspect_accused = temp1.correct_suspect_accused.astype(int)\n",
    "\n",
    "temp = ['investigate_red','investigate_blue','accuse_red','accuse_blue','advance_to_next_trial']\n",
    "\n",
    "for i in temp:\n",
    "    temp1 = temp1.replace(i, temp.index(i))\n",
    "temp1.astype({'suspect_accused': 'int'}).dtypes\n",
    "temp1.astype({'correct_suspect_accused': 'int'}).dtypes\n",
    "p_count = 0\n",
    "for key,value in temp1.iterrows():\n",
    "    temp1['true_guilty_suspect'][key] = int(temp1['suspect_accused'][key]) ^ 1 if temp1['correct_suspect_accused'][key] == 0 else temp1['suspect_accused'][key]\n",
    "    temp = []\n",
    "    counter_r = 0\n",
    "    counter_b = 0\n",
    "    for i in range(num_rounds):\n",
    "        if value[i+7] == 0:\n",
    "            temp.append(1) if value[191+counter_r] == 1 else temp.append(0)\n",
    "            counter_r += 1\n",
    "        elif value[i+7] == 1:\n",
    "            temp.append(1) if value[221+counter_b] == 1 else temp.append(0)\n",
    "            counter_b += 1\n",
    "    for i in range(1,len(temp)+1):\n",
    "        temp1['outcome_'+str(i)][key] = temp[i-1]\n",
    "    \n",
    "    temp = temp1.iloc[key, 68:130].to_list()\n",
    "    temp1['evidence_round'][key] = temp.index(1.0)+1 if 1 in temp else 0\n",
    "    \n",
    "    \n",
    "    temp = temp1.iloc[key, 7:67].to_list()\n",
    "    temp = [x if x == 1 or x == 0 else np.nan for x in temp]\n",
    "    temp1.iloc[key, 7:67] = temp\n",
    "\n",
    "temp1.head()\n",
    "d1 = ['evidence_red_'+str(i) for i in range(1,31)]\n",
    "d2 = ['evidence_blue_'+str(i) for i in range(1,31)]\n",
    "d3 = ['choice_'+str(i) for i in range(1,61)]\n",
    "d4 = ['outcome_'+str(i) for i in range(1,61)]\n",
    "d5 = ['timing_choice_'+str(i) for i in range(1,63)]\n",
    "d_columns = d1+d2\n",
    "temp1 = temp1.drop(columns = d_columns)\n",
    "temp1 = temp1.rename(columns={\"setup_cost_investigate_red\": \"setup_cost_red\",\n",
    "                             \"setup_cost_investigate_blue\": \"setup_cost_blue\"})# 'guilty_suspect_chosen': 'true_guilty_suspect'})\n",
    "cols = ['participant_ID', 'treatment', 'part', 'trial_no', \n",
    "         'setup_cost_red', 'setup_cost_blue', 'red_prior_prob',\n",
    "        'true_guilty_suspect', 'suspect_accused']+d3+d4+d5+['correct_suspect_accused', 'evidence_round']\n",
    "temp1 = temp1[cols]\n",
    "temp1.to_csv(oloc+'Task3_step2.csv', index=False)"
   ]
  },
  {
   "cell_type": "code",
   "execution_count": null,
   "metadata": {},
   "outputs": [],
   "source": []
  }
 ],
 "metadata": {
  "kernelspec": {
   "display_name": "Python 3",
   "language": "python",
   "name": "python3"
  },
  "language_info": {
   "codemirror_mode": {
    "name": "ipython",
    "version": 3
   },
   "file_extension": ".py",
   "mimetype": "text/x-python",
   "name": "python",
   "nbconvert_exporter": "python",
   "pygments_lexer": "ipython3",
   "version": "3.8.3"
  },
  "varInspector": {
   "cols": {
    "lenName": 16,
    "lenType": 16,
    "lenVar": 40
   },
   "kernels_config": {
    "python": {
     "delete_cmd_postfix": "",
     "delete_cmd_prefix": "del ",
     "library": "var_list.py",
     "varRefreshCmd": "print(var_dic_list())"
    },
    "r": {
     "delete_cmd_postfix": ") ",
     "delete_cmd_prefix": "rm(",
     "library": "var_list.r",
     "varRefreshCmd": "cat(var_dic_list()) "
    }
   },
   "types_to_exclude": [
    "module",
    "function",
    "builtin_function_or_method",
    "instance",
    "_Feature"
   ],
   "window_display": false
  }
 },
 "nbformat": 4,
 "nbformat_minor": 4
}
