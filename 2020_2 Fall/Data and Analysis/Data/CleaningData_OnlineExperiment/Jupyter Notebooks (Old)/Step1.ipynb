{
 "cells": [
  {
   "cell_type": "code",
   "execution_count": 1,
   "metadata": {
    "ExecuteTime": {
     "end_time": "2020-10-28T21:01:21.849542Z",
     "start_time": "2020-10-28T21:01:20.494602Z"
    }
   },
   "outputs": [],
   "source": [
    "import numpy as np\n",
    "import pandas as pd\n",
    "from os import listdir\n",
    "from os.path import isfile, join\n",
    "import warnings\n",
    "warnings.filterwarnings('ignore')"
   ]
  },
  {
   "cell_type": "code",
   "execution_count": 2,
   "metadata": {
    "ExecuteTime": {
     "end_time": "2020-10-28T21:01:21.865513Z",
     "start_time": "2020-10-28T21:01:21.850541Z"
    }
   },
   "outputs": [],
   "source": [
    "mypath= '../RawData_OnlineExperiment/'\n",
    "files = [f for f in listdir(mypath)]\n",
    "oloc = open(\"../Output_Location.txt\", \"r\").read()"
   ]
  },
  {
   "cell_type": "code",
   "execution_count": 3,
   "metadata": {
    "ExecuteTime": {
     "end_time": "2020-10-28T21:01:49.033326Z",
     "start_time": "2020-10-28T21:01:21.867464Z"
    }
   },
   "outputs": [
    {
     "name": "stdout",
     "output_type": "stream",
     "text": [
      "trial_no                       18700\n",
      "block_name                     18700\n",
      "setup_cost                      9350\n",
      "setup_cost_investigate_red      9350\n",
      "setup_cost_investigate_blue     9350\n",
      "                               ...  \n",
      "correct_suspect_accused        18700\n",
      "bonus_earned                       0\n",
      "trial_chosen_for_bonus             0\n",
      "total_bonus_paid_cents             0\n",
      "participant_ID                 18700\n",
      "Length: 201, dtype: int64\n",
      "trial_no                       18700\n",
      "block_name                     18700\n",
      "setup_cost                      9350\n",
      "setup_cost_investigate_red      9350\n",
      "setup_cost_investigate_blue     9350\n",
      "                               ...  \n",
      "correct_suspect_accused        18700\n",
      "bonus_earned                       0\n",
      "trial_chosen_for_bonus             0\n",
      "total_bonus_paid_cents             0\n",
      "participant_ID                 18700\n",
      "Length: 201, dtype: int64\n"
     ]
    }
   ],
   "source": [
    "temp = [0]*len(files)\n",
    "sum = 0\n",
    "p_count = 0\n",
    "for i in range(len(files)):\n",
    "    temp[i] = pd.read_csv(mypath+files[i])\n",
    "    temp[i] = temp[i].dropna(subset=['block_name'])\n",
    "    p_count += 1\n",
    "    temp[i]['participant_ID'] = p_count\n",
    "    sum += temp[i].count()\n",
    "print(sum)\n",
    "for i in range(len(files)-1):\n",
    "    temp[0] = temp[0].append(temp[i+1], ignore_index=True, sort=False)\n",
    "print(temp[0].count())\n",
    "temp1 = temp[0].copy(deep = True)\n",
    "temp1['part'] = 0\n",
    "temp1['treatment'] = 0\n",
    "cols = ['treatment']\n",
    "[temp1.columns.get_loc(c) for c in cols if c in temp1]\n",
    "for key,value in temp1.iterrows():\n",
    "    if 'part1' in value[1]: temp1['part'][key] = 1\n",
    "    elif 'part2' in value[1]: temp1['part'][key] = 2\n",
    "    else: temp1['part'][key] = 3\n",
    "    \n",
    "    if 'guilty' in value[1]: temp1['treatment'][key] = 1\n",
    "    else: temp1['treatment'][key] = 0\n",
    "temp1 = temp1.drop(columns=['block_name'])\n",
    "temp1.head()\n",
    "for i in range(1,4):\n",
    "    cols = temp1.columns.tolist()\n",
    "    cols.remove('participant_ID')\n",
    "    cols = ['participant_ID'] + cols\n",
    "    temp1 = temp1[cols]\n",
    "    temp2 = temp1.loc[temp1['part'] == i]\n",
    "    temp2.to_csv(oloc+'Task'+str(i)+'.csv', index=False)"
   ]
  },
  {
   "cell_type": "code",
   "execution_count": null,
   "metadata": {},
   "outputs": [],
   "source": []
  }
 ],
 "metadata": {
  "kernelspec": {
   "display_name": "Python 3",
   "language": "python",
   "name": "python3"
  },
  "language_info": {
   "codemirror_mode": {
    "name": "ipython",
    "version": 3
   },
   "file_extension": ".py",
   "mimetype": "text/x-python",
   "name": "python",
   "nbconvert_exporter": "python",
   "pygments_lexer": "ipython3",
   "version": "3.8.3"
  },
  "varInspector": {
   "cols": {
    "lenName": 16,
    "lenType": 16,
    "lenVar": 40
   },
   "kernels_config": {
    "python": {
     "delete_cmd_postfix": "",
     "delete_cmd_prefix": "del ",
     "library": "var_list.py",
     "varRefreshCmd": "print(var_dic_list())"
    },
    "r": {
     "delete_cmd_postfix": ") ",
     "delete_cmd_prefix": "rm(",
     "library": "var_list.r",
     "varRefreshCmd": "cat(var_dic_list()) "
    }
   },
   "types_to_exclude": [
    "module",
    "function",
    "builtin_function_or_method",
    "instance",
    "_Feature"
   ],
   "window_display": false
  }
 },
 "nbformat": 4,
 "nbformat_minor": 4
}
