{
 "cells": [
  {
   "cell_type": "code",
   "execution_count": 1,
   "metadata": {
    "ExecuteTime": {
     "end_time": "2020-11-04T02:53:50.022734Z",
     "start_time": "2020-11-04T02:53:50.020577Z"
    }
   },
   "outputs": [],
   "source": [
    "## RUN SUMMARY STATISTICS FOR A DATASET (TASK 1)\n",
    "# Updated on 2020_11_03"
   ]
  },
  {
   "cell_type": "code",
   "execution_count": 2,
   "metadata": {
    "ExecuteTime": {
     "end_time": "2020-11-04T02:53:51.397301Z",
     "start_time": "2020-11-04T02:53:50.024797Z"
    }
   },
   "outputs": [],
   "source": [
    "# IMPORT PACKAGES\n",
    "import pandas as pd\n",
    "import numpy as np\n",
    "import matplotlib.pyplot as plt\n",
    "import seaborn as sns\n",
    "import json\n",
    "sns.set_style(\"darkgrid\")"
   ]
  },
  {
   "cell_type": "code",
   "execution_count": 3,
   "metadata": {
    "ExecuteTime": {
     "end_time": "2020-11-04T02:53:51.485190Z",
     "start_time": "2020-11-04T02:53:51.400408Z"
    },
    "scrolled": true
   },
   "outputs": [
    {
     "data": {
      "text/html": [
       "<div>\n",
       "<style scoped>\n",
       "    .dataframe tbody tr th:only-of-type {\n",
       "        vertical-align: middle;\n",
       "    }\n",
       "\n",
       "    .dataframe tbody tr th {\n",
       "        vertical-align: top;\n",
       "    }\n",
       "\n",
       "    .dataframe thead th {\n",
       "        text-align: right;\n",
       "    }\n",
       "</style>\n",
       "<table border=\"1\" class=\"dataframe\">\n",
       "  <thead>\n",
       "    <tr style=\"text-align: right;\">\n",
       "      <th></th>\n",
       "      <th>participant_ID</th>\n",
       "      <th>treatment</th>\n",
       "      <th>part</th>\n",
       "      <th>trial_no</th>\n",
       "      <th>rounds</th>\n",
       "      <th>red_prior_prob</th>\n",
       "      <th>current_rounds</th>\n",
       "      <th>action_type</th>\n",
       "      <th>suspect</th>\n",
       "      <th>count_red_samples</th>\n",
       "      <th>count_blue_samples</th>\n",
       "      <th>evidence_found</th>\n",
       "      <th>evidence_suspect</th>\n",
       "      <th>posterior</th>\n",
       "      <th>true_guilty_suspect</th>\n",
       "      <th>suspect_accused</th>\n",
       "      <th>time</th>\n",
       "    </tr>\n",
       "  </thead>\n",
       "  <tbody>\n",
       "    <tr>\n",
       "      <td>0</td>\n",
       "      <td>1.0</td>\n",
       "      <td>1.0</td>\n",
       "      <td>1.0</td>\n",
       "      <td>1.0</td>\n",
       "      <td>1.0</td>\n",
       "      <td>0.5</td>\n",
       "      <td>1</td>\n",
       "      <td>0</td>\n",
       "      <td>0.0</td>\n",
       "      <td>0</td>\n",
       "      <td>0</td>\n",
       "      <td>0</td>\n",
       "      <td>-1.0</td>\n",
       "      <td>0.500000</td>\n",
       "      <td>0.0</td>\n",
       "      <td>0.0</td>\n",
       "      <td>4654.1816</td>\n",
       "    </tr>\n",
       "    <tr>\n",
       "      <td>1</td>\n",
       "      <td>1.0</td>\n",
       "      <td>1.0</td>\n",
       "      <td>1.0</td>\n",
       "      <td>1.0</td>\n",
       "      <td>1.0</td>\n",
       "      <td>0.5</td>\n",
       "      <td>2</td>\n",
       "      <td>1</td>\n",
       "      <td>0.0</td>\n",
       "      <td>1</td>\n",
       "      <td>0</td>\n",
       "      <td>0</td>\n",
       "      <td>-1.0</td>\n",
       "      <td>0.428571</td>\n",
       "      <td>0.0</td>\n",
       "      <td>0.0</td>\n",
       "      <td>13857.2739</td>\n",
       "    </tr>\n",
       "    <tr>\n",
       "      <td>2</td>\n",
       "      <td>1.0</td>\n",
       "      <td>1.0</td>\n",
       "      <td>1.0</td>\n",
       "      <td>2.0</td>\n",
       "      <td>3.0</td>\n",
       "      <td>0.1</td>\n",
       "      <td>1</td>\n",
       "      <td>0</td>\n",
       "      <td>1.0</td>\n",
       "      <td>0</td>\n",
       "      <td>0</td>\n",
       "      <td>0</td>\n",
       "      <td>-1.0</td>\n",
       "      <td>0.100000</td>\n",
       "      <td>1.0</td>\n",
       "      <td>1.0</td>\n",
       "      <td>3317.6681</td>\n",
       "    </tr>\n",
       "    <tr>\n",
       "      <td>3</td>\n",
       "      <td>1.0</td>\n",
       "      <td>1.0</td>\n",
       "      <td>1.0</td>\n",
       "      <td>2.0</td>\n",
       "      <td>3.0</td>\n",
       "      <td>0.1</td>\n",
       "      <td>2</td>\n",
       "      <td>0</td>\n",
       "      <td>1.0</td>\n",
       "      <td>0</td>\n",
       "      <td>1</td>\n",
       "      <td>0</td>\n",
       "      <td>-1.0</td>\n",
       "      <td>0.129032</td>\n",
       "      <td>1.0</td>\n",
       "      <td>1.0</td>\n",
       "      <td>5101.5863</td>\n",
       "    </tr>\n",
       "    <tr>\n",
       "      <td>4</td>\n",
       "      <td>1.0</td>\n",
       "      <td>1.0</td>\n",
       "      <td>1.0</td>\n",
       "      <td>2.0</td>\n",
       "      <td>3.0</td>\n",
       "      <td>0.1</td>\n",
       "      <td>3</td>\n",
       "      <td>0</td>\n",
       "      <td>1.0</td>\n",
       "      <td>0</td>\n",
       "      <td>2</td>\n",
       "      <td>0</td>\n",
       "      <td>-1.0</td>\n",
       "      <td>0.164948</td>\n",
       "      <td>1.0</td>\n",
       "      <td>1.0</td>\n",
       "      <td>6735.5187</td>\n",
       "    </tr>\n",
       "  </tbody>\n",
       "</table>\n",
       "</div>"
      ],
      "text/plain": [
       "   participant_ID  treatment  part  trial_no  rounds  red_prior_prob  \\\n",
       "0             1.0        1.0   1.0       1.0     1.0             0.5   \n",
       "1             1.0        1.0   1.0       1.0     1.0             0.5   \n",
       "2             1.0        1.0   1.0       2.0     3.0             0.1   \n",
       "3             1.0        1.0   1.0       2.0     3.0             0.1   \n",
       "4             1.0        1.0   1.0       2.0     3.0             0.1   \n",
       "\n",
       "   current_rounds  action_type  suspect  count_red_samples  \\\n",
       "0               1            0      0.0                  0   \n",
       "1               2            1      0.0                  1   \n",
       "2               1            0      1.0                  0   \n",
       "3               2            0      1.0                  0   \n",
       "4               3            0      1.0                  0   \n",
       "\n",
       "   count_blue_samples  evidence_found  evidence_suspect  posterior  \\\n",
       "0                   0               0              -1.0   0.500000   \n",
       "1                   0               0              -1.0   0.428571   \n",
       "2                   0               0              -1.0   0.100000   \n",
       "3                   1               0              -1.0   0.129032   \n",
       "4                   2               0              -1.0   0.164948   \n",
       "\n",
       "   true_guilty_suspect  suspect_accused        time  \n",
       "0                  0.0              0.0   4654.1816  \n",
       "1                  0.0              0.0  13857.2739  \n",
       "2                  1.0              1.0   3317.6681  \n",
       "3                  1.0              1.0   5101.5863  \n",
       "4                  1.0              1.0   6735.5187  "
      ]
     },
     "execution_count": 3,
     "metadata": {},
     "output_type": "execute_result"
    }
   ],
   "source": [
    "# IMPORT DATA TASK 1 (HUMAN)\n",
    "temp1 = pd.read_csv('../Output/Task1_step4.csv')\n",
    "db = temp1\n",
    "temp1.head()"
   ]
  },
  {
   "cell_type": "code",
   "execution_count": 4,
   "metadata": {
    "ExecuteTime": {
     "end_time": "2020-11-04T02:53:51.490921Z",
     "start_time": "2020-11-04T02:53:51.488434Z"
    }
   },
   "outputs": [],
   "source": [
    "## CHECK THE FINAL BELIEFS ##"
   ]
  },
  {
   "cell_type": "code",
   "execution_count": 5,
   "metadata": {
    "ExecuteTime": {
     "end_time": "2020-11-04T02:53:53.248755Z",
     "start_time": "2020-11-04T02:53:51.492761Z"
    }
   },
   "outputs": [],
   "source": [
    "# CREATE VECTOR OF \"final beliefs\" (only when the action is \"accuse\")\n",
    "fin = []\n",
    "for key,value in temp1.iterrows():\n",
    "    if value[7] == 1.0:\n",
    "        fin.append(temp1['posterior'][key])"
   ]
  },
  {
   "cell_type": "code",
   "execution_count": 6,
   "metadata": {
    "ExecuteTime": {
     "end_time": "2020-11-04T02:53:53.949750Z",
     "start_time": "2020-11-04T02:53:53.251219Z"
    }
   },
   "outputs": [
    {
     "data": {
      "image/png": "[encoded data removed]",
      "text/plain": [
       "<Figure size 432x288 with 1 Axes>"
      ]
     },
     "metadata": {
      "needs_background": "light"
     },
     "output_type": "display_data"
    },
    {
     "data": {
      "image/png": "[encoded data removed]",
      "text/plain": [
       "<Figure size 432x288 with 1 Axes>"
      ]
     },
     "metadata": {
      "needs_background": "light"
     },
     "output_type": "display_data"
    }
   ],
   "source": [
    "# PLOT FINAL BELIEFS\n",
    "plt.hist(fin, bins=101)\n",
    "plt.show()\n",
    "plt.hist(fin, bins=15)\n",
    "plt.show()"
   ]
  },
  {
   "cell_type": "code",
   "execution_count": 7,
   "metadata": {
    "ExecuteTime": {
     "end_time": "2020-11-04T02:53:53.956107Z",
     "start_time": "2020-11-04T02:53:53.953552Z"
    }
   },
   "outputs": [],
   "source": [
    "##################################################"
   ]
  },
  {
   "cell_type": "markdown",
   "metadata": {},
   "source": [
    "LIST OF CONDITIONS"
   ]
  },
  {
   "cell_type": "code",
   "execution_count": 8,
   "metadata": {
    "ExecuteTime": {
     "end_time": "2020-11-04T02:53:53.965453Z",
     "start_time": "2020-11-04T02:53:53.958955Z"
    }
   },
   "outputs": [
    {
     "data": {
      "text/plain": [
       "[[0.1, 1],\n",
       " [0.1, 3],\n",
       " [0.1, 5],\n",
       " [0.1, 7],\n",
       " [0.1, 9],\n",
       " [0.3, 1],\n",
       " [0.3, 3],\n",
       " [0.3, 5],\n",
       " [0.3, 7],\n",
       " [0.3, 9],\n",
       " [0.5, 1],\n",
       " [0.5, 3],\n",
       " [0.5, 5],\n",
       " [0.5, 7],\n",
       " [0.5, 9],\n",
       " [0.7, 1],\n",
       " [0.7, 3],\n",
       " [0.7, 5],\n",
       " [0.7, 7],\n",
       " [0.7, 9],\n",
       " [0.9, 1],\n",
       " [0.9, 3],\n",
       " [0.9, 5],\n",
       " [0.9, 7],\n",
       " [0.9, 9]]"
      ]
     },
     "execution_count": 8,
     "metadata": {},
     "output_type": "execute_result"
    }
   ],
   "source": [
    "vector_prior   = [0.1, 0.3, 0.5, 0.7, 0.9]\n",
    "vector_samples = [1, 3, 5, 7, 9]\n",
    "\n",
    "table_condition=[];\n",
    "for i_prior in vector_prior:\n",
    "    for i_samples in vector_samples:\n",
    "        table_condition.append([i_prior, i_samples])\n",
    "\n",
    "n_conditions = len(table_condition)\n",
    "\n",
    "table_condition"
   ]
  },
  {
   "cell_type": "code",
   "execution_count": 9,
   "metadata": {
    "ExecuteTime": {
     "end_time": "2020-11-04T02:53:53.970693Z",
     "start_time": "2020-11-04T02:53:53.967380Z"
    }
   },
   "outputs": [],
   "source": [
    "## CALCULATE SUMMARY STATISITCS ##"
   ]
  },
  {
   "cell_type": "markdown",
   "metadata": {},
   "source": [
    "LIST OF DESIRED VARIABLES OF INTEREST\n",
    "\n",
    "Summary statistics (aggregate and for each condition)\n",
    "1. Percentage correct answer\n",
    "2. Percentage evidence found\n",
    "3. Percentage confirmatory in round 1\n",
    "4. Percentage confirmatory overall (defined wrt the prior)\n",
    "\n",
    "Searching behavior\n",
    "1. Percentage confirmatory search as a function of round (x-axis) and condition (lines: low/high prior, n_days)\n",
    "\n",
    "Action behavior\n",
    "1. Proability of accusing red as a function of the true posterior probability\n",
    "2. Separate based on the initial prior\n",
    "3. Separate based on the number of samples\n"
   ]
  },
  {
   "cell_type": "code",
   "execution_count": 10,
   "metadata": {
    "ExecuteTime": {
     "end_time": "2020-11-04T02:53:53.978276Z",
     "start_time": "2020-11-04T02:53:53.973631Z"
    }
   },
   "outputs": [
    {
     "name": "stdout",
     "output_type": "stream",
     "text": [
      "[[1 2]\n",
      " [3 4]]\n"
     ]
    }
   ],
   "source": [
    "# create a matrix\n",
    "test = [[1,2], [3,4]]\n",
    "print(np.matrix(test))"
   ]
  },
  {
   "cell_type": "code",
   "execution_count": 11,
   "metadata": {
    "ExecuteTime": {
     "end_time": "2020-11-04T02:53:53.982964Z",
     "start_time": "2020-11-04T02:53:53.980517Z"
    }
   },
   "outputs": [],
   "source": [
    "##################################################"
   ]
  },
  {
   "cell_type": "code",
   "execution_count": null,
   "metadata": {
    "ExecuteTime": {
     "end_time": "2020-10-29T23:47:51.222436Z",
     "start_time": "2020-10-29T23:47:51.213545Z"
    }
   },
   "outputs": [],
   "source": []
  },
  {
   "cell_type": "code",
   "execution_count": 12,
   "metadata": {
    "ExecuteTime": {
     "end_time": "2020-11-04T02:53:54.708696Z",
     "start_time": "2020-11-04T02:53:53.986584Z"
    }
   },
   "outputs": [
    {
     "name": "stdout",
     "output_type": "stream",
     "text": [
      "SUMMARY STATISTIC\n",
      "[[0.824 0.    0.647 0.647]\n",
      " [0.845 0.091 0.636 0.643]\n",
      " [0.872 0.246 0.652 0.621]\n",
      " [0.914 0.428 0.631 0.572]\n",
      " [0.888 0.497 0.695 0.547]\n",
      " [0.727 0.    0.674 0.674]\n",
      " [0.786 0.059 0.652 0.635]\n",
      " [0.824 0.23  0.706 0.645]\n",
      " [0.77  0.385 0.663 0.592]\n",
      " [0.866 0.439 0.684 0.594]\n",
      " [0.556 0.    0.5   0.5  ]\n",
      " [0.722 0.075 0.5   0.5  ]\n",
      " [0.679 0.225 0.5   0.5  ]\n",
      " [0.802 0.299 0.5   0.5  ]\n",
      " [0.802 0.433 0.5   0.5  ]\n",
      " [0.62  0.    0.61  0.61 ]\n",
      " [0.754 0.107 0.647 0.617]\n",
      " [0.754 0.273 0.658 0.618]\n",
      " [0.754 0.251 0.652 0.598]\n",
      " [0.834 0.455 0.631 0.61 ]\n",
      " [0.791 0.    0.658 0.658]\n",
      " [0.877 0.123 0.642 0.624]\n",
      " [0.888 0.283 0.684 0.611]\n",
      " [0.866 0.369 0.658 0.583]\n",
      " [0.92  0.422 0.668 0.552]]\n",
      "CONFIRMATORY BEHAVIOR OVER ROUNDS\n",
      "[list([0.647]) list([0.636, 0.642, 0.652])\n",
      " list([0.652, 0.658, 0.631, 0.589, 0.559])\n",
      " list([0.631, 0.62, 0.62, 0.608, 0.523, 0.511, 0.4])\n",
      " list([0.695, 0.658, 0.658, 0.577, 0.475, 0.434, 0.414, 0.427, 0.33])\n",
      " list([0.674]) list([0.652, 0.674, 0.578])\n",
      " list([0.706, 0.668, 0.652, 0.603, 0.585])\n",
      " list([0.663, 0.668, 0.679, 0.559, 0.517, 0.496, 0.477])\n",
      " list([0.684, 0.722, 0.636, 0.618, 0.622, 0.544, 0.489, 0.429, 0.455])\n",
      " list([0.5]) list([0.5, 0.5, 0.5]) list([0.5, 0.5, 0.5, 0.5, 0.5])\n",
      " list([0.5, 0.5, 0.5, 0.5, 0.5, 0.5, 0.5])\n",
      " list([0.5, 0.5, 0.5, 0.5, 0.5, 0.5, 0.5, 0.5, 0.5]) list([0.61])\n",
      " list([0.647, 0.626, 0.578]) list([0.658, 0.674, 0.631, 0.578, 0.529])\n",
      " list([0.652, 0.631, 0.658, 0.637, 0.503, 0.558, 0.526])\n",
      " list([0.631, 0.684, 0.674, 0.678, 0.544, 0.601, 0.569, 0.5, 0.5])\n",
      " list([0.658]) list([0.642, 0.642, 0.588])\n",
      " list([0.684, 0.636, 0.642, 0.54, 0.526])\n",
      " list([0.658, 0.642, 0.636, 0.61, 0.571, 0.452, 0.425])\n",
      " list([0.668, 0.674, 0.652, 0.529, 0.582, 0.507, 0.456, 0.376, 0.351])]\n",
      "[list([187]) list([187, 187, 187]) list([187, 187, 187, 168, 152])\n",
      " list([187, 187, 187, 171, 149, 131, 115])\n",
      " list([187, 187, 187, 163, 139, 122, 116, 110, 100]) list([187])\n",
      " list([187, 187, 187]) list([187, 187, 187, 174, 159])\n",
      " list([187, 187, 187, 161, 147, 139, 128])\n",
      " list([187, 187, 187, 173, 156, 147, 135, 126, 112]) list([187])\n",
      " list([187, 187, 187]) list([187, 187, 187, 173, 165])\n",
      " list([187, 187, 187, 178, 169, 157, 147])\n",
      " list([187, 187, 187, 175, 161, 149, 141, 128, 115]) list([187])\n",
      " list([187, 187, 187]) list([187, 187, 187, 166, 153])\n",
      " list([187, 187, 187, 179, 173, 165, 154])\n",
      " list([187, 187, 187, 171, 147, 143, 130, 116, 108]) list([187])\n",
      " list([187, 187, 187]) list([187, 187, 187, 163, 152])\n",
      " list([187, 187, 187, 172, 156, 135, 127])\n",
      " list([187, 187, 187, 172, 158, 148, 136, 125, 114])]\n"
     ]
    }
   ],
   "source": [
    "summary_statistic = [];\n",
    "confirmatory_round = [];\n",
    "number_observations =[];\n",
    "x_round = [];\n",
    " \n",
    "for i_condition in range(25):\n",
    "\n",
    "    i_prior   = table_condition[i_condition][0]\n",
    "    i_samples = table_condition[i_condition][1]\n",
    "    \n",
    "    ##### SUMMARY STATISTICS\n",
    "    \n",
    "    # select trials based on the condition, separate accuse and investigate\n",
    "    temp      = db.loc[(db['red_prior_prob']==i_prior) & (db['rounds']==i_samples)]\n",
    "    t1_accuse = temp.loc[temp['action_type'] == 1]\n",
    "    t1_investigate    = temp.loc[temp['action_type'] == 0]\n",
    "    # separate rounds with evidence found (certain) or not found (clean)\n",
    "    t1_accuse_certain    = t1_accuse.loc[t1_accuse['evidence_found'] == 1]\n",
    "    t1_accuse_clean      = t1_accuse.loc[t1_accuse['evidence_found'] == 0]\n",
    "    t1_investigate_round1     = t1_investigate.loc[t1_investigate['current_rounds'] == 1]\n",
    "    t1_investigate_clean = t1_investigate.loc[t1_investigate['evidence_found'] == 0]\n",
    "\n",
    "    # total number of trials\n",
    "    n_trials = len(t1_accuse)\n",
    "\n",
    "    # percentage correct\n",
    "    n_correct = len(t1_accuse.loc[(t1_accuse['true_guilty_suspect'] == t1_accuse['suspect_accused'])])\n",
    "    perc_correct = n_correct/n_trials\n",
    "\n",
    "    # percentage evidence found\n",
    "    n_evidence_found = len(t1_accuse_certain)\n",
    "    perc_evidence_found = n_evidence_found/n_trials\n",
    "\n",
    "    # percentage confirmatory behavior (in round 1 or all)\n",
    "    n_rounds_investigate_red = len(t1_investigate_round1.loc[t1_investigate_round1['suspect'] == 0])\n",
    "    if i_prior == 0.5:\n",
    "        n_rounds_investigate_confirm  = n_trials/2\n",
    "    if i_prior > 0.5:\n",
    "        n_rounds_investigate_confirm  = n_rounds_investigate_red\n",
    "    if i_prior < 0.5:\n",
    "        n_rounds_investigate_confirm  = n_trials-n_rounds_investigate_red    \n",
    "    perc_confirm_round1 = n_rounds_investigate_confirm/n_trials\n",
    "\n",
    "    n_rounds_investigate_clean  = len(t1_investigate_clean)\n",
    "    n_rounds_investigate_red    = len(t1_investigate_clean.loc[t1_investigate_clean['suspect'] == 0])\n",
    "    if i_prior == 0.5:\n",
    "        n_rounds_investigate_confirm  = n_rounds_investigate_clean/2\n",
    "    if i_prior > 0.5:\n",
    "        n_rounds_investigate_confirm  = n_rounds_investigate_red\n",
    "    if i_prior < 0.5:\n",
    "        n_rounds_investigate_confirm  = n_rounds_investigate_clean-n_rounds_investigate_red    \n",
    "    perc_confirm_all = n_rounds_investigate_confirm/n_rounds_investigate_clean\n",
    "\n",
    "    # rounding\n",
    "    n_digits = 3;\n",
    "    perc_correct         = round(perc_correct,n_digits)\n",
    "    perc_evidence_found  = round(perc_evidence_found,n_digits)\n",
    "    perc_confirm_round1  = round(perc_confirm_round1,n_digits)\n",
    "    perc_confirm_all     = round(perc_confirm_all,n_digits)\n",
    "    \n",
    "    new_summary_statistic = [perc_correct, perc_evidence_found, perc_confirm_round1, perc_confirm_all]\n",
    "    summary_statistic.append(new_summary_statistic)\n",
    "    \n",
    "    \n",
    "    \n",
    "    #### VECTOR ROUND (prob of searching confirmatory given condition and round number)\n",
    "    new_confirmatory_round = [];\n",
    "    new_number_observations = [];\n",
    "    new_x_round = [];\n",
    "\n",
    "    for i_round in range(i_samples):\n",
    " \n",
    "        temp                 = db.loc[(db['red_prior_prob']==i_prior) & (db['rounds']==i_samples) & (db['current_rounds']==(i_round+1))]\n",
    "        t1_investigate       = temp.loc[temp['action_type'] == 0]\n",
    "        t1_investigate_clean = t1_investigate.loc[t1_investigate['evidence_found'] == 0]\n",
    "\n",
    "        # percentage confirmatory behavior\n",
    "        n_rounds_total = len(t1_investigate_clean)\n",
    "        n_rounds_investigate_red = len(t1_investigate_clean.loc[t1_investigate_clean['suspect'] == 0])\n",
    "        if i_prior == 0.5:\n",
    "            n_rounds_investigate_confirm  = n_rounds_total/2\n",
    "        if i_prior > 0.5:\n",
    "            n_rounds_investigate_confirm  = n_rounds_investigate_red\n",
    "        if i_prior < 0.5:\n",
    "            n_rounds_investigate_confirm  = n_rounds_total-n_rounds_investigate_red    \n",
    "        perc_confirm = round(n_rounds_investigate_confirm/n_rounds_total,n_digits)\n",
    "    \n",
    "        # add to the vector\n",
    "        new_confirmatory_round.append(perc_confirm)\n",
    "        new_number_observations.append(n_rounds_total)\n",
    "        new_x_round.append(i_round+1)\n",
    "\n",
    "    confirmatory_round.append(new_confirmatory_round)\n",
    "    number_observations.append(new_number_observations)\n",
    "    x_round.append(new_x_round)\n",
    "    \n",
    "# PRINT\n",
    "\n",
    "print('SUMMARY STATISTIC')\n",
    "print(np.matrix(summary_statistic))\n",
    "\n",
    "print('CONFIRMATORY BEHAVIOR OVER ROUNDS')\n",
    "print(np.array(confirmatory_round))\n",
    "print(np.array(number_observations))"
   ]
  },
  {
   "cell_type": "code",
   "execution_count": 13,
   "metadata": {
    "ExecuteTime": {
     "end_time": "2020-11-04T02:53:54.713242Z",
     "start_time": "2020-11-04T02:53:54.710990Z"
    }
   },
   "outputs": [],
   "source": [
    "##################################################"
   ]
  },
  {
   "cell_type": "code",
   "execution_count": 20,
   "metadata": {
    "ExecuteTime": {
     "end_time": "2020-11-04T02:57:26.538334Z",
     "start_time": "2020-11-04T02:57:26.084173Z"
    }
   },
   "outputs": [
    {
     "data": {
      "image/png": "[encoded data removed]",
      "text/plain": [
       "<Figure size 432x288 with 1 Axes>"
      ]
     },
     "metadata": {
      "needs_background": "light"
     },
     "output_type": "display_data"
    }
   ],
   "source": [
    "# PLOT THE DIFFERENCE TRENDS\n",
    "\n",
    "def plot2d(title, x, y, xlabel, ylabel, colors=['red'], lw=[1], ls=['-.'], xaxis=[0,10], yaxis=[0,10], xtick=range(1,10), ytick=range(1,10)):\n",
    "    for i in range(len(y)):\n",
    "        plt.plot(x[i], y[i], linewidth=lw[0], color = colors[0], linestyle=ls[0])\n",
    "    plt.xlabel(xlabel)\n",
    "    plt.ylabel(ylabel)\n",
    "    plt.title(title)\n",
    "    \n",
    "    \n",
    "plot2d('Confirmatory strategy', x_round, confirmatory_round, 'Round number', 'Pr(confirm)')"
   ]
  },
  {
   "cell_type": "code",
   "execution_count": 21,
   "metadata": {
    "ExecuteTime": {
     "end_time": "2020-11-04T02:58:13.394111Z",
     "start_time": "2020-11-04T02:58:13.009143Z"
    }
   },
   "outputs": [
    {
     "data": {
      "image/png": "[encoded data removed]",
      "text/plain": [
       "<Figure size 432x288 with 1 Axes>"
      ]
     },
     "metadata": {
      "needs_background": "light"
     },
     "output_type": "display_data"
    }
   ],
   "source": [
    "### SEPARATE THE TWO CONDITIONS (HIGH AND LOW PRIOR)\n",
    "\n",
    "# DEFINE THE PLOT\n",
    "\n",
    "def plot2d(title, x, y, xlabel, ylabel, colors=['red'], lw=[1], ls=['-.'], xaxis=[0,10], yaxis=[0,10], xtick=range(1,10), ytick=range(1,10)):\n",
    "    for i in range(len(y)):\n",
    "        plt.plot(x[i], y[i], linewidth=lw[0], color = colors[0], linestyle=ls[0])\n",
    "    plt.xlabel(xlabel)\n",
    "    plt.ylabel(ylabel)\n",
    "    plt.title(title)\n",
    "\n",
    "# HIGH PRIOR\n",
    "target_prior = 0.1\n",
    "target_color = 'blue'\n",
    "y_round_target = []\n",
    "x_round_target = []\n",
    "\n",
    "for i_condition in range(25):\n",
    "    i_prior   = table_condition[i_condition][0]\n",
    "    if (i_prior == target_prior) or (i_prior == (1-target_prior)):\n",
    "        x_round_target.append(x_round[i_condition])\n",
    "        y_round_target.append(confirmatory_round[i_condition])\n",
    "\n",
    "x_high = x_round_target\n",
    "y_high = y_round_target\n",
    "        \n",
    "plot2d('Confirmatory strategy - High Prior', x_round_target, y_round_target, 'Round number', 'Pr(confirm)',target_color)\n",
    "\n",
    "# LOW PRIOR\n",
    "target_prior = 0.3\n",
    "target_color = 'red'\n",
    "y_round_target = []\n",
    "x_round_target = []\n",
    "\n",
    "for i_condition in range(25):\n",
    "    i_prior   = table_condition[i_condition][0]\n",
    "    if (i_prior == target_prior) or (i_prior == (1-target_prior)):\n",
    "        x_round_target.append(x_round[i_condition])\n",
    "        y_round_target.append(confirmatory_round[i_condition])\n",
    "\n",
    "x_low = x_round_target\n",
    "y_low = y_round_target\n",
    "\n",
    "plot2d('Confirmatory strategy - Low Prior', x_round_target, y_round_target, 'Round number', 'Pr(confirm)',target_color)"
   ]
  },
  {
   "cell_type": "code",
   "execution_count": 22,
   "metadata": {
    "ExecuteTime": {
     "end_time": "2020-11-04T02:58:15.303282Z",
     "start_time": "2020-11-04T02:58:15.297960Z"
    }
   },
   "outputs": [
    {
     "data": {
      "text/plain": [
       "[[1],\n",
       " [1, 2, 3],\n",
       " [1, 2, 3, 4, 5],\n",
       " [1, 2, 3, 4, 5, 6, 7],\n",
       " [1, 2, 3, 4, 5, 6, 7, 8, 9],\n",
       " [1],\n",
       " [1, 2, 3],\n",
       " [1, 2, 3, 4, 5],\n",
       " [1, 2, 3, 4, 5, 6, 7],\n",
       " [1, 2, 3, 4, 5, 6, 7, 8, 9]]"
      ]
     },
     "execution_count": 22,
     "metadata": {},
     "output_type": "execute_result"
    }
   ],
   "source": [
    "# NOTES FOR TESTING...\n",
    "\n",
    "\n"
   ]
  },
  {
   "cell_type": "code",
   "execution_count": 25,
   "metadata": {
    "ExecuteTime": {
     "end_time": "2020-11-04T02:58:55.716248Z",
     "start_time": "2020-11-04T02:58:55.357612Z"
    }
   },
   "outputs": [
    {
     "name": "stdout",
     "output_type": "stream",
     "text": [
      "[0.6571, 0.6465000000000001, 0.634875, 0.5755, 0.5393333333333333, 0.476, 0.42375, 0.40149999999999997, 0.3405]\n",
      "[1, 2, 3, 4, 5, 6, 7, 8, 9]\n",
      "[0.6577000000000001, 0.668375, 0.63575, 0.6121666666666666, 0.5499999999999999, 0.54975, 0.51525, 0.4645, 0.47750000000000004]\n",
      "[1, 2, 3, 4, 5, 6, 7, 8, 9]\n"
     ]
    },
    {
     "data": {
      "image/png": "[encoded data removed]",
      "text/plain": [
       "<Figure size 432x288 with 1 Axes>"
      ]
     },
     "metadata": {
      "needs_background": "light"
     },
     "output_type": "display_data"
    }
   ],
   "source": [
    "# CALCULATE AND PLOT THE AVERAGES FOR THE DIFFERENT CONDITIONS\n",
    "\n",
    "target_color = 'blue'\n",
    "x_round_target = x_high\n",
    "y_round_target = y_high\n",
    "\n",
    "val_matrix = [];\n",
    "x_array = [];\n",
    "for i_period in range(9):\n",
    "    period = []\n",
    "    for i_file in range(len(x_round_target)):\n",
    "        if len(x_round_target[i_file])>i_period:\n",
    "            period.append(y_round_target[i_file][i_period])\n",
    "    \n",
    "    mean_period = sum(period)/len(period)\n",
    "    val_matrix.append(mean_period)\n",
    "    x_array.append(i_period+1)\n",
    "\n",
    "print(val_matrix)\n",
    "print(x_array)\n",
    "plot2d('Confirmatory strategy - High Prior', [x_array], [val_matrix], 'Round number', 'Pr(confirm)',target_color)\n",
    "\n",
    "\n",
    "target_color = 'red'\n",
    "x_round_target = x_low\n",
    "y_round_target = y_low\n",
    "\n",
    "val_matrix = [];\n",
    "x_array = [];\n",
    "for i_period in range(9):\n",
    "    period = []\n",
    "    for i_file in range(len(x_round_target)):\n",
    "        if len(x_round_target[i_file])>i_period:\n",
    "            period.append(y_round_target[i_file][i_period])\n",
    "    \n",
    "    mean_period = sum(period)/len(period)\n",
    "    val_matrix.append(mean_period)\n",
    "    x_array.append(i_period+1)\n",
    "\n",
    "print(val_matrix)\n",
    "print(x_array)\n",
    "\n",
    "    \n",
    "plot2d('Confirmatory strategy - Low Prior', [x_array], [val_matrix], 'Round number', 'Pr(confirm)',target_color)\n",
    "\n"
   ]
  },
  {
   "cell_type": "code",
   "execution_count": 47,
   "metadata": {
    "ExecuteTime": {
     "end_time": "2020-11-04T03:18:15.212144Z",
     "start_time": "2020-11-04T03:18:15.203523Z"
    }
   },
   "outputs": [
    {
     "data": {
      "text/plain": [
       "posterior\n",
       "0.403    0.473684\n",
       "0.546    0.000000\n",
       "0.681    0.666667\n",
       "0.792    0.375000\n",
       "0.871    0.111111\n",
       "0.923    0.250000\n",
       "0.955    0.000000\n",
       "0.974    0.000000\n",
       "0.985    0.000000\n",
       "0.992    0.096774\n",
       "Name: suspect, dtype: float64"
      ]
     },
     "execution_count": 47,
     "metadata": {},
     "output_type": "execute_result"
    }
   ],
   "source": [
    "# NOTES FOR TESTING...\n",
    "\n",
    "\n",
    "t1_accuse_clean\n",
    "\n",
    "\n",
    "t1_accuse_clean['posterior'].round(4)\n",
    "list_unique = t1_accuse_clean['posterior'].unique()\n",
    "list_unique = np.sort(list_unique)\n",
    "list_unique = list_unique.tolist()\n",
    "list_unique\n",
    "\n",
    "t1_accuse_clean\n",
    "\n",
    "df_posterior_average = t1_accuse_clean.groupby(['posterior'])['suspect'].mean()\n",
    "df_posterior_average"
   ]
  },
  {
   "cell_type": "code",
   "execution_count": null,
   "metadata": {},
   "outputs": [],
   "source": [
    "#### ACCUSE BEHAVIOR ###\n",
    "# STORE the relevant information for every condition"
   ]
  },
  {
   "cell_type": "code",
   "execution_count": 92,
   "metadata": {
    "ExecuteTime": {
     "end_time": "2020-11-04T03:47:27.185267Z",
     "start_time": "2020-11-04T03:47:26.951564Z"
    }
   },
   "outputs": [
    {
     "name": "stderr",
     "output_type": "stream",
     "text": [
      "/opt/anaconda3/lib/python3.7/site-packages/ipykernel_launcher.py:25: SettingWithCopyWarning: \n",
      "A value is trying to be set on a copy of a slice from a DataFrame.\n",
      "Try using .loc[row_indexer,col_indexer] = value instead\n",
      "\n",
      "See the caveats in the documentation: http://pandas.pydata.org/pandas-docs/stable/user_guide/indexing.html#returning-a-view-versus-a-copy\n"
     ]
    },
    {
     "data": {
      "text/plain": [
       "[   posterior   suspect\n",
       " 0      0.077  0.939394\n",
       " 1      0.129  0.917355,    posterior   suspect\n",
       " 0      0.045  0.973684\n",
       " 1      0.077  0.892857\n",
       " 2      0.129  0.777778\n",
       " 3      0.208  0.857143,    posterior   suspect\n",
       " 0      0.026  0.966667\n",
       " 1      0.045  1.000000\n",
       " 2      0.077  0.823529\n",
       " 3      0.129  0.900000\n",
       " 4      0.208  0.777778\n",
       " 5      0.319  0.846154,    posterior   suspect\n",
       " 0      0.015  0.964286\n",
       " 1      0.026  0.857143\n",
       " 2      0.045  0.916667\n",
       " 3      0.077  0.882353\n",
       " 4      0.129  1.000000\n",
       " 5      0.208  1.000000\n",
       " 6      0.319  0.818182\n",
       " 7      0.454  0.615385,    posterior   suspect\n",
       " 0      0.008  0.958333\n",
       " 1      0.015  1.000000\n",
       " 2      0.026  0.875000\n",
       " 3      0.045  0.909091\n",
       " 4      0.077  0.800000\n",
       " 5      0.129  0.846154\n",
       " 6      0.208  0.333333\n",
       " 7      0.319  0.500000\n",
       " 8      0.454  0.250000\n",
       " 9      0.597  0.636364,    posterior   suspect\n",
       " 0      0.243  0.901639\n",
       " 1      0.364  0.873016,    posterior   suspect\n",
       " 0      0.153  0.882353\n",
       " 1      0.243  0.821429\n",
       " 2      0.364  0.789474\n",
       " 3      0.504  0.815789,    posterior   suspect\n",
       " 0      0.092  0.952381\n",
       " 1      0.153  0.823529\n",
       " 2      0.243  0.850000\n",
       " 3      0.364  0.904762\n",
       " 4      0.504  0.736842\n",
       " 5      0.644  0.456522,    posterior   suspect\n",
       " 0      0.054  0.944444\n",
       " 1      0.092  1.000000\n",
       " 2      0.153  0.800000\n",
       " 3      0.243  0.928571\n",
       " 4      0.364  0.705882\n",
       " 5      0.504  0.733333\n",
       " 6      0.644  0.400000\n",
       " 7      0.763  0.400000,    posterior   suspect\n",
       " 0      0.031  0.944444\n",
       " 1      0.054  0.800000\n",
       " 2      0.092  1.000000\n",
       " 3      0.153  0.875000\n",
       " 4      0.243  0.750000\n",
       " 5      0.364  0.692308\n",
       " 6      0.504  0.692308\n",
       " 7      0.644  0.250000\n",
       " 8      0.763  0.250000\n",
       " 9      0.851  0.333333,    posterior   suspect\n",
       " 0      0.429  0.454545\n",
       " 1      0.571  0.397727,    posterior   suspect\n",
       " 0      0.297  0.730769\n",
       " 1      0.429  0.576271\n",
       " 2      0.571  0.437500\n",
       " 3      0.703  0.325000,    posterior   suspect\n",
       " 0      0.192  0.714286\n",
       " 1      0.297  0.666667\n",
       " 2      0.429  0.727273\n",
       " 3      0.571  0.466667\n",
       " 4      0.703  0.181818\n",
       " 5      0.808  0.240000,    posterior   suspect\n",
       " 0      0.118  0.882353\n",
       " 1      0.192  1.000000\n",
       " 2      0.297  1.000000\n",
       " 3      0.429  0.512821\n",
       " 4      0.571  0.366667\n",
       " 5      0.703  0.090909\n",
       " 6      0.808  0.000000\n",
       " 7      0.882  0.368421,    posterior   suspect\n",
       " 0      0.070  0.800000\n",
       " 1      0.118  1.000000\n",
       " 2      0.192  0.666667\n",
       " 3      0.297  0.700000\n",
       " 4      0.429  0.625000\n",
       " 5      0.571  0.476190\n",
       " 6      0.703  0.000000\n",
       " 7      0.808  0.000000\n",
       " 8      0.882  0.000000\n",
       " 9      0.930  0.000000,    posterior   suspect\n",
       " 0      0.636  0.184211\n",
       " 1      0.757  0.095890,    posterior   suspect\n",
       " 0      0.496  0.215385\n",
       " 1      0.636  0.257143\n",
       " 2      0.757  0.111111\n",
       " 3      0.847  0.025000,    posterior   suspect\n",
       " 0      0.356  0.611111\n",
       " 1      0.496  0.187500\n",
       " 2      0.636  0.214286\n",
       " 3      0.757  0.105263\n",
       " 4      0.847  0.125000\n",
       " 5      0.908  0.137931,    posterior   suspect\n",
       " 0      0.237  0.547619\n",
       " 1      0.356  0.428571\n",
       " 2      0.496  0.416667\n",
       " 3      0.636  0.200000\n",
       " 4      0.757  0.083333\n",
       " 5      0.847  0.000000\n",
       " 6      0.908  0.000000\n",
       " 7      0.946  0.160000,    posterior   suspect\n",
       " 0      0.149  0.550000\n",
       " 1      0.237  0.400000\n",
       " 2      0.356  0.750000\n",
       " 3      0.496  0.750000\n",
       " 4      0.636  0.142857\n",
       " 5      0.757  0.200000\n",
       " 6      0.847  0.125000\n",
       " 7      0.908  0.000000\n",
       " 8      0.946  0.000000\n",
       " 9      0.969  0.062500,    posterior   suspect\n",
       " 0      0.871  0.105691\n",
       " 1      0.923  0.093750,    posterior   suspect\n",
       " 0      0.792  0.169231\n",
       " 1      0.871  0.129032\n",
       " 2      0.923  0.037037\n",
       " 3      0.955  0.024390,    posterior   suspect\n",
       " 0      0.681  0.205128\n",
       " 1      0.792  0.071429\n",
       " 2      0.871  0.230769\n",
       " 3      0.923  0.055556\n",
       " 4      0.955  0.125000\n",
       " 5      0.974  0.058824,    posterior   suspect\n",
       " 0      0.546  0.217391\n",
       " 1      0.681  0.285714\n",
       " 2      0.792  0.000000\n",
       " 3      0.871  0.153846\n",
       " 4      0.923  0.062500\n",
       " 5      0.955  0.000000\n",
       " 6      0.974  0.000000\n",
       " 7      0.985  0.142857,    posterior   suspect\n",
       " 0      0.403  0.473684\n",
       " 1      0.546  0.000000\n",
       " 2      0.681  0.666667\n",
       " 3      0.792  0.375000\n",
       " 4      0.871  0.111111\n",
       " 5      0.923  0.250000\n",
       " 6      0.955  0.000000\n",
       " 7      0.974  0.000000\n",
       " 8      0.985  0.000000\n",
       " 9      0.992  0.096774]"
      ]
     },
     "execution_count": 92,
     "metadata": {},
     "output_type": "execute_result"
    }
   ],
   "source": [
    "accuse_statistic = [];\n",
    " \n",
    "for i_condition in range(25):\n",
    "\n",
    "    i_prior   = table_condition[i_condition][0]\n",
    "    i_samples = table_condition[i_condition][1]\n",
    "    \n",
    "    ##### SUMMARY STATISTICS\n",
    "    \n",
    "    # select trials based on the condition, separate accuse and investigate\n",
    "    temp      = db.loc[(db['red_prior_prob']==i_prior) & (db['rounds']==i_samples)]\n",
    "    t1_accuse = temp.loc[temp['action_type'] == 1]\n",
    "    t1_investigate    = temp.loc[temp['action_type'] == 0]\n",
    "    # separate rounds with evidence found (certain) or not found (clean)\n",
    "    t1_accuse_certain    = t1_accuse.loc[t1_accuse['evidence_found'] == 1]\n",
    "    t1_accuse_clean      = t1_accuse.loc[t1_accuse['evidence_found'] == 0]\n",
    "    t1_investigate_round1     = t1_investigate.loc[t1_investigate['current_rounds'] == 1]\n",
    "    t1_investigate_clean = t1_investigate.loc[t1_investigate['evidence_found'] == 0]\n",
    "\n",
    "    \n",
    "    \n",
    "    ########## FOCUS ONLY on t1_accuse_clean\n",
    "    # calculate the prob(accuse 1) as a function of the posterior\n",
    "    # vector of x (posteriors), vector of y (prob_accuse)\n",
    "    t1_accuse_clean['posterior'] = t1_accuse_clean['posterior'].round(3)    \n",
    "    list_unique = t1_accuse_clean['posterior'].unique()\n",
    "    list_unique = np.sort(list_unique)\n",
    "    list_unique = list_unique.tolist()\n",
    "    list_unique\n",
    "\n",
    "    df_posterior_average = t1_accuse_clean.groupby(['posterior'])['suspect'].mean().reset_index()\n",
    "    accuse_statistic.append(df_posterior_average)    \n",
    "\n",
    "accuse_statistic"
   ]
  },
  {
   "cell_type": "code",
   "execution_count": 116,
   "metadata": {
    "ExecuteTime": {
     "end_time": "2020-11-04T03:56:15.395808Z",
     "start_time": "2020-11-04T03:56:15.078962Z"
    }
   },
   "outputs": [
    {
     "name": "stdout",
     "output_type": "stream",
     "text": [
      "---\n",
      "[[0.429, 0.571], [0.297, 0.429, 0.571, 0.703], [0.192, 0.297, 0.429, 0.571, 0.703, 0.808], [0.118, 0.192, 0.297, 0.429, 0.571, 0.703, 0.808, 0.882], [0.07, 0.118, 0.192, 0.297, 0.429, 0.571, 0.703, 0.808, 0.882, 0.93]]\n",
      "---\n",
      "[[0.45454545454545453, 0.3977272727272727], [0.7307692307692307, 0.576271186440678, 0.4375, 0.325], [0.7142857142857143, 0.6666666666666666, 0.7272727272727273, 0.4666666666666667, 0.18181818181818182, 0.24], [0.8823529411764706, 1.0, 1.0, 0.5128205128205128, 0.36666666666666664, 0.09090909090909091, 0.0, 0.3684210526315789], [0.8, 1.0, 0.6666666666666666, 0.7, 0.625, 0.47619047619047616, 0.0, 0.0, 0.0, 0.0]]\n"
     ]
    },
    {
     "data": {
      "image/png": "[encoded data removed]",
      "text/plain": [
       "<Figure size 432x288 with 1 Axes>"
      ]
     },
     "metadata": {
      "needs_background": "light"
     },
     "output_type": "display_data"
    }
   ],
   "source": [
    "# HIGH PRIOR\n",
    "target_prior = 0.5\n",
    "target_color = 'k'\n",
    "y_round_target = []\n",
    "x_round_target = []\n",
    "\n",
    "for i_condition in range(25):\n",
    "    i_prior   = table_condition[i_condition][0]\n",
    "    if (i_prior == target_prior):\n",
    "        temp = accuse_statistic[i_condition]\n",
    "        temp = temp.to_numpy()\n",
    "        x_new=[]\n",
    "        y_new=[]\n",
    "        for i_posterior in range(len(temp)):\n",
    "            x_new.append(temp[i_posterior][0])\n",
    "            y_new.append(temp[i_posterior][1])\n",
    "        \n",
    "        x_round_target.append(x_new)\n",
    "        y_round_target.append(y_new)\n",
    "\n",
    "plot2d('Accuse - 50% Prior', x_round_target, y_round_target, 'Current Belief Pr(Red)', 'Pr(Accuse Blue)',target_color)\n"
   ]
  },
  {
   "cell_type": "code",
   "execution_count": 118,
   "metadata": {
    "ExecuteTime": {
     "end_time": "2020-11-04T03:58:13.491340Z",
     "start_time": "2020-11-04T03:58:13.131734Z"
    }
   },
   "outputs": [
    {
     "data": {
      "image/png": "[encoded data removed]",
      "text/plain": [
       "<Figure size 432x288 with 1 Axes>"
      ]
     },
     "metadata": {
      "needs_background": "light"
     },
     "output_type": "display_data"
    }
   ],
   "source": [
    "# NULL PRIOR\n",
    "target_prior = 0.5\n",
    "target_color = 'k'\n",
    "y_round_target = []\n",
    "x_round_target = []\n",
    "\n",
    "for i_condition in range(25):\n",
    "    i_prior   = table_condition[i_condition][0]\n",
    "    if (i_prior == target_prior):\n",
    "        temp = accuse_statistic[i_condition]\n",
    "        temp = temp.to_numpy()\n",
    "        x_new=[]\n",
    "        y_new=[]\n",
    "        for i_posterior in range(len(temp)):\n",
    "            x_new.append(temp[i_posterior][0])\n",
    "            y_new.append(temp[i_posterior][1])\n",
    "        \n",
    "        x_round_target.append(x_new)\n",
    "        y_round_target.append(y_new)\n",
    "\n",
    "plot2d('Accuse - 50% Prior', x_round_target, y_round_target, 'Current Belief Pr(Red)', 'Pr(Accuse Blue)',target_color)\n",
    "\n",
    "\n",
    "# HIGH PRIOR\n",
    "target_prior = 0.3\n",
    "target_color = 'b'\n",
    "y_round_target = []\n",
    "x_round_target = []\n",
    "\n",
    "for i_condition in range(25):\n",
    "    i_prior   = table_condition[i_condition][0]\n",
    "    if (i_prior == target_prior):\n",
    "        temp = accuse_statistic[i_condition]\n",
    "        temp = temp.to_numpy()\n",
    "        x_new=[]\n",
    "        y_new=[]\n",
    "        for i_posterior in range(len(temp)):\n",
    "            x_new.append(temp[i_posterior][0])\n",
    "            y_new.append(temp[i_posterior][1])\n",
    "        \n",
    "        x_round_target.append(x_new)\n",
    "        y_round_target.append(y_new)\n",
    "\n",
    "plot2d('Accuse - 50% Prior', x_round_target, y_round_target, 'Current Belief Pr(Red)', 'Pr(Accuse Blue)',target_color)\n",
    "\n",
    "\n",
    "# HIGH PRIOR\n",
    "target_prior = 0.7\n",
    "target_color = 'r'\n",
    "y_round_target = []\n",
    "x_round_target = []\n",
    "\n",
    "for i_condition in range(25):\n",
    "    i_prior   = table_condition[i_condition][0]\n",
    "    if (i_prior == target_prior):\n",
    "        temp = accuse_statistic[i_condition]\n",
    "        temp = temp.to_numpy()\n",
    "        x_new=[]\n",
    "        y_new=[]\n",
    "        for i_posterior in range(len(temp)):\n",
    "            x_new.append(temp[i_posterior][0])\n",
    "            y_new.append(temp[i_posterior][1])\n",
    "        \n",
    "        x_round_target.append(x_new)\n",
    "        y_round_target.append(y_new)\n",
    "\n",
    "plot2d('Accuse - 50% Prior', x_round_target, y_round_target, 'Current Belief Pr(Red)', 'Pr(Accuse Blue)',target_color)\n",
    "\n"
   ]
  },
  {
   "cell_type": "code",
   "execution_count": null,
   "metadata": {},
   "outputs": [],
   "source": []
  }
 ],
 "metadata": {
  "kernelspec": {
   "display_name": "Python 3",
   "language": "python",
   "name": "python3"
  },
  "language_info": {
   "codemirror_mode": {
    "name": "ipython",
    "version": 3
   },
   "file_extension": ".py",
   "mimetype": "text/x-python",
   "name": "python",
   "nbconvert_exporter": "python",
   "pygments_lexer": "ipython3",
   "version": "3.8.3"
  },
  "latex_envs": {
   "LaTeX_envs_menu_present": true,
   "autoclose": true,
   "autocomplete": true,
   "bibliofile": "biblio.bib",
   "cite_by": "apalike",
   "current_citInitial": 1,
   "eqLabelWithNumbers": true,
   "eqNumInitial": 1,
   "hotkeys": {
    "equation": "Ctrl-E",
    "itemize": "Ctrl-I"
   },
   "labels_anchors": false,
   "latex_user_defs": false,
   "report_style_numbering": false,
   "user_envs_cfg": false
  },
  "toc": {
   "base_numbering": 1,
   "nav_menu": {},
   "number_sections": true,
   "sideBar": true,
   "skip_h1_title": false,
   "title_cell": "Table of Contents",
   "title_sidebar": "Contents",
   "toc_cell": false,
   "toc_position": {
    "height": "calc(100% - 180px)",
    "left": "10px",
    "top": "150px",
    "width": "193.767px"
   },
   "toc_section_display": true,
   "toc_window_display": true
  },
  "varInspector": {
   "cols": {
    "lenName": 16,
    "lenType": 16,
    "lenVar": 40
   },
   "kernels_config": {
    "python": {
     "delete_cmd_postfix": "",
     "delete_cmd_prefix": "del ",
     "library": "var_list.py",
     "varRefreshCmd": "print(var_dic_list())"
    },
    "r": {
     "delete_cmd_postfix": ") ",
     "delete_cmd_prefix": "rm(",
     "library": "var_list.r",
     "varRefreshCmd": "cat(var_dic_list()) "
    }
   },
   "types_to_exclude": [
    "module",
    "function",
    "builtin_function_or_method",
    "instance",
    "_Feature"
   ],
   "window_display": false
  }
 },
 "nbformat": 4,
 "nbformat_minor": 4
}
