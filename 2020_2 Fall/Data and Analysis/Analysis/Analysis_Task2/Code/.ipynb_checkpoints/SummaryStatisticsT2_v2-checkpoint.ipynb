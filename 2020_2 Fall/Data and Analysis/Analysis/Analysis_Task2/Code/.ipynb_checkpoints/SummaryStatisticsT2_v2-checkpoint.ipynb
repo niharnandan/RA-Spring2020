{
 "cells": [
  {
   "cell_type": "code",
   "execution_count": 1,
   "metadata": {
    "ExecuteTime": {
     "end_time": "2020-10-21T02:22:26.045386Z",
     "start_time": "2020-10-21T02:22:26.041342Z"
    }
   },
   "outputs": [],
   "source": [
    "## RUN SUMMARY STATISTICS FOR A DATASET (TASK 2)"
   ]
  },
  {
   "cell_type": "code",
   "execution_count": 2,
   "metadata": {
    "ExecuteTime": {
     "end_time": "2020-10-21T02:22:27.337621Z",
     "start_time": "2020-10-21T02:22:26.051667Z"
    }
   },
   "outputs": [],
   "source": [
    "# IMPORT PACKAGES\n",
    "import pandas as pd\n",
    "import numpy as np\n",
    "import matplotlib.pyplot as plt\n",
    "import seaborn as sns\n",
    "sns.set_style(\"darkgrid\")"
   ]
  },
  {
   "cell_type": "code",
   "execution_count": 3,
   "metadata": {
    "ExecuteTime": {
     "end_time": "2020-10-21T02:22:27.386204Z",
     "start_time": "2020-10-21T02:22:27.340201Z"
    }
   },
   "outputs": [
    {
     "data": {
      "text/html": [
       "<div>\n",
       "<style scoped>\n",
       "    .dataframe tbody tr th:only-of-type {\n",
       "        vertical-align: middle;\n",
       "    }\n",
       "\n",
       "    .dataframe tbody tr th {\n",
       "        vertical-align: top;\n",
       "    }\n",
       "\n",
       "    .dataframe thead th {\n",
       "        text-align: right;\n",
       "    }\n",
       "</style>\n",
       "<table border=\"1\" class=\"dataframe\">\n",
       "  <thead>\n",
       "    <tr style=\"text-align: right;\">\n",
       "      <th></th>\n",
       "      <th>participant_ID</th>\n",
       "      <th>treatment</th>\n",
       "      <th>part</th>\n",
       "      <th>trial_no</th>\n",
       "      <th>setup_cost_red</th>\n",
       "      <th>setup_cost_blue</th>\n",
       "      <th>red_prior_prob</th>\n",
       "      <th>current_rounds</th>\n",
       "      <th>action_type</th>\n",
       "      <th>suspect</th>\n",
       "      <th>count_red_samples</th>\n",
       "      <th>count_blue_samples</th>\n",
       "      <th>evidence_found</th>\n",
       "      <th>evidence_suspect</th>\n",
       "      <th>posterior</th>\n",
       "      <th>true_guilty_suspect</th>\n",
       "      <th>suspect_accused</th>\n",
       "      <th>time</th>\n",
       "    </tr>\n",
       "  </thead>\n",
       "  <tbody>\n",
       "    <tr>\n",
       "      <td>0</td>\n",
       "      <td>1.0</td>\n",
       "      <td>1.0</td>\n",
       "      <td>2.0</td>\n",
       "      <td>1.0</td>\n",
       "      <td>10.0</td>\n",
       "      <td>10.0</td>\n",
       "      <td>0.7</td>\n",
       "      <td>1</td>\n",
       "      <td>0</td>\n",
       "      <td>1.0</td>\n",
       "      <td>0</td>\n",
       "      <td>0</td>\n",
       "      <td>0</td>\n",
       "      <td>-1.0</td>\n",
       "      <td>0.700000</td>\n",
       "      <td>1.0</td>\n",
       "      <td>0.0</td>\n",
       "      <td>6016.7120</td>\n",
       "    </tr>\n",
       "    <tr>\n",
       "      <td>1</td>\n",
       "      <td>1.0</td>\n",
       "      <td>1.0</td>\n",
       "      <td>2.0</td>\n",
       "      <td>1.0</td>\n",
       "      <td>10.0</td>\n",
       "      <td>10.0</td>\n",
       "      <td>0.7</td>\n",
       "      <td>2</td>\n",
       "      <td>0</td>\n",
       "      <td>1.0</td>\n",
       "      <td>0</td>\n",
       "      <td>1</td>\n",
       "      <td>0</td>\n",
       "      <td>-1.0</td>\n",
       "      <td>0.756757</td>\n",
       "      <td>1.0</td>\n",
       "      <td>0.0</td>\n",
       "      <td>6733.3740</td>\n",
       "    </tr>\n",
       "    <tr>\n",
       "      <td>2</td>\n",
       "      <td>1.0</td>\n",
       "      <td>1.0</td>\n",
       "      <td>2.0</td>\n",
       "      <td>1.0</td>\n",
       "      <td>10.0</td>\n",
       "      <td>10.0</td>\n",
       "      <td>0.7</td>\n",
       "      <td>3</td>\n",
       "      <td>0</td>\n",
       "      <td>1.0</td>\n",
       "      <td>0</td>\n",
       "      <td>2</td>\n",
       "      <td>0</td>\n",
       "      <td>-1.0</td>\n",
       "      <td>0.805755</td>\n",
       "      <td>1.0</td>\n",
       "      <td>0.0</td>\n",
       "      <td>7383.4022</td>\n",
       "    </tr>\n",
       "    <tr>\n",
       "      <td>3</td>\n",
       "      <td>1.0</td>\n",
       "      <td>1.0</td>\n",
       "      <td>2.0</td>\n",
       "      <td>1.0</td>\n",
       "      <td>10.0</td>\n",
       "      <td>10.0</td>\n",
       "      <td>0.7</td>\n",
       "      <td>4</td>\n",
       "      <td>0</td>\n",
       "      <td>1.0</td>\n",
       "      <td>0</td>\n",
       "      <td>3</td>\n",
       "      <td>0</td>\n",
       "      <td>-1.0</td>\n",
       "      <td>0.846881</td>\n",
       "      <td>1.0</td>\n",
       "      <td>0.0</td>\n",
       "      <td>8000.0214</td>\n",
       "    </tr>\n",
       "    <tr>\n",
       "      <td>4</td>\n",
       "      <td>1.0</td>\n",
       "      <td>1.0</td>\n",
       "      <td>2.0</td>\n",
       "      <td>1.0</td>\n",
       "      <td>10.0</td>\n",
       "      <td>10.0</td>\n",
       "      <td>0.7</td>\n",
       "      <td>5</td>\n",
       "      <td>0</td>\n",
       "      <td>1.0</td>\n",
       "      <td>0</td>\n",
       "      <td>4</td>\n",
       "      <td>0</td>\n",
       "      <td>-1.0</td>\n",
       "      <td>0.880590</td>\n",
       "      <td>1.0</td>\n",
       "      <td>0.0</td>\n",
       "      <td>8716.7231</td>\n",
       "    </tr>\n",
       "  </tbody>\n",
       "</table>\n",
       "</div>"
      ],
      "text/plain": [
       "   participant_ID  treatment  part  trial_no  setup_cost_red  setup_cost_blue  \\\n",
       "0             1.0        1.0   2.0       1.0            10.0             10.0   \n",
       "1             1.0        1.0   2.0       1.0            10.0             10.0   \n",
       "2             1.0        1.0   2.0       1.0            10.0             10.0   \n",
       "3             1.0        1.0   2.0       1.0            10.0             10.0   \n",
       "4             1.0        1.0   2.0       1.0            10.0             10.0   \n",
       "\n",
       "   red_prior_prob  current_rounds  action_type  suspect  count_red_samples  \\\n",
       "0             0.7               1            0      1.0                  0   \n",
       "1             0.7               2            0      1.0                  0   \n",
       "2             0.7               3            0      1.0                  0   \n",
       "3             0.7               4            0      1.0                  0   \n",
       "4             0.7               5            0      1.0                  0   \n",
       "\n",
       "   count_blue_samples  evidence_found  evidence_suspect  posterior  \\\n",
       "0                   0               0              -1.0   0.700000   \n",
       "1                   1               0              -1.0   0.756757   \n",
       "2                   2               0              -1.0   0.805755   \n",
       "3                   3               0              -1.0   0.846881   \n",
       "4                   4               0              -1.0   0.880590   \n",
       "\n",
       "   true_guilty_suspect  suspect_accused       time  \n",
       "0                  1.0              0.0  6016.7120  \n",
       "1                  1.0              0.0  6733.3740  \n",
       "2                  1.0              0.0  7383.4022  \n",
       "3                  1.0              0.0  8000.0214  \n",
       "4                  1.0              0.0  8716.7231  "
      ]
     },
     "execution_count": 3,
     "metadata": {},
     "output_type": "execute_result"
    }
   ],
   "source": [
    "# IMPORT DATA TASK 2 (HUMAN)\n",
    "temp1 = pd.read_csv('../Output/Task2_step4.csv')\n",
    "temp1.head()"
   ]
  },
  {
   "cell_type": "code",
   "execution_count": 4,
   "metadata": {
    "ExecuteTime": {
     "end_time": "2020-10-21T02:22:27.390869Z",
     "start_time": "2020-10-21T02:22:27.388731Z"
    }
   },
   "outputs": [],
   "source": [
    "## CHECK THE FINAL BELIEFS ##"
   ]
  },
  {
   "cell_type": "code",
   "execution_count": 5,
   "metadata": {
    "ExecuteTime": {
     "end_time": "2020-10-21T02:22:28.068289Z",
     "start_time": "2020-10-21T02:22:27.393542Z"
    }
   },
   "outputs": [],
   "source": [
    "# CREATE VECTOR OF \"final beliefs\" (only when the action is \"accuse\")\n",
    "fin = []\n",
    "for key,value in temp1.iterrows():\n",
    "    if value[8] == 1.0:\n",
    "        fin.append(temp1['posterior'][key])"
   ]
  },
  {
   "cell_type": "code",
   "execution_count": 6,
   "metadata": {
    "ExecuteTime": {
     "end_time": "2020-10-21T02:22:28.744647Z",
     "start_time": "2020-10-21T02:22:28.070254Z"
    }
   },
   "outputs": [
    {
     "data": {
      "image/png": "[encoded data removed]",
      "text/plain": [
       "<Figure size 432x288 with 1 Axes>"
      ]
     },
     "metadata": {
      "needs_background": "light"
     },
     "output_type": "display_data"
    },
    {
     "data": {
      "image/png": "[encoded data removed]",
      "text/plain": [
       "<Figure size 432x288 with 1 Axes>"
      ]
     },
     "metadata": {
      "needs_background": "light"
     },
     "output_type": "display_data"
    }
   ],
   "source": [
    "# PLOT FINAL BELIEFS\n",
    "plt.hist(fin, bins=101)\n",
    "plt.show()\n",
    "plt.hist(fin, bins=15)\n",
    "plt.show()"
   ]
  },
  {
   "cell_type": "code",
   "execution_count": 7,
   "metadata": {
    "ExecuteTime": {
     "end_time": "2020-10-21T02:22:28.749116Z",
     "start_time": "2020-10-21T02:22:28.746648Z"
    }
   },
   "outputs": [],
   "source": [
    "## CALCULATE SUMMARY STATISITCS ##"
   ]
  },
  {
   "cell_type": "code",
   "execution_count": 8,
   "metadata": {
    "ExecuteTime": {
     "end_time": "2020-10-21T02:22:28.809184Z",
     "start_time": "2020-10-21T02:22:28.751457Z"
    }
   },
   "outputs": [
    {
     "name": "stdout",
     "output_type": "stream",
     "text": [
      "2.9570833333333333\n",
      "2.9570833333333333\n",
      "0.86875\n",
      "0.355\n",
      "0.7781613791877722\n",
      "0.5541236554243263\n",
      "1292.9854166666667\n"
     ]
    }
   ],
   "source": [
    "# test (human file only)\n",
    "\n",
    "if 1:\n",
    "    \n",
    "    # read dataset\n",
    "    temp1 = pd.read_csv('../Output/Task2_step4.csv')\n",
    "    \n",
    "    \n",
    "    # isolate accuse rounds and investigation rounds\n",
    "    t2_accuse = temp1.loc[temp1['action_type'] == 1]\n",
    "    t2_investigate = temp1.loc[temp1['action_type'] == 0]\n",
    "    # select accuse and investigation rounds WITHOUT evidence found\n",
    "    t2_accuse_clean = t2_accuse.loc[t2_accuse['evidence_found'] == 0]\n",
    "    t2_investigate_clean = t2_investigate.loc[t2_investigate['evidence_found'] == 0]  \n",
    "    # select accuse rounds WITH evidence found\n",
    "    t2_accuse_certain = t2_accuse.loc[t2_accuse['evidence_found'] == 1]\n",
    "\n",
    "    \n",
    "    # number of collected samples at the accusation round (= round ID - 1)\n",
    "    distr_stop_time = t2_accuse['current_rounds'].to_list()\n",
    "    distr_stop_time = [x - 1 for x in distr_stop_time]\n",
    "    distr_stop_time_average = np.mean(distr_stop_time)\n",
    "    print(distr_stop_time_average)  \n",
    "    # equivalent method (same result)\n",
    "    t2_totsamples = t2_accuse.iloc[:,10]+t2_accuse.iloc[:,11]\n",
    "    t2_avg_samples = np.mean(t2_totsamples)\n",
    "    print(t2_avg_samples)\n",
    "\n",
    "    \n",
    "    # distribution of beliefs at the accusation round\n",
    "    distr_stop_belief = t2_accuse['posterior'].to_list()\n",
    "    \n",
    "    # percentage correct accusation\n",
    "    t2_accuse_correct = t2_accuse.iloc[:,15]==t2_accuse.iloc[:,16]\n",
    "    t2_perc_correct = np.mean(t2_accuse_correct)\n",
    "    print(t2_perc_correct)\n",
    "    \n",
    "    # percentage evidence found\n",
    "    t2_perc_evidence_found = np.mean(t2_accuse.iloc[:,12])\n",
    "    print(t2_perc_evidence_found)\n",
    "\n",
    "    # FIRST ROUND CONFIRMATORY BEHAVIOR (investigate only)\n",
    "    select_rounds = t2_investigate\n",
    "    select_rounds = select_rounds.loc[select_rounds.iloc[:,7]==1,:]\n",
    "    # pr(blue) when blue is more likely\n",
    "    select_rounds_low = select_rounds.loc[select_rounds.iloc[:,6]<0.5,:]\n",
    "    avg_rounds_low = np.mean(select_rounds_low.iloc[:,9])\n",
    "    # pr(red) when red is more likely\n",
    "    select_rounds_high = select_rounds.loc[select_rounds.iloc[:,6]>0.5,:]\n",
    "    avg_rounds_high = 1-np.mean(select_rounds_high.iloc[:,9])\n",
    "    # confirmatory behavior in round 1\n",
    "    t2_perc_confirmatory_round1 = np.mean([avg_rounds_low, avg_rounds_high])\n",
    "    print(t2_perc_confirmatory_round1)\n",
    "\n",
    "    # ALL ROUNDS CONFIRMATORY BEHAVIOR (investigate only)\n",
    "    select_rounds = t2_investigate_clean\n",
    "    # pr(blue) when blue is more likely\n",
    "    select_rounds_low = select_rounds.loc[select_rounds.iloc[:,14]<0.5,:]\n",
    "    avg_rounds_low = np.mean(select_rounds_low.iloc[:,9])\n",
    "    # pr(red) when red is more likely\n",
    "    select_rounds_high = select_rounds.loc[select_rounds.iloc[:,14]>0.5,:]\n",
    "    avg_rounds_high = 1-np.mean(select_rounds_high.iloc[:,9])\n",
    "    t2_perc_confirmatory_allrounds = np.mean([avg_rounds_low, avg_rounds_high])\n",
    "    print(t2_perc_confirmatory_allrounds)\n",
    "    \n",
    "    # score (good for tasks 2 and 3)\n",
    "    t2_unitcostred  = t2_accuse.iloc[:,4]\n",
    "    t2_unitcostblue = t2_accuse.iloc[:,5]\n",
    "    t2_round_score = 500 + t2_accuse_correct*1000  -t2_unitcostred*t2_accuse.iloc[:,10] -t2_unitcostblue*t2_accuse.iloc[:,11]\n",
    "    t2_avg_score = np.mean(t2_round_score)    \n",
    "    print(t2_avg_score)\n",
    "    "
   ]
  },
  {
   "cell_type": "code",
   "execution_count": 9,
   "metadata": {
    "ExecuteTime": {
     "end_time": "2020-10-21T02:22:28.827721Z",
     "start_time": "2020-10-21T02:22:28.814100Z"
    }
   },
   "outputs": [],
   "source": [
    "# FUNCTION TO CALCULATE SUMMARY STATISTICS\n",
    "def c_statistic(file):\n",
    "    \n",
    "    # read dataset\n",
    "    temp1 = pd.read_csv(file)\n",
    "\n",
    "\n",
    "    # isolate accuse rounds and investigation rounds\n",
    "    t2_accuse = temp1.loc[temp1['action_type'] == 1]\n",
    "    t2_investigate = temp1.loc[temp1['action_type'] == 0]\n",
    "    # select accuse and investigation rounds WITHOUT evidence found\n",
    "    t2_accuse_clean = t2_accuse.loc[t2_accuse['evidence_found'] == 0]\n",
    "    t2_investigate_clean = t2_investigate.loc[t2_investigate['evidence_found'] == 0]  \n",
    "    # select accuse rounds WITH evidence found\n",
    "    t2_accuse_certain = t2_accuse.loc[t2_accuse['evidence_found'] == 1]\n",
    "\n",
    "    \n",
    "    # number of collected samples at the accusation round (= round ID - 1)\n",
    "    distr_stop_time = t2_accuse['current_rounds'].to_list()\n",
    "    distr_stop_time = [x - 1 for x in distr_stop_time]\n",
    "    distr_stop_time_average = np.mean(distr_stop_time)\n",
    "    #print(distr_stop_time_average)  \n",
    "    # equivalent method (same result)\n",
    "    t2_totsamples = t2_accuse.iloc[:,10]+t2_accuse.iloc[:,11]\n",
    "    t2_avg_samples = np.mean(t2_totsamples)\n",
    "    #print(t2_avg_samples)\n",
    "\n",
    "    \n",
    "    # distribution of beliefs at the accusation round\n",
    "    distr_stop_belief = t2_accuse['posterior'].to_list()\n",
    "    \n",
    "    # percentage correct accusation\n",
    "    t2_accuse_correct = t2_accuse.iloc[:,15]==t2_accuse.iloc[:,16]\n",
    "    t2_perc_correct = np.mean(t2_accuse_correct)\n",
    "    #print(t2_perc_correct)\n",
    "    \n",
    "    # percentage evidence found\n",
    "    t2_perc_evidence_found = np.mean(t2_accuse.iloc[:,12])\n",
    "    #print(t2_perc_evidence_found)\n",
    "\n",
    "    # FIRST ROUND CONFIRMATORY BEHAVIOR (investigate only)\n",
    "    select_rounds = t2_investigate\n",
    "    select_rounds = select_rounds.loc[select_rounds.iloc[:,7]==1,:]\n",
    "    # pr(blue) when blue is more likely\n",
    "    select_rounds_low = select_rounds.loc[select_rounds.iloc[:,6]<0.5,:]\n",
    "    avg_rounds_low = np.mean(select_rounds_low.iloc[:,9])\n",
    "    # pr(red) when red is more likely\n",
    "    select_rounds_high = select_rounds.loc[select_rounds.iloc[:,6]>0.5,:]\n",
    "    avg_rounds_high = 1-np.mean(select_rounds_high.iloc[:,9])\n",
    "    # confirmatory behavior in round 1\n",
    "    t2_perc_confirmatory_round1 = np.mean([avg_rounds_low, avg_rounds_high])\n",
    "    #print(t2_perc_confirmatory_round1)\n",
    "\n",
    "    # ALL ROUNDS CONFIRMATORY BEHAVIOR (investigate only)\n",
    "    select_rounds = t2_investigate_clean\n",
    "    # pr(blue) when blue is more likely\n",
    "    select_rounds_low = select_rounds.loc[select_rounds.iloc[:,14]<0.5,:]\n",
    "    avg_rounds_low = np.mean(select_rounds_low.iloc[:,9])\n",
    "    # pr(red) when red is more likely\n",
    "    select_rounds_high = select_rounds.loc[select_rounds.iloc[:,14]>0.5,:]\n",
    "    avg_rounds_high = 1-np.mean(select_rounds_high.iloc[:,9])\n",
    "    t2_perc_confirmatory_allrounds = np.mean([avg_rounds_low, avg_rounds_high])\n",
    "    #print(t2_perc_confirmatory_allrounds)\n",
    "    \n",
    "    # score (good for tasks 2 and 3)\n",
    "    t2_unitcostred  = t2_accuse.iloc[:,4]\n",
    "    t2_unitcostblue = t2_accuse.iloc[:,5]\n",
    "    t2_round_score = 500 + t2_accuse_correct*1000  -t2_unitcostred*t2_accuse.iloc[:,10] -t2_unitcostblue*t2_accuse.iloc[:,11]\n",
    "    t2_avg_score = np.mean(t2_round_score)    \n",
    "    #print(t2_avg_score)    \n",
    "    \n",
    "    \n",
    "    # RETURN OUTPUT\n",
    "    return t2_avg_score,t2_avg_samples,t2_perc_confirmatory_allrounds,t2_perc_confirmatory_round1"
   ]
  },
  {
   "cell_type": "code",
   "execution_count": 10,
   "metadata": {
    "ExecuteTime": {
     "end_time": "2020-10-21T02:22:29.060481Z",
     "start_time": "2020-10-21T02:22:28.829924Z"
    }
   },
   "outputs": [
    {
     "name": "stdout",
     "output_type": "stream",
     "text": [
      "../Output/Task2_step4.csv\n",
      "t2_avg_score: 1292.9854166666667\n",
      "t2_avg_samples: 2.9570833333333333\n",
      "t2_perc_confirmatory_allrounds: 0.5541236554243263\n",
      "t2_perc_confirmatory_round1: 0.7781613791877722\n"
     ]
    },
    {
     "ename": "FileNotFoundError",
     "evalue": "[Errno 2] File b'../Output (Simulated)/Step4_A.csv' does not exist: b'../Output (Simulated)/Step4_A.csv'",
     "output_type": "error",
     "traceback": [
      "\u001b[0;31m---------------------------------------------------------------------------\u001b[0m",
      "\u001b[0;31mFileNotFoundError\u001b[0m                         Traceback (most recent call last)",
      "\u001b[0;32m<ipython-input-10-cb35609e96d1>\u001b[0m in \u001b[0;36m<module>\u001b[0;34m\u001b[0m\n\u001b[1;32m      2\u001b[0m         '../Output (Simulated)/Step4_B.csv']\n\u001b[1;32m      3\u001b[0m \u001b[0;32mfor\u001b[0m \u001b[0mi\u001b[0m \u001b[0;32min\u001b[0m \u001b[0mname\u001b[0m\u001b[0;34m:\u001b[0m\u001b[0;34m\u001b[0m\u001b[0;34m\u001b[0m\u001b[0m\n\u001b[0;32m----> 4\u001b[0;31m     \u001b[0mt2_avg_score\u001b[0m\u001b[0;34m,\u001b[0m\u001b[0mt2_avg_samples\u001b[0m\u001b[0;34m,\u001b[0m\u001b[0mt2_perc_confirmatory_allrounds\u001b[0m\u001b[0;34m,\u001b[0m\u001b[0mt2_perc_confirmatory_round1\u001b[0m \u001b[0;34m=\u001b[0m \u001b[0mc_statistic\u001b[0m\u001b[0;34m(\u001b[0m\u001b[0mi\u001b[0m\u001b[0;34m)\u001b[0m\u001b[0;34m\u001b[0m\u001b[0;34m\u001b[0m\u001b[0m\n\u001b[0m\u001b[1;32m      5\u001b[0m     \u001b[0mprint\u001b[0m\u001b[0;34m(\u001b[0m\u001b[0mi\u001b[0m\u001b[0;34m)\u001b[0m\u001b[0;34m\u001b[0m\u001b[0;34m\u001b[0m\u001b[0m\n\u001b[1;32m      6\u001b[0m     \u001b[0mprint\u001b[0m\u001b[0;34m(\u001b[0m\u001b[0;34m't2_avg_score:'\u001b[0m\u001b[0;34m,\u001b[0m\u001b[0mt2_avg_score\u001b[0m\u001b[0;34m)\u001b[0m\u001b[0;34m\u001b[0m\u001b[0;34m\u001b[0m\u001b[0m\n",
      "\u001b[0;32m<ipython-input-9-d37c28c67271>\u001b[0m in \u001b[0;36mc_statistic\u001b[0;34m(file)\u001b[0m\n\u001b[1;32m      3\u001b[0m \u001b[0;34m\u001b[0m\u001b[0m\n\u001b[1;32m      4\u001b[0m     \u001b[0;31m# read dataset\u001b[0m\u001b[0;34m\u001b[0m\u001b[0;34m\u001b[0m\u001b[0;34m\u001b[0m\u001b[0m\n\u001b[0;32m----> 5\u001b[0;31m     \u001b[0mtemp1\u001b[0m \u001b[0;34m=\u001b[0m \u001b[0mpd\u001b[0m\u001b[0;34m.\u001b[0m\u001b[0mread_csv\u001b[0m\u001b[0;34m(\u001b[0m\u001b[0mfile\u001b[0m\u001b[0;34m)\u001b[0m\u001b[0;34m\u001b[0m\u001b[0;34m\u001b[0m\u001b[0m\n\u001b[0m\u001b[1;32m      6\u001b[0m \u001b[0;34m\u001b[0m\u001b[0m\n\u001b[1;32m      7\u001b[0m \u001b[0;34m\u001b[0m\u001b[0m\n",
      "\u001b[0;32m/opt/anaconda3/lib/python3.7/site-packages/pandas/io/parsers.py\u001b[0m in \u001b[0;36mparser_f\u001b[0;34m(filepath_or_buffer, sep, delimiter, header, names, index_col, usecols, squeeze, prefix, mangle_dupe_cols, dtype, engine, converters, true_values, false_values, skipinitialspace, skiprows, skipfooter, nrows, na_values, keep_default_na, na_filter, verbose, skip_blank_lines, parse_dates, infer_datetime_format, keep_date_col, date_parser, dayfirst, cache_dates, iterator, chunksize, compression, thousands, decimal, lineterminator, quotechar, quoting, doublequote, escapechar, comment, encoding, dialect, error_bad_lines, warn_bad_lines, delim_whitespace, low_memory, memory_map, float_precision)\u001b[0m\n\u001b[1;32m    683\u001b[0m         )\n\u001b[1;32m    684\u001b[0m \u001b[0;34m\u001b[0m\u001b[0m\n\u001b[0;32m--> 685\u001b[0;31m         \u001b[0;32mreturn\u001b[0m \u001b[0m_read\u001b[0m\u001b[0;34m(\u001b[0m\u001b[0mfilepath_or_buffer\u001b[0m\u001b[0;34m,\u001b[0m \u001b[0mkwds\u001b[0m\u001b[0;34m)\u001b[0m\u001b[0;34m\u001b[0m\u001b[0;34m\u001b[0m\u001b[0m\n\u001b[0m\u001b[1;32m    686\u001b[0m \u001b[0;34m\u001b[0m\u001b[0m\n\u001b[1;32m    687\u001b[0m     \u001b[0mparser_f\u001b[0m\u001b[0;34m.\u001b[0m\u001b[0m__name__\u001b[0m \u001b[0;34m=\u001b[0m \u001b[0mname\u001b[0m\u001b[0;34m\u001b[0m\u001b[0;34m\u001b[0m\u001b[0m\n",
      "\u001b[0;32m/opt/anaconda3/lib/python3.7/site-packages/pandas/io/parsers.py\u001b[0m in \u001b[0;36m_read\u001b[0;34m(filepath_or_buffer, kwds)\u001b[0m\n\u001b[1;32m    455\u001b[0m \u001b[0;34m\u001b[0m\u001b[0m\n\u001b[1;32m    456\u001b[0m     \u001b[0;31m# Create the parser.\u001b[0m\u001b[0;34m\u001b[0m\u001b[0;34m\u001b[0m\u001b[0;34m\u001b[0m\u001b[0m\n\u001b[0;32m--> 457\u001b[0;31m     \u001b[0mparser\u001b[0m \u001b[0;34m=\u001b[0m \u001b[0mTextFileReader\u001b[0m\u001b[0;34m(\u001b[0m\u001b[0mfp_or_buf\u001b[0m\u001b[0;34m,\u001b[0m \u001b[0;34m**\u001b[0m\u001b[0mkwds\u001b[0m\u001b[0;34m)\u001b[0m\u001b[0;34m\u001b[0m\u001b[0;34m\u001b[0m\u001b[0m\n\u001b[0m\u001b[1;32m    458\u001b[0m \u001b[0;34m\u001b[0m\u001b[0m\n\u001b[1;32m    459\u001b[0m     \u001b[0;32mif\u001b[0m \u001b[0mchunksize\u001b[0m \u001b[0;32mor\u001b[0m \u001b[0miterator\u001b[0m\u001b[0;34m:\u001b[0m\u001b[0;34m\u001b[0m\u001b[0;34m\u001b[0m\u001b[0m\n",
      "\u001b[0;32m/opt/anaconda3/lib/python3.7/site-packages/pandas/io/parsers.py\u001b[0m in \u001b[0;36m__init__\u001b[0;34m(self, f, engine, **kwds)\u001b[0m\n\u001b[1;32m    893\u001b[0m             \u001b[0mself\u001b[0m\u001b[0;34m.\u001b[0m\u001b[0moptions\u001b[0m\u001b[0;34m[\u001b[0m\u001b[0;34m\"has_index_names\"\u001b[0m\u001b[0;34m]\u001b[0m \u001b[0;34m=\u001b[0m \u001b[0mkwds\u001b[0m\u001b[0;34m[\u001b[0m\u001b[0;34m\"has_index_names\"\u001b[0m\u001b[0;34m]\u001b[0m\u001b[0;34m\u001b[0m\u001b[0;34m\u001b[0m\u001b[0m\n\u001b[1;32m    894\u001b[0m \u001b[0;34m\u001b[0m\u001b[0m\n\u001b[0;32m--> 895\u001b[0;31m         \u001b[0mself\u001b[0m\u001b[0;34m.\u001b[0m\u001b[0m_make_engine\u001b[0m\u001b[0;34m(\u001b[0m\u001b[0mself\u001b[0m\u001b[0;34m.\u001b[0m\u001b[0mengine\u001b[0m\u001b[0;34m)\u001b[0m\u001b[0;34m\u001b[0m\u001b[0;34m\u001b[0m\u001b[0m\n\u001b[0m\u001b[1;32m    896\u001b[0m \u001b[0;34m\u001b[0m\u001b[0m\n\u001b[1;32m    897\u001b[0m     \u001b[0;32mdef\u001b[0m \u001b[0mclose\u001b[0m\u001b[0;34m(\u001b[0m\u001b[0mself\u001b[0m\u001b[0;34m)\u001b[0m\u001b[0;34m:\u001b[0m\u001b[0;34m\u001b[0m\u001b[0;34m\u001b[0m\u001b[0m\n",
      "\u001b[0;32m/opt/anaconda3/lib/python3.7/site-packages/pandas/io/parsers.py\u001b[0m in \u001b[0;36m_make_engine\u001b[0;34m(self, engine)\u001b[0m\n\u001b[1;32m   1133\u001b[0m     \u001b[0;32mdef\u001b[0m \u001b[0m_make_engine\u001b[0m\u001b[0;34m(\u001b[0m\u001b[0mself\u001b[0m\u001b[0;34m,\u001b[0m \u001b[0mengine\u001b[0m\u001b[0;34m=\u001b[0m\u001b[0;34m\"c\"\u001b[0m\u001b[0;34m)\u001b[0m\u001b[0;34m:\u001b[0m\u001b[0;34m\u001b[0m\u001b[0;34m\u001b[0m\u001b[0m\n\u001b[1;32m   1134\u001b[0m         \u001b[0;32mif\u001b[0m \u001b[0mengine\u001b[0m \u001b[0;34m==\u001b[0m \u001b[0;34m\"c\"\u001b[0m\u001b[0;34m:\u001b[0m\u001b[0;34m\u001b[0m\u001b[0;34m\u001b[0m\u001b[0m\n\u001b[0;32m-> 1135\u001b[0;31m             \u001b[0mself\u001b[0m\u001b[0;34m.\u001b[0m\u001b[0m_engine\u001b[0m \u001b[0;34m=\u001b[0m \u001b[0mCParserWrapper\u001b[0m\u001b[0;34m(\u001b[0m\u001b[0mself\u001b[0m\u001b[0;34m.\u001b[0m\u001b[0mf\u001b[0m\u001b[0;34m,\u001b[0m \u001b[0;34m**\u001b[0m\u001b[0mself\u001b[0m\u001b[0;34m.\u001b[0m\u001b[0moptions\u001b[0m\u001b[0;34m)\u001b[0m\u001b[0;34m\u001b[0m\u001b[0;34m\u001b[0m\u001b[0m\n\u001b[0m\u001b[1;32m   1136\u001b[0m         \u001b[0;32melse\u001b[0m\u001b[0;34m:\u001b[0m\u001b[0;34m\u001b[0m\u001b[0;34m\u001b[0m\u001b[0m\n\u001b[1;32m   1137\u001b[0m             \u001b[0;32mif\u001b[0m \u001b[0mengine\u001b[0m \u001b[0;34m==\u001b[0m \u001b[0;34m\"python\"\u001b[0m\u001b[0;34m:\u001b[0m\u001b[0;34m\u001b[0m\u001b[0;34m\u001b[0m\u001b[0m\n",
      "\u001b[0;32m/opt/anaconda3/lib/python3.7/site-packages/pandas/io/parsers.py\u001b[0m in \u001b[0;36m__init__\u001b[0;34m(self, src, **kwds)\u001b[0m\n\u001b[1;32m   1915\u001b[0m         \u001b[0mkwds\u001b[0m\u001b[0;34m[\u001b[0m\u001b[0;34m\"usecols\"\u001b[0m\u001b[0;34m]\u001b[0m \u001b[0;34m=\u001b[0m \u001b[0mself\u001b[0m\u001b[0;34m.\u001b[0m\u001b[0musecols\u001b[0m\u001b[0;34m\u001b[0m\u001b[0;34m\u001b[0m\u001b[0m\n\u001b[1;32m   1916\u001b[0m \u001b[0;34m\u001b[0m\u001b[0m\n\u001b[0;32m-> 1917\u001b[0;31m         \u001b[0mself\u001b[0m\u001b[0;34m.\u001b[0m\u001b[0m_reader\u001b[0m \u001b[0;34m=\u001b[0m \u001b[0mparsers\u001b[0m\u001b[0;34m.\u001b[0m\u001b[0mTextReader\u001b[0m\u001b[0;34m(\u001b[0m\u001b[0msrc\u001b[0m\u001b[0;34m,\u001b[0m \u001b[0;34m**\u001b[0m\u001b[0mkwds\u001b[0m\u001b[0;34m)\u001b[0m\u001b[0;34m\u001b[0m\u001b[0;34m\u001b[0m\u001b[0m\n\u001b[0m\u001b[1;32m   1918\u001b[0m         \u001b[0mself\u001b[0m\u001b[0;34m.\u001b[0m\u001b[0munnamed_cols\u001b[0m \u001b[0;34m=\u001b[0m \u001b[0mself\u001b[0m\u001b[0;34m.\u001b[0m\u001b[0m_reader\u001b[0m\u001b[0;34m.\u001b[0m\u001b[0munnamed_cols\u001b[0m\u001b[0;34m\u001b[0m\u001b[0;34m\u001b[0m\u001b[0m\n\u001b[1;32m   1919\u001b[0m \u001b[0;34m\u001b[0m\u001b[0m\n",
      "\u001b[0;32mpandas/_libs/parsers.pyx\u001b[0m in \u001b[0;36mpandas._libs.parsers.TextReader.__cinit__\u001b[0;34m()\u001b[0m\n",
      "\u001b[0;32mpandas/_libs/parsers.pyx\u001b[0m in \u001b[0;36mpandas._libs.parsers.TextReader._setup_parser_source\u001b[0;34m()\u001b[0m\n",
      "\u001b[0;31mFileNotFoundError\u001b[0m: [Errno 2] File b'../Output (Simulated)/Step4_A.csv' does not exist: b'../Output (Simulated)/Step4_A.csv'"
     ]
    }
   ],
   "source": [
    "name = ['../Output/Task2_step4.csv','../Output (Simulated)/Step4_A.csv',\n",
    "        '../Output (Simulated)/Step4_B.csv']\n",
    "for i in name:\n",
    "    t2_avg_score,t2_avg_samples,t2_perc_confirmatory_allrounds,t2_perc_confirmatory_round1 = c_statistic(i)\n",
    "    print(i)\n",
    "    print('t2_avg_score:',t2_avg_score)\n",
    "    print('t2_avg_samples:',t2_avg_samples)\n",
    "    print('t2_perc_confirmatory_allrounds:',t2_perc_confirmatory_allrounds)\n",
    "    print('t2_perc_confirmatory_round1:',t2_perc_confirmatory_round1)"
   ]
  },
  {
   "cell_type": "code",
   "execution_count": null,
   "metadata": {},
   "outputs": [],
   "source": []
  }
 ],
 "metadata": {
  "kernelspec": {
   "display_name": "Python 3",
   "language": "python",
   "name": "python3"
  },
  "language_info": {
   "codemirror_mode": {
    "name": "ipython",
    "version": 3
   },
   "file_extension": ".py",
   "mimetype": "text/x-python",
   "name": "python",
   "nbconvert_exporter": "python",
   "pygments_lexer": "ipython3",
   "version": "3.7.4"
  },
  "latex_envs": {
   "LaTeX_envs_menu_present": true,
   "autoclose": true,
   "autocomplete": true,
   "bibliofile": "biblio.bib",
   "cite_by": "apalike",
   "current_citInitial": 1,
   "eqLabelWithNumbers": true,
   "eqNumInitial": 1,
   "hotkeys": {
    "equation": "Ctrl-E",
    "itemize": "Ctrl-I"
   },
   "labels_anchors": false,
   "latex_user_defs": false,
   "report_style_numbering": false,
   "user_envs_cfg": false
  },
  "toc": {
   "base_numbering": 1,
   "nav_menu": {},
   "number_sections": true,
   "sideBar": true,
   "skip_h1_title": false,
   "title_cell": "Table of Contents",
   "title_sidebar": "Contents",
   "toc_cell": false,
   "toc_position": {},
   "toc_section_display": true,
   "toc_window_display": true
  },
  "varInspector": {
   "cols": {
    "lenName": 16,
    "lenType": 16,
    "lenVar": 40
   },
   "kernels_config": {
    "python": {
     "delete_cmd_postfix": "",
     "delete_cmd_prefix": "del ",
     "library": "var_list.py",
     "varRefreshCmd": "print(var_dic_list())"
    },
    "r": {
     "delete_cmd_postfix": ") ",
     "delete_cmd_prefix": "rm(",
     "library": "var_list.r",
     "varRefreshCmd": "cat(var_dic_list()) "
    }
   },
   "types_to_exclude": [
    "module",
    "function",
    "builtin_function_or_method",
    "instance",
    "_Feature"
   ],
   "window_display": false
  }
 },
 "nbformat": 4,
 "nbformat_minor": 4
}
