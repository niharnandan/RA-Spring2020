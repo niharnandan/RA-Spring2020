{
 "cells": [
  {
   "cell_type": "code",
   "execution_count": 8,
   "metadata": {
    "ExecuteTime": {
     "end_time": "2020-11-04T22:33:42.069469Z",
     "start_time": "2020-11-04T22:33:42.065480Z"
    }
   },
   "outputs": [],
   "source": [
    "import pandas as pd\n",
    "import numpy as np\n",
    "import matplotlib.pyplot as plt"
   ]
  },
  {
   "cell_type": "code",
   "execution_count": 9,
   "metadata": {
    "ExecuteTime": {
     "end_time": "2020-11-04T22:33:42.142274Z",
     "start_time": "2020-11-04T22:33:42.072462Z"
    }
   },
   "outputs": [
    {
     "data": {
      "text/html": [
       "<div>\n",
       "<style scoped>\n",
       "    .dataframe tbody tr th:only-of-type {\n",
       "        vertical-align: middle;\n",
       "    }\n",
       "\n",
       "    .dataframe tbody tr th {\n",
       "        vertical-align: top;\n",
       "    }\n",
       "\n",
       "    .dataframe thead th {\n",
       "        text-align: right;\n",
       "    }\n",
       "</style>\n",
       "<table border=\"1\" class=\"dataframe\">\n",
       "  <thead>\n",
       "    <tr style=\"text-align: right;\">\n",
       "      <th></th>\n",
       "      <th>participant_ID</th>\n",
       "      <th>treatment</th>\n",
       "      <th>part</th>\n",
       "      <th>trial_no</th>\n",
       "      <th>setup_cost_red</th>\n",
       "      <th>setup_cost_blue</th>\n",
       "      <th>red_prior_prob</th>\n",
       "      <th>current_rounds</th>\n",
       "      <th>action_type</th>\n",
       "      <th>suspect</th>\n",
       "      <th>count_red_samples</th>\n",
       "      <th>count_blue_samples</th>\n",
       "      <th>evidence_found</th>\n",
       "      <th>evidence_suspect</th>\n",
       "      <th>posterior</th>\n",
       "      <th>true_guilty_suspect</th>\n",
       "      <th>suspect_accused</th>\n",
       "      <th>time</th>\n",
       "    </tr>\n",
       "  </thead>\n",
       "  <tbody>\n",
       "    <tr>\n",
       "      <th>0</th>\n",
       "      <td>1.0</td>\n",
       "      <td>1.0</td>\n",
       "      <td>2.0</td>\n",
       "      <td>1.0</td>\n",
       "      <td>10.0</td>\n",
       "      <td>10.0</td>\n",
       "      <td>0.7</td>\n",
       "      <td>1</td>\n",
       "      <td>0</td>\n",
       "      <td>1.0</td>\n",
       "      <td>0</td>\n",
       "      <td>0</td>\n",
       "      <td>0</td>\n",
       "      <td>-1.0</td>\n",
       "      <td>0.700000</td>\n",
       "      <td>1.0</td>\n",
       "      <td>0.0</td>\n",
       "      <td>6016.7120</td>\n",
       "    </tr>\n",
       "    <tr>\n",
       "      <th>1</th>\n",
       "      <td>1.0</td>\n",
       "      <td>1.0</td>\n",
       "      <td>2.0</td>\n",
       "      <td>1.0</td>\n",
       "      <td>10.0</td>\n",
       "      <td>10.0</td>\n",
       "      <td>0.7</td>\n",
       "      <td>2</td>\n",
       "      <td>0</td>\n",
       "      <td>1.0</td>\n",
       "      <td>0</td>\n",
       "      <td>1</td>\n",
       "      <td>0</td>\n",
       "      <td>-1.0</td>\n",
       "      <td>0.756757</td>\n",
       "      <td>1.0</td>\n",
       "      <td>0.0</td>\n",
       "      <td>6733.3740</td>\n",
       "    </tr>\n",
       "    <tr>\n",
       "      <th>2</th>\n",
       "      <td>1.0</td>\n",
       "      <td>1.0</td>\n",
       "      <td>2.0</td>\n",
       "      <td>1.0</td>\n",
       "      <td>10.0</td>\n",
       "      <td>10.0</td>\n",
       "      <td>0.7</td>\n",
       "      <td>3</td>\n",
       "      <td>0</td>\n",
       "      <td>1.0</td>\n",
       "      <td>0</td>\n",
       "      <td>2</td>\n",
       "      <td>0</td>\n",
       "      <td>-1.0</td>\n",
       "      <td>0.805755</td>\n",
       "      <td>1.0</td>\n",
       "      <td>0.0</td>\n",
       "      <td>7383.4022</td>\n",
       "    </tr>\n",
       "    <tr>\n",
       "      <th>3</th>\n",
       "      <td>1.0</td>\n",
       "      <td>1.0</td>\n",
       "      <td>2.0</td>\n",
       "      <td>1.0</td>\n",
       "      <td>10.0</td>\n",
       "      <td>10.0</td>\n",
       "      <td>0.7</td>\n",
       "      <td>4</td>\n",
       "      <td>0</td>\n",
       "      <td>1.0</td>\n",
       "      <td>0</td>\n",
       "      <td>3</td>\n",
       "      <td>0</td>\n",
       "      <td>-1.0</td>\n",
       "      <td>0.846881</td>\n",
       "      <td>1.0</td>\n",
       "      <td>0.0</td>\n",
       "      <td>8000.0214</td>\n",
       "    </tr>\n",
       "    <tr>\n",
       "      <th>4</th>\n",
       "      <td>1.0</td>\n",
       "      <td>1.0</td>\n",
       "      <td>2.0</td>\n",
       "      <td>1.0</td>\n",
       "      <td>10.0</td>\n",
       "      <td>10.0</td>\n",
       "      <td>0.7</td>\n",
       "      <td>5</td>\n",
       "      <td>0</td>\n",
       "      <td>1.0</td>\n",
       "      <td>0</td>\n",
       "      <td>4</td>\n",
       "      <td>0</td>\n",
       "      <td>-1.0</td>\n",
       "      <td>0.880590</td>\n",
       "      <td>1.0</td>\n",
       "      <td>0.0</td>\n",
       "      <td>8716.7231</td>\n",
       "    </tr>\n",
       "  </tbody>\n",
       "</table>\n",
       "</div>"
      ],
      "text/plain": [
       "   participant_ID  treatment  part  trial_no  setup_cost_red  setup_cost_blue  \\\n",
       "0             1.0        1.0   2.0       1.0            10.0             10.0   \n",
       "1             1.0        1.0   2.0       1.0            10.0             10.0   \n",
       "2             1.0        1.0   2.0       1.0            10.0             10.0   \n",
       "3             1.0        1.0   2.0       1.0            10.0             10.0   \n",
       "4             1.0        1.0   2.0       1.0            10.0             10.0   \n",
       "\n",
       "   red_prior_prob  current_rounds  action_type  suspect  count_red_samples  \\\n",
       "0             0.7               1            0      1.0                  0   \n",
       "1             0.7               2            0      1.0                  0   \n",
       "2             0.7               3            0      1.0                  0   \n",
       "3             0.7               4            0      1.0                  0   \n",
       "4             0.7               5            0      1.0                  0   \n",
       "\n",
       "   count_blue_samples  evidence_found  evidence_suspect  posterior  \\\n",
       "0                   0               0              -1.0   0.700000   \n",
       "1                   1               0              -1.0   0.756757   \n",
       "2                   2               0              -1.0   0.805755   \n",
       "3                   3               0              -1.0   0.846881   \n",
       "4                   4               0              -1.0   0.880590   \n",
       "\n",
       "   true_guilty_suspect  suspect_accused       time  \n",
       "0                  1.0              0.0  6016.7120  \n",
       "1                  1.0              0.0  6733.3740  \n",
       "2                  1.0              0.0  7383.4022  \n",
       "3                  1.0              0.0  8000.0214  \n",
       "4                  1.0              0.0  8716.7231  "
      ]
     },
     "execution_count": 9,
     "metadata": {},
     "output_type": "execute_result"
    }
   ],
   "source": [
    "g_table = pd.read_csv('../Output/Task2_step4.csv')\n",
    "g_table.head()"
   ]
  },
  {
   "cell_type": "code",
   "execution_count": 10,
   "metadata": {
    "ExecuteTime": {
     "end_time": "2020-11-04T22:33:42.171067Z",
     "start_time": "2020-11-04T22:33:42.146264Z"
    }
   },
   "outputs": [
    {
     "name": "stderr",
     "output_type": "stream",
     "text": [
      "<ipython-input-10-34e89ce73d89>:15: RuntimeWarning: Mean of empty slice.\n",
      "  bin_means_bu = [data[digitized == i].mean() for i in range(1, len(bins))]\n",
      "D:\\anaconda3\\lib\\site-packages\\numpy\\core\\_methods.py:161: RuntimeWarning: invalid value encountered in double_scalars\n",
      "  ret = ret.dtype.type(ret / rcount)\n"
     ]
    }
   ],
   "source": [
    "action = g_table.loc[(g_table['action_type'] == 1)]\n",
    "bins = np.linspace(0, 1, 21)\n",
    "data = np.array(action['posterior'].to_list())\n",
    "digitized = np.digitize(data, bins)\n",
    "bin_means_b = [data[digitized == i].mean() for i in range(1, len(bins))]\n",
    "\n",
    "action = g_table.loc[(g_table['action_type'] == 1) & (g_table['red_prior_prob'] < 0.5)]\n",
    "data = np.array(action['posterior'].to_list())\n",
    "digitized = np.digitize(data, bins)\n",
    "bin_means_r = [data[digitized == i].mean() for i in range(1, len(bins))]\n",
    "\n",
    "action = g_table.loc[(g_table['action_type'] == 1) & (g_table['red_prior_prob'] > 0.5)]\n",
    "data = np.array(action['posterior'].to_list())\n",
    "digitized = np.digitize(data, bins)\n",
    "bin_means_bu = [data[digitized == i].mean() for i in range(1, len(bins))]"
   ]
  },
  {
   "cell_type": "code",
   "execution_count": 11,
   "metadata": {
    "ExecuteTime": {
     "end_time": "2020-11-04T22:33:42.406434Z",
     "start_time": "2020-11-04T22:33:42.176049Z"
    }
   },
   "outputs": [
    {
     "data": {
      "text/plain": [
       "[<matplotlib.lines.Line2D at 0x1d2666d4b20>]"
      ]
     },
     "execution_count": 11,
     "metadata": {},
     "output_type": "execute_result"
    },
    {
     "data": {
      "image/png": "[encoded data removed]",
      "text/plain": [
       "<Figure size 432x288 with 1 Axes>"
      ]
     },
     "metadata": {
      "needs_background": "light"
     },
     "output_type": "display_data"
    }
   ],
   "source": [
    "plt.plot(bin_means_bu)\n",
    "plt.plot(bin_means_b)\n",
    "plt.plot(bin_means_r)"
   ]
  },
  {
   "cell_type": "code",
   "execution_count": 12,
   "metadata": {
    "ExecuteTime": {
     "end_time": "2020-11-04T22:33:42.415408Z",
     "start_time": "2020-11-04T22:33:42.408430Z"
    }
   },
   "outputs": [
    {
     "name": "stdout",
     "output_type": "stream",
     "text": [
      "high\n",
      "[9.153674532102866e-07, 0.07731273760889656, 0.1380988108049153, 0.18936236007174206, 0.23749243728766214, 0.2934276349836121, nan, 0.3563796354494028, 0.42114201947320673, 0.4865926665054414, 0.545734327778856, 0.5675675675675674, 0.6363636363636362, 0.6997121253558912, 0.7255191508998616, 0.7683481527129735, 0.8314970512418058, 0.8776418873193068, 0.9012527721736119, 0.9699198080603361]\n",
      "low\n",
      "[0.006289671937723693, 0.06700669077500111, 0.1011176922467245, 0.1743925783338573, 0.23827550211915036, 0.29924336749353503, 0.3189037682964809, 0.3688143516425397, 0.4324324324324325, 0.454265672221144, 0.5076199122820045, 0.578346968862452, 0.6436203645505971, 0.6636485556800971, 0.7065723650163876, 0.7677241519024411, 0.8106376399282577, 0.8650384634472804, 0.9102919559592996, 0.9902303941609734]\n",
      "all\n",
      "[0.0010126698154222537, 0.07215240210285262, 0.10230169331338328, 0.17676848417190963, 0.23886930308823132, 0.29896007958335413, 0.3189037682964809, 0.3634969420807085, 0.4253141925131624, 0.48146800099803777, 0.5010975050339979, 0.5729024022467375, 0.6388761960854984, 0.6995299861151044, 0.7155609685592499, 0.7650060641870219, 0.8260014493183092, 0.8747315314537115, 0.9016638297505278, 0.9712398861675806]\n"
     ]
    }
   ],
   "source": [
    "print('high')\n",
    "print(bin_means_bu)\n",
    "print('low')\n",
    "print(bin_means_r)\n",
    "print('all')\n",
    "print(bin_means_b)"
   ]
  },
  {
   "cell_type": "code",
   "execution_count": null,
   "metadata": {},
   "outputs": [],
   "source": []
  }
 ],
 "metadata": {
  "kernelspec": {
   "display_name": "Python 3",
   "language": "python",
   "name": "python3"
  },
  "language_info": {
   "codemirror_mode": {
    "name": "ipython",
    "version": 3
   },
   "file_extension": ".py",
   "mimetype": "text/x-python",
   "name": "python",
   "nbconvert_exporter": "python",
   "pygments_lexer": "ipython3",
   "version": "3.8.3"
  },
  "varInspector": {
   "cols": {
    "lenName": 16,
    "lenType": 16,
    "lenVar": 40
   },
   "kernels_config": {
    "python": {
     "delete_cmd_postfix": "",
     "delete_cmd_prefix": "del ",
     "library": "var_list.py",
     "varRefreshCmd": "print(var_dic_list())"
    },
    "r": {
     "delete_cmd_postfix": ") ",
     "delete_cmd_prefix": "rm(",
     "library": "var_list.r",
     "varRefreshCmd": "cat(var_dic_list()) "
    }
   },
   "types_to_exclude": [
    "module",
    "function",
    "builtin_function_or_method",
    "instance",
    "_Feature"
   ],
   "window_display": false
  }
 },
 "nbformat": 4,
 "nbformat_minor": 4
}
