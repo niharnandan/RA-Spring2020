{
 "cells": [
  {
   "cell_type": "code",
   "execution_count": 76,
   "metadata": {
    "ExecuteTime": {
     "end_time": "2020-10-29T23:58:12.469247Z",
     "start_time": "2020-10-29T23:58:12.466694Z"
    }
   },
   "outputs": [],
   "source": [
    "## RUN SUMMARY STATISTICS FOR A DATASET (TASK 1)"
   ]
  },
  {
   "cell_type": "code",
   "execution_count": 113,
   "metadata": {
    "ExecuteTime": {
     "end_time": "2020-10-30T03:13:09.743955Z",
     "start_time": "2020-10-30T03:13:09.739589Z"
    }
   },
   "outputs": [],
   "source": [
    "# IMPORT PACKAGES\n",
    "import pandas as pd\n",
    "import numpy as np\n",
    "import matplotlib.pyplot as plt\n",
    "import seaborn as sns\n",
    "import json\n",
    "sns.set_style(\"darkgrid\")"
   ]
  },
  {
   "cell_type": "code",
   "execution_count": 114,
   "metadata": {
    "ExecuteTime": {
     "end_time": "2020-10-30T03:13:10.238563Z",
     "start_time": "2020-10-30T03:13:10.175886Z"
    },
    "scrolled": true
   },
   "outputs": [
    {
     "data": {
      "text/html": [
       "<div>\n",
       "<style scoped>\n",
       "    .dataframe tbody tr th:only-of-type {\n",
       "        vertical-align: middle;\n",
       "    }\n",
       "\n",
       "    .dataframe tbody tr th {\n",
       "        vertical-align: top;\n",
       "    }\n",
       "\n",
       "    .dataframe thead th {\n",
       "        text-align: right;\n",
       "    }\n",
       "</style>\n",
       "<table border=\"1\" class=\"dataframe\">\n",
       "  <thead>\n",
       "    <tr style=\"text-align: right;\">\n",
       "      <th></th>\n",
       "      <th>participant_ID</th>\n",
       "      <th>treatment</th>\n",
       "      <th>part</th>\n",
       "      <th>trial_no</th>\n",
       "      <th>rounds</th>\n",
       "      <th>red_prior_prob</th>\n",
       "      <th>current_rounds</th>\n",
       "      <th>action_type</th>\n",
       "      <th>suspect</th>\n",
       "      <th>count_red_samples</th>\n",
       "      <th>count_blue_samples</th>\n",
       "      <th>evidence_found</th>\n",
       "      <th>evidence_suspect</th>\n",
       "      <th>posterior</th>\n",
       "      <th>true_guilty_suspect</th>\n",
       "      <th>suspect_accused</th>\n",
       "      <th>time</th>\n",
       "    </tr>\n",
       "  </thead>\n",
       "  <tbody>\n",
       "    <tr>\n",
       "      <td>0</td>\n",
       "      <td>1.0</td>\n",
       "      <td>1.0</td>\n",
       "      <td>1.0</td>\n",
       "      <td>1.0</td>\n",
       "      <td>1.0</td>\n",
       "      <td>0.5</td>\n",
       "      <td>1</td>\n",
       "      <td>0</td>\n",
       "      <td>0.0</td>\n",
       "      <td>0</td>\n",
       "      <td>0</td>\n",
       "      <td>0</td>\n",
       "      <td>-1.0</td>\n",
       "      <td>0.500000</td>\n",
       "      <td>0.0</td>\n",
       "      <td>0.0</td>\n",
       "      <td>4654.1816</td>\n",
       "    </tr>\n",
       "    <tr>\n",
       "      <td>1</td>\n",
       "      <td>1.0</td>\n",
       "      <td>1.0</td>\n",
       "      <td>1.0</td>\n",
       "      <td>1.0</td>\n",
       "      <td>1.0</td>\n",
       "      <td>0.5</td>\n",
       "      <td>2</td>\n",
       "      <td>1</td>\n",
       "      <td>0.0</td>\n",
       "      <td>1</td>\n",
       "      <td>0</td>\n",
       "      <td>0</td>\n",
       "      <td>-1.0</td>\n",
       "      <td>0.428571</td>\n",
       "      <td>0.0</td>\n",
       "      <td>0.0</td>\n",
       "      <td>13857.2739</td>\n",
       "    </tr>\n",
       "    <tr>\n",
       "      <td>2</td>\n",
       "      <td>1.0</td>\n",
       "      <td>1.0</td>\n",
       "      <td>1.0</td>\n",
       "      <td>2.0</td>\n",
       "      <td>3.0</td>\n",
       "      <td>0.1</td>\n",
       "      <td>1</td>\n",
       "      <td>0</td>\n",
       "      <td>1.0</td>\n",
       "      <td>0</td>\n",
       "      <td>0</td>\n",
       "      <td>0</td>\n",
       "      <td>-1.0</td>\n",
       "      <td>0.100000</td>\n",
       "      <td>1.0</td>\n",
       "      <td>1.0</td>\n",
       "      <td>3317.6681</td>\n",
       "    </tr>\n",
       "    <tr>\n",
       "      <td>3</td>\n",
       "      <td>1.0</td>\n",
       "      <td>1.0</td>\n",
       "      <td>1.0</td>\n",
       "      <td>2.0</td>\n",
       "      <td>3.0</td>\n",
       "      <td>0.1</td>\n",
       "      <td>2</td>\n",
       "      <td>0</td>\n",
       "      <td>1.0</td>\n",
       "      <td>0</td>\n",
       "      <td>1</td>\n",
       "      <td>0</td>\n",
       "      <td>-1.0</td>\n",
       "      <td>0.129032</td>\n",
       "      <td>1.0</td>\n",
       "      <td>1.0</td>\n",
       "      <td>5101.5863</td>\n",
       "    </tr>\n",
       "    <tr>\n",
       "      <td>4</td>\n",
       "      <td>1.0</td>\n",
       "      <td>1.0</td>\n",
       "      <td>1.0</td>\n",
       "      <td>2.0</td>\n",
       "      <td>3.0</td>\n",
       "      <td>0.1</td>\n",
       "      <td>3</td>\n",
       "      <td>0</td>\n",
       "      <td>1.0</td>\n",
       "      <td>0</td>\n",
       "      <td>2</td>\n",
       "      <td>0</td>\n",
       "      <td>-1.0</td>\n",
       "      <td>0.164948</td>\n",
       "      <td>1.0</td>\n",
       "      <td>1.0</td>\n",
       "      <td>6735.5187</td>\n",
       "    </tr>\n",
       "  </tbody>\n",
       "</table>\n",
       "</div>"
      ],
      "text/plain": [
       "   participant_ID  treatment  part  trial_no  rounds  red_prior_prob  \\\n",
       "0             1.0        1.0   1.0       1.0     1.0             0.5   \n",
       "1             1.0        1.0   1.0       1.0     1.0             0.5   \n",
       "2             1.0        1.0   1.0       2.0     3.0             0.1   \n",
       "3             1.0        1.0   1.0       2.0     3.0             0.1   \n",
       "4             1.0        1.0   1.0       2.0     3.0             0.1   \n",
       "\n",
       "   current_rounds  action_type  suspect  count_red_samples  \\\n",
       "0               1            0      0.0                  0   \n",
       "1               2            1      0.0                  1   \n",
       "2               1            0      1.0                  0   \n",
       "3               2            0      1.0                  0   \n",
       "4               3            0      1.0                  0   \n",
       "\n",
       "   count_blue_samples  evidence_found  evidence_suspect  posterior  \\\n",
       "0                   0               0              -1.0   0.500000   \n",
       "1                   0               0              -1.0   0.428571   \n",
       "2                   0               0              -1.0   0.100000   \n",
       "3                   1               0              -1.0   0.129032   \n",
       "4                   2               0              -1.0   0.164948   \n",
       "\n",
       "   true_guilty_suspect  suspect_accused        time  \n",
       "0                  0.0              0.0   4654.1816  \n",
       "1                  0.0              0.0  13857.2739  \n",
       "2                  1.0              1.0   3317.6681  \n",
       "3                  1.0              1.0   5101.5863  \n",
       "4                  1.0              1.0   6735.5187  "
      ]
     },
     "execution_count": 114,
     "metadata": {},
     "output_type": "execute_result"
    }
   ],
   "source": [
    "# IMPORT DATA TASK 1 (HUMAN)\n",
    "temp1 = pd.read_csv('../Output/Task1_step4.csv')\n",
    "db = temp1\n",
    "temp1.head()"
   ]
  },
  {
   "cell_type": "code",
   "execution_count": 115,
   "metadata": {
    "ExecuteTime": {
     "end_time": "2020-10-30T03:13:10.790619Z",
     "start_time": "2020-10-30T03:13:10.788006Z"
    }
   },
   "outputs": [],
   "source": [
    "## CHECK THE FINAL BELIEFS ##"
   ]
  },
  {
   "cell_type": "code",
   "execution_count": 116,
   "metadata": {
    "ExecuteTime": {
     "end_time": "2020-10-30T03:13:13.293875Z",
     "start_time": "2020-10-30T03:13:11.610788Z"
    }
   },
   "outputs": [],
   "source": [
    "# CREATE VECTOR OF \"final beliefs\" (only when the action is \"accuse\")\n",
    "fin = []\n",
    "for key,value in temp1.iterrows():\n",
    "    if value[7] == 1.0:\n",
    "        fin.append(temp1['posterior'][key])"
   ]
  },
  {
   "cell_type": "code",
   "execution_count": 117,
   "metadata": {
    "ExecuteTime": {
     "end_time": "2020-10-30T03:13:15.481728Z",
     "start_time": "2020-10-30T03:13:14.821134Z"
    }
   },
   "outputs": [
    {
     "data": {
      "image/png": "[encoded data removed]",
      "text/plain": [
       "<Figure size 432x288 with 1 Axes>"
      ]
     },
     "metadata": {},
     "output_type": "display_data"
    },
    {
     "data": {
      "image/png": "[encoded data removed]",
      "text/plain": [
       "<Figure size 432x288 with 1 Axes>"
      ]
     },
     "metadata": {},
     "output_type": "display_data"
    }
   ],
   "source": [
    "# PLOT FINAL BELIEFS\n",
    "plt.hist(fin, bins=101)\n",
    "plt.show()\n",
    "plt.hist(fin, bins=15)\n",
    "plt.show()"
   ]
  },
  {
   "cell_type": "code",
   "execution_count": 118,
   "metadata": {
    "ExecuteTime": {
     "end_time": "2020-10-30T03:13:20.882087Z",
     "start_time": "2020-10-30T03:13:20.879264Z"
    }
   },
   "outputs": [],
   "source": [
    "##################################################"
   ]
  },
  {
   "cell_type": "markdown",
   "metadata": {},
   "source": [
    "LIST OF CONDITIONS"
   ]
  },
  {
   "cell_type": "code",
   "execution_count": 119,
   "metadata": {
    "ExecuteTime": {
     "end_time": "2020-10-30T03:13:23.232026Z",
     "start_time": "2020-10-30T03:13:23.215355Z"
    }
   },
   "outputs": [
    {
     "data": {
      "text/plain": [
       "[[0.1, 1],\n",
       " [0.1, 3],\n",
       " [0.1, 5],\n",
       " [0.1, 7],\n",
       " [0.1, 9],\n",
       " [0.3, 1],\n",
       " [0.3, 3],\n",
       " [0.3, 5],\n",
       " [0.3, 7],\n",
       " [0.3, 9],\n",
       " [0.5, 1],\n",
       " [0.5, 3],\n",
       " [0.5, 5],\n",
       " [0.5, 7],\n",
       " [0.5, 9],\n",
       " [0.7, 1],\n",
       " [0.7, 3],\n",
       " [0.7, 5],\n",
       " [0.7, 7],\n",
       " [0.7, 9],\n",
       " [0.9, 1],\n",
       " [0.9, 3],\n",
       " [0.9, 5],\n",
       " [0.9, 7],\n",
       " [0.9, 9]]"
      ]
     },
     "execution_count": 119,
     "metadata": {},
     "output_type": "execute_result"
    }
   ],
   "source": [
    "vector_prior   = [0.1, 0.3, 0.5, 0.7, 0.9]\n",
    "vector_samples = [1, 3, 5, 7, 9]\n",
    "\n",
    "table_condition=[];\n",
    "for i_prior in vector_prior:\n",
    "    for i_samples in vector_samples:\n",
    "        table_condition.append([i_prior, i_samples])\n",
    "\n",
    "n_conditions = len(table_condition)\n",
    "\n",
    "table_condition"
   ]
  },
  {
   "cell_type": "code",
   "execution_count": 120,
   "metadata": {
    "ExecuteTime": {
     "end_time": "2020-10-30T03:13:24.908476Z",
     "start_time": "2020-10-30T03:13:24.905854Z"
    }
   },
   "outputs": [],
   "source": [
    "## CALCULATE SUMMARY STATISITCS ##"
   ]
  },
  {
   "cell_type": "markdown",
   "metadata": {},
   "source": [
    "LIST OF DESIRED VARIABLES OF INTEREST\n",
    "\n",
    "Summary statistics (aggregate and for each condition)\n",
    "1. Percentage correct answer\n",
    "2. Percentage evidence found\n",
    "3. Percentage confirmatory in round 1\n",
    "4. Percentage confirmatory overall (defined wrt the prior)\n",
    "\n",
    "Searching behavior\n",
    "1. Percentage confirmatory search as a function of round (x-axis) and condition (lines: low/high prior, n_days)\n",
    "\n",
    "Action behavior\n",
    "1. Proability of accusing red as a function of the true posterior probability\n",
    "2. Separate based on the initial prior\n",
    "3. Separate based on the number of samples\n"
   ]
  },
  {
   "cell_type": "code",
   "execution_count": 129,
   "metadata": {
    "ExecuteTime": {
     "end_time": "2020-10-30T03:22:40.168944Z",
     "start_time": "2020-10-30T03:22:40.165035Z"
    }
   },
   "outputs": [
    {
     "name": "stdout",
     "output_type": "stream",
     "text": [
      "[[1 2]\n",
      " [3 4]]\n"
     ]
    }
   ],
   "source": [
    "# create a matrix\n",
    "test = [[1,2], [3,4]]\n",
    "print(np.matrix(test))"
   ]
  },
  {
   "cell_type": "code",
   "execution_count": 130,
   "metadata": {
    "ExecuteTime": {
     "end_time": "2020-10-30T03:22:41.555343Z",
     "start_time": "2020-10-30T03:22:41.552473Z"
    }
   },
   "outputs": [],
   "source": [
    "##################################################"
   ]
  },
  {
   "cell_type": "code",
   "execution_count": null,
   "metadata": {
    "ExecuteTime": {
     "end_time": "2020-10-29T23:47:51.222436Z",
     "start_time": "2020-10-29T23:47:51.213545Z"
    }
   },
   "outputs": [],
   "source": []
  },
  {
   "cell_type": "code",
   "execution_count": 132,
   "metadata": {
    "ExecuteTime": {
     "end_time": "2020-10-30T03:22:58.776931Z",
     "start_time": "2020-10-30T03:22:58.076188Z"
    }
   },
   "outputs": [
    {
     "name": "stdout",
     "output_type": "stream",
     "text": [
      "SUMMARY STATISTIC\n",
      "[[0.824 0.    0.647 0.647]\n",
      " [0.845 0.091 0.636 0.643]\n",
      " [0.872 0.246 0.652 0.621]\n",
      " [0.914 0.428 0.631 0.572]\n",
      " [0.888 0.497 0.695 0.547]\n",
      " [0.727 0.    0.674 0.674]\n",
      " [0.786 0.059 0.652 0.635]\n",
      " [0.824 0.23  0.706 0.645]\n",
      " [0.77  0.385 0.663 0.592]\n",
      " [0.866 0.439 0.684 0.594]\n",
      " [0.556 0.    0.5   0.5  ]\n",
      " [0.722 0.075 0.5   0.5  ]\n",
      " [0.679 0.225 0.5   0.5  ]\n",
      " [0.802 0.299 0.5   0.5  ]\n",
      " [0.802 0.433 0.5   0.5  ]\n",
      " [0.62  0.    0.61  0.61 ]\n",
      " [0.754 0.107 0.647 0.617]\n",
      " [0.754 0.273 0.658 0.618]\n",
      " [0.754 0.251 0.652 0.598]\n",
      " [0.834 0.455 0.631 0.61 ]\n",
      " [0.791 0.    0.658 0.658]\n",
      " [0.877 0.123 0.642 0.624]\n",
      " [0.888 0.283 0.684 0.611]\n",
      " [0.866 0.369 0.658 0.583]\n",
      " [0.92  0.422 0.668 0.552]]\n",
      "CONFIRMATORY BEHAVIOR OVER ROUNDS\n",
      "[list([0.647]) list([0.636, 0.642, 0.652])\n",
      " list([0.652, 0.658, 0.631, 0.589, 0.559])\n",
      " list([0.631, 0.62, 0.62, 0.608, 0.523, 0.511, 0.4])\n",
      " list([0.695, 0.658, 0.658, 0.577, 0.475, 0.434, 0.414, 0.427, 0.33])\n",
      " list([0.674]) list([0.652, 0.674, 0.578])\n",
      " list([0.706, 0.668, 0.652, 0.603, 0.585])\n",
      " list([0.663, 0.668, 0.679, 0.559, 0.517, 0.496, 0.477])\n",
      " list([0.684, 0.722, 0.636, 0.618, 0.622, 0.544, 0.489, 0.429, 0.455])\n",
      " list([0.5]) list([0.5, 0.5, 0.5]) list([0.5, 0.5, 0.5, 0.5, 0.5])\n",
      " list([0.5, 0.5, 0.5, 0.5, 0.5, 0.5, 0.5])\n",
      " list([0.5, 0.5, 0.5, 0.5, 0.5, 0.5, 0.5, 0.5, 0.5]) list([0.61])\n",
      " list([0.647, 0.626, 0.578]) list([0.658, 0.674, 0.631, 0.578, 0.529])\n",
      " list([0.652, 0.631, 0.658, 0.637, 0.503, 0.558, 0.526])\n",
      " list([0.631, 0.684, 0.674, 0.678, 0.544, 0.601, 0.569, 0.5, 0.5])\n",
      " list([0.658]) list([0.642, 0.642, 0.588])\n",
      " list([0.684, 0.636, 0.642, 0.54, 0.526])\n",
      " list([0.658, 0.642, 0.636, 0.61, 0.571, 0.452, 0.425])\n",
      " list([0.668, 0.674, 0.652, 0.529, 0.582, 0.507, 0.456, 0.376, 0.351])]\n",
      "[list([187]) list([187, 187, 187]) list([187, 187, 187, 168, 152])\n",
      " list([187, 187, 187, 171, 149, 131, 115])\n",
      " list([187, 187, 187, 163, 139, 122, 116, 110, 100]) list([187])\n",
      " list([187, 187, 187]) list([187, 187, 187, 174, 159])\n",
      " list([187, 187, 187, 161, 147, 139, 128])\n",
      " list([187, 187, 187, 173, 156, 147, 135, 126, 112]) list([187])\n",
      " list([187, 187, 187]) list([187, 187, 187, 173, 165])\n",
      " list([187, 187, 187, 178, 169, 157, 147])\n",
      " list([187, 187, 187, 175, 161, 149, 141, 128, 115]) list([187])\n",
      " list([187, 187, 187]) list([187, 187, 187, 166, 153])\n",
      " list([187, 187, 187, 179, 173, 165, 154])\n",
      " list([187, 187, 187, 171, 147, 143, 130, 116, 108]) list([187])\n",
      " list([187, 187, 187]) list([187, 187, 187, 163, 152])\n",
      " list([187, 187, 187, 172, 156, 135, 127])\n",
      " list([187, 187, 187, 172, 158, 148, 136, 125, 114])]\n"
     ]
    }
   ],
   "source": [
    "summary_statistic = [];\n",
    "confirmatory_round = [];\n",
    "number_observations =[];\n",
    "x_round = [];\n",
    "\n",
    "for i_condition in range(25):\n",
    "\n",
    "    i_prior   = table_condition[i_condition][0]\n",
    "    i_samples = table_condition[i_condition][1]\n",
    "    \n",
    "    ##### SUMMARY STATISTICS\n",
    "    \n",
    "    # select trials based on the condition, separate accuse and investigate\n",
    "    temp      = db.loc[(db['red_prior_prob']==i_prior) & (db['rounds']==i_samples)]\n",
    "    t1_accuse = temp.loc[temp['action_type'] == 1]\n",
    "    t1_investigate    = temp.loc[temp['action_type'] == 0]\n",
    "    # separate rounds with evidence found (certain) or not found (clean)\n",
    "    t1_accuse_certain    = t1_accuse.loc[t1_accuse['evidence_found'] == 1]\n",
    "    t1_accuse_clean      = t1_accuse.loc[t1_accuse['evidence_found'] == 0]\n",
    "    t1_investigate_round1     = t1_investigate.loc[t1_investigate['current_rounds'] == 1]\n",
    "    t1_investigate_clean = t1_investigate.loc[t1_investigate['evidence_found'] == 0]\n",
    "\n",
    "    # total number of trials\n",
    "    n_trials = len(t1_accuse)\n",
    "\n",
    "    # percentage correct\n",
    "    n_correct = len(t1_accuse.loc[(t1_accuse['true_guilty_suspect'] == t1_accuse['suspect_accused'])])\n",
    "    perc_correct = n_correct/n_trials\n",
    "\n",
    "    # percentage evidence found\n",
    "    n_evidence_found = len(t1_accuse_certain)\n",
    "    perc_evidence_found = n_evidence_found/n_trials\n",
    "\n",
    "    # percentage confirmatory behavior (in round 1 or all)\n",
    "    n_rounds_investigate_red = len(t1_investigate_round1.loc[t1_investigate_round1['suspect'] == 0])\n",
    "    if i_prior == 0.5:\n",
    "        n_rounds_investigate_confirm  = n_trials/2\n",
    "    if i_prior > 0.5:\n",
    "        n_rounds_investigate_confirm  = n_rounds_investigate_red\n",
    "    if i_prior < 0.5:\n",
    "        n_rounds_investigate_confirm  = n_trials-n_rounds_investigate_red    \n",
    "    perc_confirm_round1 = n_rounds_investigate_confirm/n_trials\n",
    "\n",
    "    n_rounds_investigate_clean  = len(t1_investigate_clean)\n",
    "    n_rounds_investigate_red    = len(t1_investigate_clean.loc[t1_investigate_clean['suspect'] == 0])\n",
    "    if i_prior == 0.5:\n",
    "        n_rounds_investigate_confirm  = n_rounds_investigate_clean/2\n",
    "    if i_prior > 0.5:\n",
    "        n_rounds_investigate_confirm  = n_rounds_investigate_red\n",
    "    if i_prior < 0.5:\n",
    "        n_rounds_investigate_confirm  = n_rounds_investigate_clean-n_rounds_investigate_red    \n",
    "    perc_confirm_all = n_rounds_investigate_confirm/n_rounds_investigate_clean\n",
    "\n",
    "    # rounding\n",
    "    n_digits = 3;\n",
    "    perc_correct         = round(perc_correct,n_digits)\n",
    "    perc_evidence_found  = round(perc_evidence_found,n_digits)\n",
    "    perc_confirm_round1  = round(perc_confirm_round1,n_digits)\n",
    "    perc_confirm_all     = round(perc_confirm_all,n_digits)\n",
    "    \n",
    "    new_summary_statistic = [perc_correct, perc_evidence_found, perc_confirm_round1, perc_confirm_all]\n",
    "    summary_statistic.append(new_summary_statistic)\n",
    "    \n",
    "    \n",
    "    \n",
    "    #### VECTOR ROUND (prob of searching confirmatory given condition and round number)\n",
    "    new_confirmatory_round = [];\n",
    "    new_number_observations = [];\n",
    "    new_x_round = [];\n",
    "\n",
    "    for i_round in range(i_samples):\n",
    " \n",
    "        temp                 = db.loc[(db['red_prior_prob']==i_prior) & (db['rounds']==i_samples) & (db['current_rounds']==(i_round+1))]\n",
    "        t1_investigate       = temp.loc[temp['action_type'] == 0]\n",
    "        t1_investigate_clean = t1_investigate.loc[t1_investigate['evidence_found'] == 0]\n",
    "\n",
    "        # percentage confirmatory behavior\n",
    "        n_rounds_total = len(t1_investigate_clean)\n",
    "        n_rounds_investigate_red = len(t1_investigate_clean.loc[t1_investigate_clean['suspect'] == 0])\n",
    "        if i_prior == 0.5:\n",
    "            n_rounds_investigate_confirm  = n_rounds_total/2\n",
    "        if i_prior > 0.5:\n",
    "            n_rounds_investigate_confirm  = n_rounds_investigate_red\n",
    "        if i_prior < 0.5:\n",
    "            n_rounds_investigate_confirm  = n_rounds_total-n_rounds_investigate_red    \n",
    "        perc_confirm = round(n_rounds_investigate_confirm/n_rounds_total,n_digits)\n",
    "    \n",
    "        # add to the vector\n",
    "        new_confirmatory_round.append(perc_confirm)\n",
    "        new_number_observations.append(n_rounds_total)\n",
    "        new_x_round.append(i_round+1)\n",
    "\n",
    "    confirmatory_round.append(new_confirmatory_round)\n",
    "    number_observations.append(new_number_observations)\n",
    "    x_round.append(new_x_round)\n",
    "    \n",
    "# PRINT\n",
    "\n",
    "print('SUMMARY STATISTIC')\n",
    "print(np.matrix(summary_statistic))\n",
    "\n",
    "print('CONFIRMATORY BEHAVIOR OVER ROUNDS')\n",
    "print(np.array(confirmatory_round))\n",
    "print(np.array(number_observations))"
   ]
  },
  {
   "cell_type": "code",
   "execution_count": 133,
   "metadata": {
    "ExecuteTime": {
     "end_time": "2020-10-30T03:23:05.883892Z",
     "start_time": "2020-10-30T03:23:05.881123Z"
    }
   },
   "outputs": [],
   "source": [
    "##################################################"
   ]
  },
  {
   "cell_type": "code",
   "execution_count": 143,
   "metadata": {
    "ExecuteTime": {
     "end_time": "2020-10-30T03:28:57.706467Z",
     "start_time": "2020-10-30T03:28:57.327862Z"
    }
   },
   "outputs": [
    {
     "data": {
      "image/png": "[encoded data removed]",
      "text/plain": [
       "<Figure size 432x288 with 1 Axes>"
      ]
     },
     "metadata": {},
     "output_type": "display_data"
    }
   ],
   "source": [
    "# PLOT THE DIFFERENCE TRENDS\n",
    "\n",
    "def plot2d(title, x, y, xlabel, ylabel, colors=['red'], lw=[1], ls=['-.'], xaxis=[0,10], yaxis=[0,10], xtick=range(1,10), ytick=range(1,10)):\n",
    "    for i in range(len(y)):\n",
    "        plt.plot(x[i], y[i], linewidth=lw[0], color = colors[0], linestyle=ls[0])\n",
    "    plt.xlabel(xlabel)\n",
    "    plt.ylabel(ylabel)\n",
    "    plt.title(title)\n",
    "    \n",
    "    \n",
    "plot2d('Confirmatory strategy', x_round, confirmatory_round, 'Round number', 'Pr(confirm)')"
   ]
  },
  {
   "cell_type": "code",
   "execution_count": null,
   "metadata": {},
   "outputs": [],
   "source": []
  }
 ],
 "metadata": {
  "kernelspec": {
   "display_name": "Python 3",
   "language": "python",
   "name": "python3"
  },
  "language_info": {
   "codemirror_mode": {
    "name": "ipython",
    "version": 3
   },
   "file_extension": ".py",
   "mimetype": "text/x-python",
   "name": "python",
   "nbconvert_exporter": "python",
   "pygments_lexer": "ipython3",
   "version": "3.7.4"
  },
  "latex_envs": {
   "LaTeX_envs_menu_present": true,
   "autoclose": true,
   "autocomplete": true,
   "bibliofile": "biblio.bib",
   "cite_by": "apalike",
   "current_citInitial": 1,
   "eqLabelWithNumbers": true,
   "eqNumInitial": 1,
   "hotkeys": {
    "equation": "Ctrl-E",
    "itemize": "Ctrl-I"
   },
   "labels_anchors": false,
   "latex_user_defs": false,
   "report_style_numbering": false,
   "user_envs_cfg": false
  },
  "toc": {
   "base_numbering": 1,
   "nav_menu": {},
   "number_sections": true,
   "sideBar": true,
   "skip_h1_title": false,
   "title_cell": "Table of Contents",
   "title_sidebar": "Contents",
   "toc_cell": false,
   "toc_position": {
    "height": "calc(100% - 180px)",
    "left": "10px",
    "top": "150px",
    "width": "193.767px"
   },
   "toc_section_display": true,
   "toc_window_display": true
  },
  "varInspector": {
   "cols": {
    "lenName": 16,
    "lenType": 16,
    "lenVar": 40
   },
   "kernels_config": {
    "python": {
     "delete_cmd_postfix": "",
     "delete_cmd_prefix": "del ",
     "library": "var_list.py",
     "varRefreshCmd": "print(var_dic_list())"
    },
    "r": {
     "delete_cmd_postfix": ") ",
     "delete_cmd_prefix": "rm(",
     "library": "var_list.r",
     "varRefreshCmd": "cat(var_dic_list()) "
    }
   },
   "types_to_exclude": [
    "module",
    "function",
    "builtin_function_or_method",
    "instance",
    "_Feature"
   ],
   "window_display": false
  }
 },
 "nbformat": 4,
 "nbformat_minor": 4
}
