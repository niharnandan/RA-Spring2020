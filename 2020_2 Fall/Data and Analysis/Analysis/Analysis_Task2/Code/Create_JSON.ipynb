{
 "cells": [
  {
   "cell_type": "markdown",
   "metadata": {},
   "source": [
    "## Create JSON file that contains data for different plot types"
   ]
  },
  {
   "cell_type": "code",
   "execution_count": 1,
   "metadata": {
    "ExecuteTime": {
     "end_time": "2020-11-04T20:46:25.309100Z",
     "start_time": "2020-11-04T20:46:20.349160Z"
    }
   },
   "outputs": [],
   "source": [
    "#Import modules\n",
    "import numpy as np\n",
    "import pandas as pd\n",
    "import json\n",
    "from c_statistic import c_statistic\n",
    "from c_statistic import statistic_part\n",
    "plot = {}"
   ]
  },
  {
   "cell_type": "markdown",
   "metadata": {},
   "source": [
    "### Bar Plot"
   ]
  },
  {
   "cell_type": "code",
   "execution_count": 2,
   "metadata": {
    "ExecuteTime": {
     "end_time": "2020-11-04T20:46:25.628908Z",
     "start_time": "2020-11-04T20:46:25.310829Z"
    }
   },
   "outputs": [],
   "source": [
    "names = ['../Output/Task2_step4.csv','../Output (Simulated)/Step4_A.csv']\n",
    "\n",
    "t2_avg_score = [0]*len(names)\n",
    "t2_avg_samples= [0]*len(names)\n",
    "t2_perc_confirmatory_allrounds = [0]*len(names)\n",
    "t2_perc_confirmatory_round1 = [0]*len(names)\n",
    "\n",
    "for i in names:\n",
    "    t2_avg_score[names.index(i)],t2_avg_samples[names.index(i)], \\\n",
    "    t2_perc_confirmatory_allrounds[names.index(i)],t2_perc_confirmatory_round1[names.index(i)] \\\n",
    "    = c_statistic(i)\n",
    "#Create dictionary\n",
    "data = {}\n",
    "data[\"xaxis\"] = [0.3, 1.7]\n",
    "data[\"yaxis\"] = [0, 1]\n",
    "data[\"title\"] = \"Probability of finding Evidence\"\n",
    "data[\"xtick\"] = [0.07, 1.5]\n",
    "data[\"ytick\"] =  [0, 0.25, 1]\n",
    "data[\"names\"] = [\"Human\", \"Bayes\"]\n",
    "data[\"ylabel\"] = \"Pr(Evidence)\"\n",
    "data[\"xlabel\"] = \"Agent\"\n",
    "data[\"t2_avg_score\"] = t2_avg_score\n",
    "data[\"t2_avg_samples\"] = t2_avg_samples\n",
    "data[\"t2_perc_confirmatory_allrounds\"] = t2_perc_confirmatory_allrounds\n",
    "data[\"t2_perc_confirmatory_round1\"] = t2_perc_confirmatory_round1\n",
    "data[\"colors\"] = [\"red\", \"blue\"]\n",
    "data[\"width\"] = 0.4\n",
    "plot['bar'] = data"
   ]
  },
  {
   "cell_type": "markdown",
   "metadata": {},
   "source": [
    "### Scatterplot"
   ]
  },
  {
   "cell_type": "code",
   "execution_count": 3,
   "metadata": {
    "ExecuteTime": {
     "end_time": "2020-11-04T20:46:25.991056Z",
     "start_time": "2020-11-04T20:46:25.630901Z"
    }
   },
   "outputs": [],
   "source": [
    "avg_rounds,avg_samples = statistic_part('../Output/Task2_step4.csv')\n",
    "#Create dictionarys\n",
    "data = {}\n",
    "data[\"xaxis\"] =  [0, 1]\n",
    "data[\"yaxis\"] = [0, 10]\n",
    "data[\"title\"] = \"Pr(confirmatory) vs Avg number of samples\"\n",
    "data[\"xtick\"] = [float(round(i,1)) for i in np.arange(0.1, 1.0, 0.2)]\n",
    "data[\"ytick\"] =  [float(round(i,1)) for i in np.arange(1, 11 ,1)]\n",
    "data[\"names\"] = [\"Human\", \"Bayes\"]\n",
    "data[\"ylabel\"] = \"Confirmatory Percentage\"\n",
    "data[\"xlabel\"] = \"Average samples\"\n",
    "data[\"t2_avg_samples\"] = list(avg_samples)\n",
    "data[\"t2_perc_confirmatory_allrounds\"] = list(avg_rounds)\n",
    "data[\"colors\"] = 'gray'\n",
    "data[\"size\"] = 10\n",
    "plot['scatter'] = data"
   ]
  },
  {
   "cell_type": "code",
   "execution_count": null,
   "metadata": {},
   "outputs": [],
   "source": []
  },
  {
   "source": [
    "## Output to JSON file"
   ],
   "cell_type": "markdown",
   "metadata": {}
  },
  {
   "cell_type": "code",
   "execution_count": 4,
   "metadata": {
    "ExecuteTime": {
     "end_time": "2020-11-04T20:46:26.001250Z",
     "start_time": "2020-11-04T20:46:25.993011Z"
    }
   },
   "outputs": [],
   "source": [
    "with open('data.json', 'w') as f:\n",
    "    json.dump(plot, f, indent = 2)"
   ]
  },
  {
   "cell_type": "code",
   "execution_count": null,
   "metadata": {},
   "outputs": [],
   "source": []
  }
 ],
 "metadata": {
  "kernelspec": {
   "display_name": "Python 3",
   "language": "python",
   "name": "python3"
  },
  "language_info": {
   "codemirror_mode": {
    "name": "ipython",
    "version": 3
   },
   "file_extension": ".py",
   "mimetype": "text/x-python",
   "name": "python",
   "nbconvert_exporter": "python",
   "pygments_lexer": "ipython3",
   "version": "3.8.3"
  },
  "varInspector": {
   "cols": {
    "lenName": 16,
    "lenType": 16,
    "lenVar": 40
   },
   "kernels_config": {
    "python": {
     "delete_cmd_postfix": "",
     "delete_cmd_prefix": "del ",
     "library": "var_list.py",
     "varRefreshCmd": "print(var_dic_list())"
    },
    "r": {
     "delete_cmd_postfix": ") ",
     "delete_cmd_prefix": "rm(",
     "library": "var_list.r",
     "varRefreshCmd": "cat(var_dic_list()) "
    }
   },
   "types_to_exclude": [
    "module",
    "function",
    "builtin_function_or_method",
    "instance",
    "_Feature"
   ],
   "window_display": false
  }
 },
 "nbformat": 4,
 "nbformat_minor": 4
}