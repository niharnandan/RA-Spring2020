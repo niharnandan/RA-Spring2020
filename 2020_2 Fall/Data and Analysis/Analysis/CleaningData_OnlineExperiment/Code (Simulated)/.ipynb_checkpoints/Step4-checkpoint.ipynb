{
 "cells": [
  {
   "cell_type": "code",
   "execution_count": 2,
   "metadata": {
    "ExecuteTime": {
     "end_time": "2020-10-06T07:04:52.125422Z",
     "start_time": "2020-10-06T07:04:50.874389Z"
    }
   },
   "outputs": [],
   "source": [
    "import numpy as np\n",
    "import pandas as pd\n",
    "from os import listdir\n",
    "from os.path import isfile, join\n",
    "import matplotlib.pyplot as plt\n",
    "import warnings\n",
    "import seaborn as sns\n",
    "sns.set_style(\"darkgrid\")\n",
    "warnings.filterwarnings('ignore')"
   ]
  },
  {
   "cell_type": "code",
   "execution_count": 4,
   "metadata": {
    "ExecuteTime": {
     "end_time": "2020-10-06T07:06:21.767716Z",
     "start_time": "2020-10-06T07:06:19.222789Z"
    }
   },
   "outputs": [
    {
     "name": "stdout",
     "output_type": "stream",
     "text": [
      "Index(['participant_ID', 'treatment', 'part', 'trial_no', 'setup_cost_red',\n",
      "       'setup_cost_blue', 'red_prior_prob', 'true_guilty_suspect',\n",
      "       'suspect_accused', 'choice_1',\n",
      "       ...\n",
      "       'timing_choice_55', 'timing_choice_56', 'timing_choice_57',\n",
      "       'timing_choice_58', 'timing_choice_59', 'timing_choice_60',\n",
      "       'timing_choice_61', 'timing_choice_62', 'correct_suspect_accused',\n",
      "       'evidence_round'],\n",
      "      dtype='object', length=193)\n",
      "Index(['participant_ID', 'treatment', 'part', 'trial_no', 'setup_cost_red',\n",
      "       'setup_cost_blue', 'red_prior_prob', 'true_guilty_suspect',\n",
      "       'suspect_accused', 'choice_1',\n",
      "       ...\n",
      "       'timing_choice_55', 'timing_choice_56', 'timing_choice_57',\n",
      "       'timing_choice_58', 'timing_choice_59', 'timing_choice_60',\n",
      "       'timing_choice_61', 'timing_choice_62', 'correct_suspect_accused',\n",
      "       'evidence_round'],\n",
      "      dtype='object', length=193)\n",
      "Index(['participant_ID', 'treatment', 'part', 'trial_no', 'setup_cost_red',\n",
      "       'setup_cost_blue', 'red_prior_prob', 'true_guilty_suspect',\n",
      "       'suspect_accused', 'choice_1',\n",
      "       ...\n",
      "       'timing_choice_55', 'timing_choice_56', 'timing_choice_57',\n",
      "       'timing_choice_58', 'timing_choice_59', 'timing_choice_60',\n",
      "       'timing_choice_61', 'timing_choice_62', 'correct_suspect_accused',\n",
      "       'evidence_round'],\n",
      "      dtype='object', length=193)\n"
     ]
    }
   ],
   "source": [
    "oloc = open(\"../Output_Location (Simulated).txt\", \"r\").read()\n",
    "for name in range(65,68):\n",
    "    temp1 = pd.read_csv(oloc+'Step3_'+chr(name)+'.csv')\n",
    "    print(temp1.columns)\n",
    "    temp1.head()\n",
    "    data = []\n",
    "    for key,value in temp1.iterrows():\n",
    "        info_b = value[:7].to_list()\n",
    "        info_e = value[7:9].to_list()\n",
    "        rounds = value[9:69].to_list()\n",
    "        rounds = [x for x in rounds if x == 1.0 or x == 0.0]\n",
    "        suspect = []\n",
    "        post = value[6]\n",
    "        #if value[3] == 1: print(len(rounds))\n",
    "        e_f = 0\n",
    "        e_s = -1\n",
    "        i = 1\n",
    "        for i in range(1,len(rounds)):\n",
    "            suspect.append(rounds[i])\n",
    "            pg = 0.75 if suspect[-1] == 0 else 1\n",
    "            pi = 1 if suspect[-1] == 0 else 0.75\n",
    "            temp = [i, 0, suspect[-1], suspect[:-1].count(0.0), \n",
    "                   suspect[:-1].count(1.0), e_f, e_s]\n",
    "            data.append(info_b+temp+[post]+info_e+[temp1['timing_choice_'+str(i+1)][key]])\n",
    "            post = post*pg/(post*pg + pi*(1-post))\n",
    "\n",
    "            e_f = int(value[69+i]) if e_f != 1 else 1\n",
    "            if e_f == 1: \n",
    "                e_s = value[8]\n",
    "            else: e_f = 1 if e_f == 1 and i != 0 else 0\n",
    "            post = value[7] if e_f == 1 else post\n",
    "        if len(rounds) == 1 or len(rounds) == 0: i = 0\n",
    "        suspect.append(value[7])\n",
    "        temp = [i+1, 1, suspect[-1], suspect[:-1].count(0.0), suspect[:-1].count(1.0), e_f, e_s]\n",
    "        data.append(info_b+temp+[post]+info_e+[temp1['timing_choice_'+str(i+2)][key]])\n",
    "    cols = ['participant_ID', 'treatment', 'part', 'trial_no', 'setup_cost_red', 'setup_cost_blue',\n",
    "           'red_prior_prob', 'current_rounds', 'action_type', 'suspect', \n",
    "            'count_red_samples', 'count_blue_samples', 'evidence_found',\n",
    "           'evidence_suspect', 'posterior', 'true_guilty_suspect', 'suspect_accused',\n",
    "           'time']\n",
    "    df2 = pd.DataFrame(data,columns=cols)\n",
    "    df2.head()\n",
    "    df2 = df2.fillna(0)\n",
    "    df2.to_csv(oloc+'Step4_'+chr(name)+'.csv', index=False)"
   ]
  },
  {
   "cell_type": "code",
   "execution_count": null,
   "metadata": {},
   "outputs": [],
   "source": []
  }
 ],
 "metadata": {
  "kernelspec": {
   "display_name": "Python 3",
   "language": "python",
   "name": "python3"
  },
  "language_info": {
   "codemirror_mode": {
    "name": "ipython",
    "version": 3
   },
   "file_extension": ".py",
   "mimetype": "text/x-python",
   "name": "python",
   "nbconvert_exporter": "python",
   "pygments_lexer": "ipython3",
   "version": "3.8.3"
  },
  "varInspector": {
   "cols": {
    "lenName": 16,
    "lenType": 16,
    "lenVar": 40
   },
   "kernels_config": {
    "python": {
     "delete_cmd_postfix": "",
     "delete_cmd_prefix": "del ",
     "library": "var_list.py",
     "varRefreshCmd": "print(var_dic_list())"
    },
    "r": {
     "delete_cmd_postfix": ") ",
     "delete_cmd_prefix": "rm(",
     "library": "var_list.r",
     "varRefreshCmd": "cat(var_dic_list()) "
    }
   },
   "types_to_exclude": [
    "module",
    "function",
    "builtin_function_or_method",
    "instance",
    "_Feature"
   ],
   "window_display": false
  }
 },
 "nbformat": 4,
 "nbformat_minor": 4
}
