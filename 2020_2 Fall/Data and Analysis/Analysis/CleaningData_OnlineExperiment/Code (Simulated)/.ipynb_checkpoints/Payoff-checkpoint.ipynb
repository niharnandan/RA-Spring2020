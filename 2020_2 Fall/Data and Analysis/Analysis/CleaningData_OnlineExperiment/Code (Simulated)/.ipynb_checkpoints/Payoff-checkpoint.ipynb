{
 "cells": [
  {
   "cell_type": "code",
   "execution_count": 9,
   "metadata": {
    "ExecuteTime": {
     "end_time": "2020-09-29T00:39:00.975681Z",
     "start_time": "2020-09-29T00:39:00.969699Z"
    }
   },
   "outputs": [],
   "source": [
    "import numpy as np\n",
    "import pandas as pd\n",
    "from os import listdir\n",
    "from os.path import isfile, join\n",
    "import warnings\n",
    "warnings.filterwarnings('ignore')"
   ]
  },
  {
   "cell_type": "code",
   "execution_count": 10,
   "metadata": {
    "ExecuteTime": {
     "end_time": "2020-09-29T00:39:01.044509Z",
     "start_time": "2020-09-29T00:39:00.978673Z"
    }
   },
   "outputs": [],
   "source": [
    "oloc = open(\"../Output_Location.txt\", \"r\").read()\n",
    "temp1 = pd.read_csv(oloc+'Task1_step4.csv')\n",
    "players = list(set(temp1['participant_ID'].to_list()))"
   ]
  },
  {
   "cell_type": "code",
   "execution_count": 11,
   "metadata": {
    "ExecuteTime": {
     "end_time": "2020-09-29T00:39:02.640450Z",
     "start_time": "2020-09-29T00:39:01.048487Z"
    }
   },
   "outputs": [],
   "source": [
    "t1 = np.array([[int(i),0] for i in players])\n",
    "for key,value in temp1.iterrows():\n",
    "    if value[7] == 1:\n",
    "        if value[-2] == value[-3]:\n",
    "            t1[list(t1[:,0]).index(value[0]),1] += 1000"
   ]
  },
  {
   "cell_type": "code",
   "execution_count": 12,
   "metadata": {
    "ExecuteTime": {
     "end_time": "2020-09-29T00:39:02.649428Z",
     "start_time": "2020-09-29T00:39:02.643443Z"
    },
    "scrolled": true
   },
   "outputs": [
    {
     "name": "stdout",
     "output_type": "stream",
     "text": [
      "[[    1 21000]\n",
      " [    2 21000]\n",
      " [    3 22000]\n",
      " [    4 23000]\n",
      " [    5 18000]\n",
      " [    6 20000]\n",
      " [    7 20000]\n",
      " [    8 19000]\n",
      " [    9 21000]\n",
      " [   10 19000]\n",
      " [   11 17000]\n",
      " [   12 21000]\n",
      " [   13 15000]\n",
      " [   14 20000]\n",
      " [   15 22000]\n",
      " [   16 23000]\n",
      " [   17 22000]\n",
      " [   18 22000]\n",
      " [   19 23000]\n",
      " [   20 21000]\n",
      " [   21 22000]\n",
      " [   22 22000]\n",
      " [   23 21000]\n",
      " [   24 18000]\n",
      " [   25 23000]\n",
      " [   26 24000]\n",
      " [   27 20000]\n",
      " [   28 19000]\n",
      " [   29 22000]\n",
      " [   30 23000]\n",
      " [   31 22000]\n",
      " [   32 20000]\n",
      " [   33 19000]\n",
      " [   34 21000]\n",
      " [   35 20000]\n",
      " [   36 20000]\n",
      " [   37 12000]\n",
      " [   38 19000]\n",
      " [   39 18000]\n",
      " [   40 17000]\n",
      " [   41 22000]\n",
      " [   42 23000]\n",
      " [   43 13000]\n",
      " [   44 22000]\n",
      " [   45 22000]\n",
      " [   46 15000]\n",
      " [   47 20000]\n",
      " [   48 22000]\n",
      " [   49 19000]\n",
      " [   50 20000]\n",
      " [   51 22000]\n",
      " [   52 22000]\n",
      " [   53 24000]\n",
      " [   54 19000]\n",
      " [   55 19000]\n",
      " [   56 16000]\n",
      " [   57 17000]\n",
      " [   58 18000]\n",
      " [   59 12000]\n",
      " [   60 19000]\n",
      " [   61 21000]\n",
      " [   62 21000]\n",
      " [   63 17000]\n",
      " [   64 23000]\n",
      " [   65 21000]\n",
      " [   66 21000]\n",
      " [   67 19000]\n",
      " [   68 17000]\n",
      " [   69 23000]\n",
      " [   70 24000]\n",
      " [   71 21000]\n",
      " [   72 19000]\n",
      " [   73 19000]\n",
      " [   74 22000]\n",
      " [   75 21000]\n",
      " [   76 18000]\n",
      " [   77 20000]\n",
      " [   78 22000]\n",
      " [   79 23000]\n",
      " [   80 18000]\n",
      " [   81 21000]\n",
      " [   82 20000]\n",
      " [   83 16000]\n",
      " [   84 18000]\n",
      " [   85 20000]\n",
      " [   86 21000]\n",
      " [   87 18000]\n",
      " [   88 18000]\n",
      " [   89 20000]\n",
      " [   90 23000]\n",
      " [   91 20000]\n",
      " [   92 21000]\n",
      " [   93 21000]\n",
      " [   94 23000]\n",
      " [   95 22000]\n",
      " [   96 21000]]\n"
     ]
    }
   ],
   "source": [
    "print(t1)"
   ]
  },
  {
   "cell_type": "code",
   "execution_count": 13,
   "metadata": {
    "ExecuteTime": {
     "end_time": "2020-09-29T00:39:02.697297Z",
     "start_time": "2020-09-29T00:39:02.652416Z"
    }
   },
   "outputs": [],
   "source": [
    "temp2 = pd.read_csv(oloc+'Task2_step4.csv')\n",
    "players = list(set(temp2['participant_ID'].to_list()))"
   ]
  },
  {
   "cell_type": "code",
   "execution_count": 14,
   "metadata": {
    "ExecuteTime": {
     "end_time": "2020-09-29T00:39:03.982626Z",
     "start_time": "2020-09-29T00:39:02.699292Z"
    }
   },
   "outputs": [],
   "source": [
    "t2 = np.array([[int(i),500] for i in players])\n",
    "for key,value in temp2.iterrows():\n",
    "    if value[7] == 1:\n",
    "        if value[-2] == value[-3]:\n",
    "            t2[list(t2[:,0]).index(value[0]),1] += 1000 - value[4]*value[10] - value[5]*value[11]\n",
    "        else:\n",
    "            t2[list(t2[:,0]).index(value[0]),1] += value[4]*value[10] - value[5]*value[11]"
   ]
  },
  {
   "cell_type": "code",
   "execution_count": 15,
   "metadata": {
    "ExecuteTime": {
     "end_time": "2020-09-29T00:39:03.991589Z",
     "start_time": "2020-09-29T00:39:03.984609Z"
    },
    "scrolled": true
   },
   "outputs": [
    {
     "name": "stdout",
     "output_type": "stream",
     "text": [
      "[[    1 17500]\n",
      " [    2 23500]\n",
      " [    3 18500]\n",
      " [    4 23500]\n",
      " [    5 23500]\n",
      " [    6 21500]\n",
      " [    7 20500]\n",
      " [    8 25500]\n",
      " [    9 20500]\n",
      " [   10 24500]\n",
      " [   11 24500]\n",
      " [   12 23500]\n",
      " [   13 19500]\n",
      " [   14 18500]\n",
      " [   15 21500]\n",
      " [   16 21500]\n",
      " [   17 21500]\n",
      " [   18 24500]\n",
      " [   19 19500]\n",
      " [   20 21500]\n",
      " [   21 21500]\n",
      " [   22 20500]\n",
      " [   23 24500]\n",
      " [   24 25500]\n",
      " [   25 21500]\n",
      " [   26 22500]\n",
      " [   27 25500]\n",
      " [   28 24500]\n",
      " [   29 23500]\n",
      " [   30 21500]\n",
      " [   31 18500]\n",
      " [   32 23500]\n",
      " [   33 10500]\n",
      " [   34 20500]\n",
      " [   35 24500]\n",
      " [   36 19500]\n",
      " [   37 22500]\n",
      " [   38 23500]\n",
      " [   39 21500]\n",
      " [   40 23500]\n",
      " [   41 18500]\n",
      " [   42 23500]\n",
      " [   43 23500]\n",
      " [   44 23500]\n",
      " [   45 23500]\n",
      " [   46 15500]\n",
      " [   47 23500]\n",
      " [   48 19500]\n",
      " [   49 17500]\n",
      " [   50 24500]\n",
      " [   51 23500]\n",
      " [   52 25500]\n",
      " [   53 23500]\n",
      " [   54 22500]\n",
      " [   55 21500]\n",
      " [   56 23500]\n",
      " [   57 17500]\n",
      " [   58 25500]\n",
      " [   59 17500]\n",
      " [   60 22500]\n",
      " [   61 22500]\n",
      " [   62 20500]\n",
      " [   63 19500]\n",
      " [   64 24500]\n",
      " [   65 18500]\n",
      " [   66 23500]\n",
      " [   67 21500]\n",
      " [   68 22500]\n",
      " [   69 24500]\n",
      " [   70 20500]\n",
      " [   71 20500]\n",
      " [   72 20500]\n",
      " [   73 22500]\n",
      " [   74 25500]\n",
      " [   75 23500]\n",
      " [   76 24500]\n",
      " [   77 24500]\n",
      " [   78 22500]\n",
      " [   79 25500]\n",
      " [   80 23500]\n",
      " [   81 24500]\n",
      " [   82 20500]\n",
      " [   83 23500]\n",
      " [   84 24500]\n",
      " [   85 23500]\n",
      " [   86 24500]\n",
      " [   87 22500]\n",
      " [   88 24500]\n",
      " [   89 22500]\n",
      " [   90 22500]\n",
      " [   91 24500]\n",
      " [   92 24500]\n",
      " [   93 21500]\n",
      " [   94 22500]\n",
      " [   95 21500]\n",
      " [   96 24500]]\n"
     ]
    }
   ],
   "source": [
    "print(t2)"
   ]
  },
  {
   "cell_type": "code",
   "execution_count": 16,
   "metadata": {
    "ExecuteTime": {
     "end_time": "2020-09-29T00:39:04.057172Z",
     "start_time": "2020-09-29T00:39:03.994579Z"
    }
   },
   "outputs": [],
   "source": [
    "temp3 = pd.read_csv(oloc+'Task3_step4.csv')\n",
    "players = list(set(temp3['participant_ID'].to_list()))"
   ]
  },
  {
   "cell_type": "code",
   "execution_count": 17,
   "metadata": {
    "ExecuteTime": {
     "end_time": "2020-09-29T00:39:06.732412Z",
     "start_time": "2020-09-29T00:39:04.058926Z"
    }
   },
   "outputs": [],
   "source": [
    "t3 = np.array([[int(i),500] for i in players])\n",
    "for key,value in temp3.iterrows():\n",
    "    if value[7] == 1:\n",
    "        if value[-2] == value[-3]:\n",
    "            t3[list(t3[:,0]).index(value[0]),1] += 1000 + value[4]*value[10] - value[5]*value[11]\n",
    "        else:\n",
    "            t3[list(t3[:,0]).index(value[0]),1] += value[4]*value[10] - value[5]*value[11]"
   ]
  },
  {
   "cell_type": "code",
   "execution_count": 18,
   "metadata": {
    "ExecuteTime": {
     "end_time": "2020-09-29T00:39:06.742378Z",
     "start_time": "2020-09-29T00:39:06.735397Z"
    }
   },
   "outputs": [
    {
     "name": "stdout",
     "output_type": "stream",
     "text": [
      "[[    1 42500]\n",
      " [    2 50500]\n",
      " [    3 41500]\n",
      " [    4 43500]\n",
      " [    5 43500]\n",
      " [    6 38500]\n",
      " [    7 35500]\n",
      " [    8 48500]\n",
      " [    9 41500]\n",
      " [   10 46500]\n",
      " [   11 40500]\n",
      " [   12 43500]\n",
      " [   13 42500]\n",
      " [   14 35500]\n",
      " [   15 44500]\n",
      " [   16 38500]\n",
      " [   17 42500]\n",
      " [   18 48500]\n",
      " [   19 46500]\n",
      " [   20 39500]\n",
      " [   21 47500]\n",
      " [   22 40500]\n",
      " [   23 49500]\n",
      " [   24 47500]\n",
      " [   25 41500]\n",
      " [   26 42500]\n",
      " [   27 47500]\n",
      " [   28 49500]\n",
      " [   29 47500]\n",
      " [   30 48500]\n",
      " [   31 38500]\n",
      " [   32 47500]\n",
      " [   33 26500]\n",
      " [   34 34500]\n",
      " [   35 49500]\n",
      " [   36 36500]\n",
      " [   37 44500]\n",
      " [   38 45500]\n",
      " [   39 45500]\n",
      " [   40 44500]\n",
      " [   41 36500]\n",
      " [   42 47500]\n",
      " [   43 47500]\n",
      " [   44 48500]\n",
      " [   45 48500]\n",
      " [   46 37500]\n",
      " [   47 39500]\n",
      " [   48 45500]\n",
      " [   49 37500]\n",
      " [   50 42500]\n",
      " [   51 45500]\n",
      " [   52 43500]\n",
      " [   53 48500]\n",
      " [   54 44500]\n",
      " [   55 47500]\n",
      " [   56 40500]\n",
      " [   57 39500]\n",
      " [   58 46500]\n",
      " [   59 36500]\n",
      " [   60 47500]\n",
      " [   61 45500]\n",
      " [   62 44500]\n",
      " [   63 36500]\n",
      " [   64 47500]\n",
      " [   65 40500]\n",
      " [   66 48500]\n",
      " [   67 38500]\n",
      " [   68 43500]\n",
      " [   69 38500]\n",
      " [   70 42500]\n",
      " [   71 47500]\n",
      " [   72 42500]\n",
      " [   73 35500]\n",
      " [   74 49500]\n",
      " [   75 47500]\n",
      " [   76 44500]\n",
      " [   77 29500]\n",
      " [   78 44500]\n",
      " [   79 47500]\n",
      " [   80 49500]\n",
      " [   81 49500]\n",
      " [   82 36500]\n",
      " [   83 41500]\n",
      " [   84 48500]\n",
      " [   85 44500]\n",
      " [   86 47500]\n",
      " [   87 48500]\n",
      " [   88 48500]\n",
      " [   89 43500]\n",
      " [   90 47500]\n",
      " [   91 47500]\n",
      " [   92 47500]\n",
      " [   93 44500]\n",
      " [   94 46500]\n",
      " [   95 39500]\n",
      " [   96 42500]]\n"
     ]
    }
   ],
   "source": [
    "print(t3)"
   ]
  },
  {
   "cell_type": "code",
   "execution_count": 19,
   "metadata": {
    "ExecuteTime": {
     "end_time": "2020-09-29T00:39:06.755349Z",
     "start_time": "2020-09-29T00:39:06.745372Z"
    }
   },
   "outputs": [],
   "source": [
    "df = pd.DataFrame(t3, columns=['participant_ID', 'task_3'])\n",
    "df['task_2'] = t2[:,1]\n",
    "df['task_1'] = t1[:,1]"
   ]
  },
  {
   "cell_type": "code",
   "execution_count": 20,
   "metadata": {
    "ExecuteTime": {
     "end_time": "2020-09-29T00:39:06.767317Z",
     "start_time": "2020-09-29T00:39:06.757342Z"
    }
   },
   "outputs": [],
   "source": [
    "df.to_csv(oloc+'payoff.csv', index=False)"
   ]
  },
  {
   "cell_type": "code",
   "execution_count": null,
   "metadata": {},
   "outputs": [],
   "source": []
  }
 ],
 "metadata": {
  "kernelspec": {
   "display_name": "Python 3",
   "language": "python",
   "name": "python3"
  },
  "language_info": {
   "codemirror_mode": {
    "name": "ipython",
    "version": 3
   },
   "file_extension": ".py",
   "mimetype": "text/x-python",
   "name": "python",
   "nbconvert_exporter": "python",
   "pygments_lexer": "ipython3",
   "version": "3.8.3"
  },
  "varInspector": {
   "cols": {
    "lenName": 16,
    "lenType": 16,
    "lenVar": 40
   },
   "kernels_config": {
    "python": {
     "delete_cmd_postfix": "",
     "delete_cmd_prefix": "del ",
     "library": "var_list.py",
     "varRefreshCmd": "print(var_dic_list())"
    },
    "r": {
     "delete_cmd_postfix": ") ",
     "delete_cmd_prefix": "rm(",
     "library": "var_list.r",
     "varRefreshCmd": "cat(var_dic_list()) "
    }
   },
   "types_to_exclude": [
    "module",
    "function",
    "builtin_function_or_method",
    "instance",
    "_Feature"
   ],
   "window_display": false
  }
 },
 "nbformat": 4,
 "nbformat_minor": 4
}
