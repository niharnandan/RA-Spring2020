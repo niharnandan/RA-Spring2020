{
 "cells": [
  {
   "cell_type": "code",
   "execution_count": 2,
   "metadata": {
    "ExecuteTime": {
     "end_time": "2020-09-29T20:45:41.047550Z",
     "start_time": "2020-09-29T20:45:41.041556Z"
    }
   },
   "outputs": [],
   "source": [
    "import numpy as np\n",
    "import pandas as pd\n",
    "from os import listdir\n",
    "from os.path import isfile, join\n",
    "import warnings\n",
    "warnings.filterwarnings('ignore')"
   ]
  },
  {
   "cell_type": "code",
   "execution_count": 5,
   "metadata": {
    "ExecuteTime": {
     "end_time": "2020-09-29T20:46:10.641037Z",
     "start_time": "2020-09-29T20:46:10.634058Z"
    }
   },
   "outputs": [
    {
     "name": "stdout",
     "output_type": "stream",
     "text": [
      "['simulation results A.csv', 'simulation results B.csv', 'simulation results C.csv']\n"
     ]
    }
   ],
   "source": [
    "mypath= '../Simulated_Data/'\n",
    "files = [f for f in listdir(mypath)]\n",
    "oloc = open(\"../Output_Location (Simulated).txt\", \"r\").read()\n",
    "print(files)"
   ]
  },
  {
   "cell_type": "code",
   "execution_count": 4,
   "metadata": {
    "ExecuteTime": {
     "end_time": "2020-09-29T20:45:45.432448Z",
     "start_time": "2020-09-29T20:45:44.985606Z"
    }
   },
   "outputs": [
    {
     "name": "stdout",
     "output_type": "stream",
     "text": [
      "trial_no                 0\n",
      "block_name               0\n",
      "setup_cost               0\n",
      "red_prior_prob           0\n",
      "guilty_suspect_chosen    0\n",
      "                        ..\n",
      "choice_59                0\n",
      "choice_60                0\n",
      "choice_61                0\n",
      "choice_62                0\n",
      "participant_ID           0\n",
      "Length: 70, dtype: int64\n",
      "trial_no                 0\n",
      "block_name               0\n",
      "setup_cost               0\n",
      "red_prior_prob           0\n",
      "guilty_suspect_chosen    0\n",
      "                        ..\n",
      "choice_59                0\n",
      "choice_60                0\n",
      "choice_61                0\n",
      "choice_62                0\n",
      "participant_ID           0\n",
      "Length: 70, dtype: int64\n"
     ]
    }
   ],
   "source": [
    "temp = [0]*len(files)\n",
    "s = 0\n",
    "p_count = 0\n",
    "for i in range(len(files)):\n",
    "    temp[i] = pd.read_csv(mypath+files[i])\n",
    "    s += temp[i].count()\n",
    "print(s)\n",
    "for i in range(len(files)-1):\n",
    "    temp[0] = temp[0].append(temp[i+1], ignore_index=True, sort=False)\n",
    "print(temp[0].count())\n",
    "temp1 = temp[0].copy(deep = True)\n",
    "temp1['part'] = 0\n",
    "temp1['treatment'] = 0\n",
    "cols = ['treatment']\n",
    "[temp1.columns.get_loc(c) for c in cols if c in temp1]\n",
    "for key,value in temp1.iterrows():\n",
    "    if 'part1' in value[1]: temp1['part'][key] = 1\n",
    "    elif 'part2' in value[1]: temp1['part'][key] = 2\n",
    "    else: temp1['part'][key] = 3\n",
    "    \n",
    "    if 'guilty' in value[1]: temp1['treatment'][key] = 1\n",
    "    else: temp1['treatment'][key] = 0\n",
    "temp1 = temp1.drop(columns=['block_name'])\n",
    "temp1.head()\n",
    "for i in range(1,4):\n",
    "    cols = temp1.columns.tolist()\n",
    "    cols.remove('participant_ID')\n",
    "    cols = ['participant_ID'] + cols\n",
    "    temp1 = temp1[cols]\n",
    "    temp2 = temp1.loc[temp1['part'] == i]\n",
    "    temp2.to_csv(oloc+'Task'+str(i)+'.csv', index=False)"
   ]
  },
  {
   "cell_type": "code",
   "execution_count": null,
   "metadata": {},
   "outputs": [],
   "source": []
  }
 ],
 "metadata": {
  "kernelspec": {
   "display_name": "Python 3",
   "language": "python",
   "name": "python3"
  },
  "language_info": {
   "codemirror_mode": {
    "name": "ipython",
    "version": 3
   },
   "file_extension": ".py",
   "mimetype": "text/x-python",
   "name": "python",
   "nbconvert_exporter": "python",
   "pygments_lexer": "ipython3",
   "version": "3.8.3"
  },
  "varInspector": {
   "cols": {
    "lenName": 16,
    "lenType": 16,
    "lenVar": 40
   },
   "kernels_config": {
    "python": {
     "delete_cmd_postfix": "",
     "delete_cmd_prefix": "del ",
     "library": "var_list.py",
     "varRefreshCmd": "print(var_dic_list())"
    },
    "r": {
     "delete_cmd_postfix": ") ",
     "delete_cmd_prefix": "rm(",
     "library": "var_list.r",
     "varRefreshCmd": "cat(var_dic_list()) "
    }
   },
   "types_to_exclude": [
    "module",
    "function",
    "builtin_function_or_method",
    "instance",
    "_Feature"
   ],
   "window_display": false
  }
 },
 "nbformat": 4,
 "nbformat_minor": 4
}
