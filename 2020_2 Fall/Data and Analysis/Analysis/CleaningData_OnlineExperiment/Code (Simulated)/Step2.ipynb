{
 "cells": [
  {
   "cell_type": "code",
   "execution_count": 2,
   "metadata": {
    "ExecuteTime": {
     "end_time": "2020-10-06T00:37:46.756254Z",
     "start_time": "2020-10-06T00:37:43.816256Z"
    }
   },
   "outputs": [],
   "source": [
    "import numpy as np\n",
    "import pandas as pd\n",
    "from os import listdir\n",
    "from os.path import isfile, join\n",
    "import warnings\n",
    "warnings.filterwarnings('ignore')\n",
    "mypath= '../../../Data/RawData_OnlineExperiment/'\n",
    "oloc = open(\"../Output_Location (Simulated).txt\", \"r\").read()\n",
    "temp2 = pd.read_csv('../Simulated_Data/simulation results B.csv')\n",
    "temp3 = pd.read_csv('../Simulated_Data/simulation results C.csv')"
   ]
  },
  {
   "cell_type": "code",
   "execution_count": 18,
   "metadata": {
    "ExecuteTime": {
     "end_time": "2020-10-06T00:47:42.403999Z",
     "start_time": "2020-10-06T00:46:57.186135Z"
    }
   },
   "outputs": [],
   "source": [
    "for name in range(65,68):\n",
    "    temp1 = pd.read_csv('../Simulated_Data/simulation results '+chr(name)+'.csv')\n",
    "    temp1 = temp1.replace('red', 0)\n",
    "    temp1 = temp1.replace('blue', 1)\n",
    "    temp1 = temp1.rename(columns={\"setup_cost\": \"rounds\",})\n",
    "    temp1 = temp1.rename(columns={\"guilty_suspect_chosen\": \"true_guilty_suspect\",})# 'guilty_suspect_chosen': 'true_guilty_suspect'})\n",
    "    for i in range(1,63,1):\n",
    "        temp1.insert(len(temp1.columns), 'outcome_'+str(i), np.nan)\n",
    "    temp1['evidence_round'] = 0\n",
    "    temp1['correct_suspect_accused'] = 0\n",
    "    temp1['participant_ID'] = 0\n",
    "    temp1['treatment'] = 0\n",
    "    temp1['part'] = 2\n",
    "    temp1['suspect_accused'] = 0\n",
    "    for i in range(1,63): temp1['timing_choice_'+str(i)] = 0\n",
    "    c = ['choice_' + str(i) for i in range(1,12)]\n",
    "    temp = ['investigate_red','investigate_blue','accuse_red','accuse_blue','advance_to_next_trial', 'evidence_shown']\n",
    "\n",
    "    for i in temp:\n",
    "        temp1 = temp1.replace(i, temp.index(i))\n",
    "    temp1.head()\n",
    "    for key,value in temp1.iterrows():\n",
    "        temp = temp1.iloc[key, 7:69].to_list()\n",
    "        outcome = [x for x in temp if x != np.nan and (x == 5) or (x == 1) or (x == 0)]\n",
    "        outcome = [1 if i == 5 else 0 for i in outcome]\n",
    "        for i in range(1,len(outcome)+1):\n",
    "            temp1['outcome_'+str(i)][key] = outcome[i-1]\n",
    "\n",
    "\n",
    "        if (2 in temp and value[4] == 0) or (3 in temp and value[4] == 1): temp1['correct_suspect_accused'][key] = 1 \n",
    "        if 2 in temp: temp1['suspect_accused'] == 0\n",
    "        elif 3 in temp: temp1['suspect_accused'] == 1\n",
    "\n",
    "        if 5 in temp:\n",
    "            temp1['evidence_round'][key] = temp.index(5)+1\n",
    "            temp.remove(5)\n",
    "            temp.append(np.nan)\n",
    "        else: temp1['evidence_round'][key] = 0\n",
    "        temp = [x if x == 1 or x == 0 else np.nan for x in temp]\n",
    "        temp1.iloc[key, 7:69] = temp\n",
    "\n",
    "    d3 = ['choice_'+str(i) for i in range(1,61)]\n",
    "    d4 = ['outcome_'+str(i) for i in range(1,61)]\n",
    "    d5 = ['timing_choice_'+str(i) for i in range(1,63)]\n",
    "    temp1 = temp1.rename(columns={\"rounds\": \"setup_cost_red\",})\n",
    "    temp1[\"setup_cost_blue\"] =  temp1[\"setup_cost_red\"]\n",
    "    cols = ['participant_ID', 'treatment', 'part', 'trial_no', \n",
    "             'setup_cost_red', 'setup_cost_blue', 'red_prior_prob',\n",
    "            'true_guilty_suspect', 'suspect_accused']+d3+d4+d5+['correct_suspect_accused', 'evidence_round']\n",
    "    temp1 = temp1[cols]\n",
    "    temp1.to_csv(oloc+'Step2_'+chr(name)+'.csv', index=False)"
   ]
  },
  {
   "cell_type": "code",
   "execution_count": 17,
   "metadata": {
    "ExecuteTime": {
     "end_time": "2020-10-06T00:46:31.851334Z",
     "start_time": "2020-10-06T00:46:31.845350Z"
    }
   },
   "outputs": [
    {
     "data": {
      "text/plain": [
       "'Step2_C.csv'"
      ]
     },
     "execution_count": 17,
     "metadata": {},
     "output_type": "execute_result"
    }
   ],
   "source": []
  },
  {
   "cell_type": "code",
   "execution_count": null,
   "metadata": {},
   "outputs": [],
   "source": []
  }
 ],
 "metadata": {
  "kernelspec": {
   "display_name": "Python 3",
   "language": "python",
   "name": "python3"
  },
  "language_info": {
   "codemirror_mode": {
    "name": "ipython",
    "version": 3
   },
   "file_extension": ".py",
   "mimetype": "text/x-python",
   "name": "python",
   "nbconvert_exporter": "python",
   "pygments_lexer": "ipython3",
   "version": "3.8.3"
  },
  "varInspector": {
   "cols": {
    "lenName": 16,
    "lenType": 16,
    "lenVar": 40
   },
   "kernels_config": {
    "python": {
     "delete_cmd_postfix": "",
     "delete_cmd_prefix": "del ",
     "library": "var_list.py",
     "varRefreshCmd": "print(var_dic_list())"
    },
    "r": {
     "delete_cmd_postfix": ") ",
     "delete_cmd_prefix": "rm(",
     "library": "var_list.r",
     "varRefreshCmd": "cat(var_dic_list()) "
    }
   },
   "types_to_exclude": [
    "module",
    "function",
    "builtin_function_or_method",
    "instance",
    "_Feature"
   ],
   "window_display": false
  }
 },
 "nbformat": 4,
 "nbformat_minor": 4
}
