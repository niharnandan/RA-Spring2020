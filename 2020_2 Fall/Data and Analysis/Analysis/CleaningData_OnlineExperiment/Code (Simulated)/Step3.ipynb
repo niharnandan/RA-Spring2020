{
 "cells": [
  {
   "cell_type": "code",
   "execution_count": 4,
   "metadata": {
    "ExecuteTime": {
     "end_time": "2020-10-06T07:05:35.103993Z",
     "start_time": "2020-10-06T07:05:35.098004Z"
    }
   },
   "outputs": [],
   "source": [
    "import numpy as np\n",
    "import pandas as pd\n",
    "from os import listdir\n",
    "from os.path import isfile, join\n",
    "import matplotlib.pyplot as plt\n",
    "import warnings\n",
    "import seaborn as sns\n",
    "sns.set_style(\"darkgrid\")\n",
    "warnings.filterwarnings('ignore')\n",
    "oloc = open(\"../Output_Location (Simulated).txt\", \"r\").read()"
   ]
  },
  {
   "cell_type": "code",
   "execution_count": 5,
   "metadata": {
    "ExecuteTime": {
     "end_time": "2020-10-06T07:06:13.894821Z",
     "start_time": "2020-10-06T07:05:35.318287Z"
    }
   },
   "outputs": [],
   "source": [
    "for name in range(65,68):\n",
    "    temp1 = pd.read_csv(oloc+'Step2_'+chr(name)+'.csv')\n",
    "    for key,value in temp1.iterrows():\n",
    "        if value[1] == 0:\n",
    "            temp = temp1.iloc[key, 9:69].to_list()\n",
    "            temp1.iloc[key, 9:69] = [int(x) ^ 1 if x == 1.0 or x == 0.0 else np.nan for x in temp]\n",
    "    temp1.to_csv(oloc+'Step3_'+chr(name)+'.csv', index=False)"
   ]
  },
  {
   "cell_type": "code",
   "execution_count": null,
   "metadata": {},
   "outputs": [],
   "source": []
  }
 ],
 "metadata": {
  "kernelspec": {
   "display_name": "Python 3",
   "language": "python",
   "name": "python3"
  },
  "language_info": {
   "codemirror_mode": {
    "name": "ipython",
    "version": 3
   },
   "file_extension": ".py",
   "mimetype": "text/x-python",
   "name": "python",
   "nbconvert_exporter": "python",
   "pygments_lexer": "ipython3",
   "version": "3.8.3"
  },
  "varInspector": {
   "cols": {
    "lenName": 16,
    "lenType": 16,
    "lenVar": 40
   },
   "kernels_config": {
    "python": {
     "delete_cmd_postfix": "",
     "delete_cmd_prefix": "del ",
     "library": "var_list.py",
     "varRefreshCmd": "print(var_dic_list())"
    },
    "r": {
     "delete_cmd_postfix": ") ",
     "delete_cmd_prefix": "rm(",
     "library": "var_list.r",
     "varRefreshCmd": "cat(var_dic_list()) "
    }
   },
   "types_to_exclude": [
    "module",
    "function",
    "builtin_function_or_method",
    "instance",
    "_Feature"
   ],
   "window_display": false
  }
 },
 "nbformat": 4,
 "nbformat_minor": 4
}
