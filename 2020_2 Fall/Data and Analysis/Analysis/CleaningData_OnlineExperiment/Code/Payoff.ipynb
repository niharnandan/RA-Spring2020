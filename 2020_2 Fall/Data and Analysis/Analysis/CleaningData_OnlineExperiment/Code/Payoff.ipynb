{
 "cells": [
  {
   "cell_type": "code",
   "execution_count": 1,
   "metadata": {},
   "outputs": [],
   "source": [
    "import numpy as np\n",
    "import pandas as pd\n",
    "from os import listdir\n",
    "from os.path import isfile, join\n",
    "import warnings\n",
    "warnings.filterwarnings('ignore')"
   ]
  },
  {
   "cell_type": "code",
   "execution_count": 2,
   "metadata": {},
   "outputs": [],
   "source": [
    "oloc = open(\"../Output_Location.txt\", \"r\").read()\n",
    "temp1 = pd.read_csv(oloc+'Task1_step4.csv')\n",
    "players = list(set(temp1['participant_ID'].to_list()))"
   ]
  },
  {
   "cell_type": "code",
   "execution_count": 3,
   "metadata": {},
   "outputs": [],
   "source": [
    "t1 = np.array([[int(i),0] for i in players])\n",
    "for key,value in temp1.iterrows():\n",
    "    if value[7] == 1:\n",
    "        if value[-2] == value[-3]:\n",
    "            t1[list(t1[:,0]).index(value[0]),1] += 1000"
   ]
  },
  {
   "cell_type": "code",
   "execution_count": 4,
   "metadata": {
    "scrolled": true
   },
   "outputs": [
    {
     "name": "stdout",
     "output_type": "stream",
     "text": [
      "[[    1 23000]\n",
      " [    2 20000]\n",
      " [    3 22000]\n",
      " [    4 19000]\n",
      " [    5 20000]\n",
      " [    6 24000]\n",
      " [    7 21000]\n",
      " [    8 20000]\n",
      " [    9 23000]\n",
      " [   10 20000]\n",
      " [   11 20000]\n",
      " [   12 21000]\n",
      " [   13 23000]\n",
      " [   14 15000]\n",
      " [   15 23000]\n",
      " [   16 21000]]\n"
     ]
    }
   ],
   "source": [
    "print(t1)"
   ]
  },
  {
   "cell_type": "code",
   "execution_count": 5,
   "metadata": {},
   "outputs": [],
   "source": [
    "temp2 = pd.read_csv(oloc+'Task2_step4.csv')\n",
    "players = list(set(temp2['participant_ID'].to_list()))"
   ]
  },
  {
   "cell_type": "code",
   "execution_count": 6,
   "metadata": {},
   "outputs": [],
   "source": [
    "t2 = np.array([[int(i),500] for i in players])\n",
    "for key,value in temp2.iterrows():\n",
    "    if value[7] == 1:\n",
    "        if value[-2] == value[-3]:\n",
    "            t2[list(t2[:,0]).index(value[0]),1] += 1000 - value[4]*value[10] - value[5]*value[11]\n",
    "        else:\n",
    "            t2[list(t2[:,0]).index(value[0]),1] += value[4]*value[10] - value[5]*value[11]"
   ]
  },
  {
   "cell_type": "code",
   "execution_count": 7,
   "metadata": {
    "scrolled": true
   },
   "outputs": [
    {
     "name": "stdout",
     "output_type": "stream",
     "text": [
      "[[    1 18500]\n",
      " [    2  9500]\n",
      " [    3 25500]\n",
      " [    4 17500]\n",
      " [    5 15500]\n",
      " [    6 21500]\n",
      " [    7  3500]\n",
      " [    8 21500]\n",
      " [    9 16500]\n",
      " [   10 16500]\n",
      " [   11 12500]\n",
      " [   12 21500]\n",
      " [   13  8500]\n",
      " [   14 19500]\n",
      " [   15 14500]\n",
      " [   16 23500]]\n"
     ]
    }
   ],
   "source": [
    "print(t2)"
   ]
  },
  {
   "cell_type": "code",
   "execution_count": 8,
   "metadata": {},
   "outputs": [],
   "source": [
    "temp3 = pd.read_csv(oloc+'Task3_step4.csv')\n",
    "players = list(set(temp3['participant_ID'].to_list()))"
   ]
  },
  {
   "cell_type": "code",
   "execution_count": 9,
   "metadata": {},
   "outputs": [],
   "source": [
    "t3 = np.array([[int(i),500] for i in players])\n",
    "for key,value in temp3.iterrows():\n",
    "    if value[7] == 1:\n",
    "        if value[-2] == value[-3]:\n",
    "            t3[list(t3[:,0]).index(value[0]),1] += 1000 + value[4]*value[10] - value[5]*value[11]\n",
    "        else:\n",
    "            t3[list(t3[:,0]).index(value[0]),1] += value[4]*value[10] - value[5]*value[11]"
   ]
  },
  {
   "cell_type": "code",
   "execution_count": 10,
   "metadata": {},
   "outputs": [
    {
     "name": "stdout",
     "output_type": "stream",
     "text": [
      "[[    1 42500]\n",
      " [    2 16500]\n",
      " [    3 47500]\n",
      " [    4 33500]\n",
      " [    5 25500]\n",
      " [    6 46500]\n",
      " [    7   500]\n",
      " [    8 46500]\n",
      " [    9 37500]\n",
      " [   10 31500]\n",
      " [   11 22500]\n",
      " [   12 47500]\n",
      " [   13 15500]\n",
      " [   14 43500]\n",
      " [   15 24500]\n",
      " [   16 45500]]\n"
     ]
    }
   ],
   "source": [
    "print(t3)"
   ]
  },
  {
   "cell_type": "code",
   "execution_count": 11,
   "metadata": {},
   "outputs": [],
   "source": [
    "df = pd.DataFrame(t3, columns=['participant_ID', 'task_3'])\n",
    "df['task_2'] = t2[:,1]\n",
    "df['task_1'] = t1[:,1]"
   ]
  },
  {
   "cell_type": "code",
   "execution_count": 12,
   "metadata": {},
   "outputs": [],
   "source": [
    "df.to_csv(oloc+'payoff.csv', index=False)"
   ]
  },
  {
   "cell_type": "code",
   "execution_count": null,
   "metadata": {},
   "outputs": [],
   "source": []
  }
 ],
 "metadata": {
  "kernelspec": {
   "display_name": "Python 3",
   "language": "python",
   "name": "python3"
  },
  "language_info": {
   "codemirror_mode": {
    "name": "ipython",
    "version": 3
   },
   "file_extension": ".py",
   "mimetype": "text/x-python",
   "name": "python",
   "nbconvert_exporter": "python",
   "pygments_lexer": "ipython3",
   "version": "3.8.3"
  },
  "varInspector": {
   "cols": {
    "lenName": 16,
    "lenType": 16,
    "lenVar": 40
   },
   "kernels_config": {
    "python": {
     "delete_cmd_postfix": "",
     "delete_cmd_prefix": "del ",
     "library": "var_list.py",
     "varRefreshCmd": "print(var_dic_list())"
    },
    "r": {
     "delete_cmd_postfix": ") ",
     "delete_cmd_prefix": "rm(",
     "library": "var_list.r",
     "varRefreshCmd": "cat(var_dic_list()) "
    }
   },
   "types_to_exclude": [
    "module",
    "function",
    "builtin_function_or_method",
    "instance",
    "_Feature"
   ],
   "window_display": false
  }
 },
 "nbformat": 4,
 "nbformat_minor": 4
}
