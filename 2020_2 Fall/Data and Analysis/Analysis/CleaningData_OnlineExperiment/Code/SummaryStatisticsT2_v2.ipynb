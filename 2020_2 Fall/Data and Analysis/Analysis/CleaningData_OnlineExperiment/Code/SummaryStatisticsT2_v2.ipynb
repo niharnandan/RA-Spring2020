{
 "cells": [
  {
   "cell_type": "code",
   "execution_count": 1,
   "metadata": {
    "ExecuteTime": {
     "end_time": "2020-10-14T21:23:48.068582Z",
     "start_time": "2020-10-14T21:23:48.064594Z"
    }
   },
   "outputs": [],
   "source": [
    "## RUN SUMMARY STATISTICS FOR A DATASET (TASK 2)"
   ]
  },
  {
   "cell_type": "code",
   "execution_count": 2,
   "metadata": {
    "ExecuteTime": {
     "end_time": "2020-10-14T21:23:49.586375Z",
     "start_time": "2020-10-14T21:23:48.071575Z"
    }
   },
   "outputs": [],
   "source": [
    "# IMPORT PACKAGES\n",
    "import pandas as pd\n",
    "import numpy as np\n",
    "import matplotlib.pyplot as plt\n",
    "import seaborn as sns\n",
    "sns.set_style(\"darkgrid\")"
   ]
  },
  {
   "cell_type": "code",
   "execution_count": 3,
   "metadata": {
    "ExecuteTime": {
     "end_time": "2020-10-14T21:23:49.663155Z",
     "start_time": "2020-10-14T21:23:49.590350Z"
    }
   },
   "outputs": [
    {
     "data": {
      "text/html": [
       "<div>\n",
       "<style scoped>\n",
       "    .dataframe tbody tr th:only-of-type {\n",
       "        vertical-align: middle;\n",
       "    }\n",
       "\n",
       "    .dataframe tbody tr th {\n",
       "        vertical-align: top;\n",
       "    }\n",
       "\n",
       "    .dataframe thead th {\n",
       "        text-align: right;\n",
       "    }\n",
       "</style>\n",
       "<table border=\"1\" class=\"dataframe\">\n",
       "  <thead>\n",
       "    <tr style=\"text-align: right;\">\n",
       "      <th></th>\n",
       "      <th>participant_ID</th>\n",
       "      <th>treatment</th>\n",
       "      <th>part</th>\n",
       "      <th>trial_no</th>\n",
       "      <th>setup_cost_red</th>\n",
       "      <th>setup_cost_blue</th>\n",
       "      <th>red_prior_prob</th>\n",
       "      <th>current_rounds</th>\n",
       "      <th>action_type</th>\n",
       "      <th>suspect</th>\n",
       "      <th>count_red_samples</th>\n",
       "      <th>count_blue_samples</th>\n",
       "      <th>evidence_found</th>\n",
       "      <th>evidence_suspect</th>\n",
       "      <th>posterior</th>\n",
       "      <th>true_guilty_suspect</th>\n",
       "      <th>suspect_accused</th>\n",
       "      <th>time</th>\n",
       "    </tr>\n",
       "  </thead>\n",
       "  <tbody>\n",
       "    <tr>\n",
       "      <th>0</th>\n",
       "      <td>1.0</td>\n",
       "      <td>1.0</td>\n",
       "      <td>2.0</td>\n",
       "      <td>1.0</td>\n",
       "      <td>10.0</td>\n",
       "      <td>10.0</td>\n",
       "      <td>0.7</td>\n",
       "      <td>1</td>\n",
       "      <td>0</td>\n",
       "      <td>1.0</td>\n",
       "      <td>0</td>\n",
       "      <td>0</td>\n",
       "      <td>0</td>\n",
       "      <td>-1.0</td>\n",
       "      <td>0.700000</td>\n",
       "      <td>1.0</td>\n",
       "      <td>0.0</td>\n",
       "      <td>6016.7120</td>\n",
       "    </tr>\n",
       "    <tr>\n",
       "      <th>1</th>\n",
       "      <td>1.0</td>\n",
       "      <td>1.0</td>\n",
       "      <td>2.0</td>\n",
       "      <td>1.0</td>\n",
       "      <td>10.0</td>\n",
       "      <td>10.0</td>\n",
       "      <td>0.7</td>\n",
       "      <td>2</td>\n",
       "      <td>0</td>\n",
       "      <td>1.0</td>\n",
       "      <td>0</td>\n",
       "      <td>1</td>\n",
       "      <td>0</td>\n",
       "      <td>-1.0</td>\n",
       "      <td>0.756757</td>\n",
       "      <td>1.0</td>\n",
       "      <td>0.0</td>\n",
       "      <td>6733.3740</td>\n",
       "    </tr>\n",
       "    <tr>\n",
       "      <th>2</th>\n",
       "      <td>1.0</td>\n",
       "      <td>1.0</td>\n",
       "      <td>2.0</td>\n",
       "      <td>1.0</td>\n",
       "      <td>10.0</td>\n",
       "      <td>10.0</td>\n",
       "      <td>0.7</td>\n",
       "      <td>3</td>\n",
       "      <td>0</td>\n",
       "      <td>1.0</td>\n",
       "      <td>0</td>\n",
       "      <td>2</td>\n",
       "      <td>0</td>\n",
       "      <td>-1.0</td>\n",
       "      <td>0.805755</td>\n",
       "      <td>1.0</td>\n",
       "      <td>0.0</td>\n",
       "      <td>7383.4022</td>\n",
       "    </tr>\n",
       "    <tr>\n",
       "      <th>3</th>\n",
       "      <td>1.0</td>\n",
       "      <td>1.0</td>\n",
       "      <td>2.0</td>\n",
       "      <td>1.0</td>\n",
       "      <td>10.0</td>\n",
       "      <td>10.0</td>\n",
       "      <td>0.7</td>\n",
       "      <td>4</td>\n",
       "      <td>0</td>\n",
       "      <td>1.0</td>\n",
       "      <td>0</td>\n",
       "      <td>3</td>\n",
       "      <td>0</td>\n",
       "      <td>-1.0</td>\n",
       "      <td>0.846881</td>\n",
       "      <td>1.0</td>\n",
       "      <td>0.0</td>\n",
       "      <td>8000.0214</td>\n",
       "    </tr>\n",
       "    <tr>\n",
       "      <th>4</th>\n",
       "      <td>1.0</td>\n",
       "      <td>1.0</td>\n",
       "      <td>2.0</td>\n",
       "      <td>1.0</td>\n",
       "      <td>10.0</td>\n",
       "      <td>10.0</td>\n",
       "      <td>0.7</td>\n",
       "      <td>5</td>\n",
       "      <td>0</td>\n",
       "      <td>1.0</td>\n",
       "      <td>0</td>\n",
       "      <td>4</td>\n",
       "      <td>0</td>\n",
       "      <td>-1.0</td>\n",
       "      <td>0.880590</td>\n",
       "      <td>1.0</td>\n",
       "      <td>0.0</td>\n",
       "      <td>8716.7231</td>\n",
       "    </tr>\n",
       "  </tbody>\n",
       "</table>\n",
       "</div>"
      ],
      "text/plain": [
       "   participant_ID  treatment  part  trial_no  setup_cost_red  setup_cost_blue  \\\n",
       "0             1.0        1.0   2.0       1.0            10.0             10.0   \n",
       "1             1.0        1.0   2.0       1.0            10.0             10.0   \n",
       "2             1.0        1.0   2.0       1.0            10.0             10.0   \n",
       "3             1.0        1.0   2.0       1.0            10.0             10.0   \n",
       "4             1.0        1.0   2.0       1.0            10.0             10.0   \n",
       "\n",
       "   red_prior_prob  current_rounds  action_type  suspect  count_red_samples  \\\n",
       "0             0.7               1            0      1.0                  0   \n",
       "1             0.7               2            0      1.0                  0   \n",
       "2             0.7               3            0      1.0                  0   \n",
       "3             0.7               4            0      1.0                  0   \n",
       "4             0.7               5            0      1.0                  0   \n",
       "\n",
       "   count_blue_samples  evidence_found  evidence_suspect  posterior  \\\n",
       "0                   0               0              -1.0   0.700000   \n",
       "1                   1               0              -1.0   0.756757   \n",
       "2                   2               0              -1.0   0.805755   \n",
       "3                   3               0              -1.0   0.846881   \n",
       "4                   4               0              -1.0   0.880590   \n",
       "\n",
       "   true_guilty_suspect  suspect_accused       time  \n",
       "0                  1.0              0.0  6016.7120  \n",
       "1                  1.0              0.0  6733.3740  \n",
       "2                  1.0              0.0  7383.4022  \n",
       "3                  1.0              0.0  8000.0214  \n",
       "4                  1.0              0.0  8716.7231  "
      ]
     },
     "execution_count": 3,
     "metadata": {},
     "output_type": "execute_result"
    }
   ],
   "source": [
    "# IMPORT DATA TASK 2 (HUMAN)\n",
    "temp1 = pd.read_csv('../Output/Task2_step4.csv')\n",
    "temp1.head()"
   ]
  },
  {
   "cell_type": "code",
   "execution_count": 4,
   "metadata": {
    "ExecuteTime": {
     "end_time": "2020-10-14T21:23:49.671133Z",
     "start_time": "2020-10-14T21:23:49.666150Z"
    }
   },
   "outputs": [],
   "source": [
    "## CHECK THE FINAL BELIEFS ##"
   ]
  },
  {
   "cell_type": "code",
   "execution_count": 5,
   "metadata": {
    "ExecuteTime": {
     "end_time": "2020-10-14T21:23:50.624119Z",
     "start_time": "2020-10-14T21:23:49.673129Z"
    }
   },
   "outputs": [],
   "source": [
    "# CREATE VECTOR OF \"final beliefs\" (only when the action is \"accuse\")\n",
    "fin = []\n",
    "for key,value in temp1.iterrows():\n",
    "    if value[8] == 1.0:\n",
    "        fin.append(temp1['posterior'][key])"
   ]
  },
  {
   "cell_type": "code",
   "execution_count": 6,
   "metadata": {
    "ExecuteTime": {
     "end_time": "2020-10-14T21:23:51.800130Z",
     "start_time": "2020-10-14T21:23:50.626066Z"
    }
   },
   "outputs": [
    {
     "data": {
      "image/png": "[encoded data removed]",
      "text/plain": [
       "<Figure size 432x288 with 1 Axes>"
      ]
     },
     "metadata": {},
     "output_type": "display_data"
    },
    {
     "data": {
      "image/png": "[encoded data removed]",
      "text/plain": [
       "<Figure size 432x288 with 1 Axes>"
      ]
     },
     "metadata": {},
     "output_type": "display_data"
    }
   ],
   "source": [
    "# PLOT FINAL BELIEFS\n",
    "plt.hist(fin, bins=101)\n",
    "plt.show()\n",
    "plt.hist(fin, bins=15)\n",
    "plt.show()"
   ]
  },
  {
   "cell_type": "code",
   "execution_count": 7,
   "metadata": {
    "ExecuteTime": {
     "end_time": "2020-10-14T21:23:51.810107Z",
     "start_time": "2020-10-14T21:23:51.805120Z"
    }
   },
   "outputs": [],
   "source": [
    "## CALCULATE SUMMARY STATISITCS ##"
   ]
  },
  {
   "cell_type": "code",
   "execution_count": 8,
   "metadata": {
    "ExecuteTime": {
     "end_time": "2020-10-14T21:23:52.107310Z",
     "start_time": "2020-10-14T21:23:51.814093Z"
    }
   },
   "outputs": [
    {
     "name": "stdout",
     "output_type": "stream",
     "text": [
      "2.9570833333333333\n",
      "2.9570833333333333\n",
      "0.86875\n",
      "0.355\n",
      "0.7781613791877722\n",
      "0.5541236554243263\n",
      "1292.9854166666667\n"
     ]
    }
   ],
   "source": [
    "# test (human file only)\n",
    "\n",
    "if 1:\n",
    "    \n",
    "    # read dataset\n",
    "    temp1 = pd.read_csv('../Output/Task2_step4.csv')\n",
    "    \n",
    "    \n",
    "    # isolate accuse rounds and investigation rounds\n",
    "    t2_accuse = temp1.loc[temp1['action_type'] == 1]\n",
    "    t2_investigate = temp1.loc[temp1['action_type'] == 0]\n",
    "    # select accuse and investigation rounds WITHOUT evidence found\n",
    "    t2_accuse_clean = t2_accuse.loc[t2_accuse['evidence_found'] == 0]\n",
    "    t2_investigate_clean = t2_investigate.loc[t2_investigate['evidence_found'] == 0]  \n",
    "    # select accuse rounds WITH evidence found\n",
    "    t2_accuse_certain = t2_accuse.loc[t2_accuse['evidence_found'] == 1]\n",
    "\n",
    "    \n",
    "    # number of collected samples at the accusation round (= round ID - 1)\n",
    "    distr_stop_time = t2_accuse['current_rounds'].to_list()\n",
    "    distr_stop_time = [x - 1 for x in distr_stop_time]\n",
    "    distr_stop_time_average = np.mean(distr_stop_time)\n",
    "    print(distr_stop_time_average)  \n",
    "    # equivalent method (same result)\n",
    "    t2_totsamples = t2_accuse.iloc[:,10]+t2_accuse.iloc[:,11]\n",
    "    t2_avg_samples = np.mean(t2_totsamples)\n",
    "    print(t2_avg_samples)\n",
    "\n",
    "    \n",
    "    # distribution of beliefs at the accusation round\n",
    "    distr_stop_belief = t2_accuse['posterior'].to_list()\n",
    "    \n",
    "    # percentage correct accusation\n",
    "    t2_accuse_correct = t2_accuse.iloc[:,15]==t2_accuse.iloc[:,16]\n",
    "    t2_perc_correct = np.mean(t2_accuse_correct)\n",
    "    print(t2_perc_correct)\n",
    "    \n",
    "    # percentage evidence found\n",
    "    t2_perc_evidence_found = np.mean(t2_accuse.iloc[:,12])\n",
    "    print(t2_perc_evidence_found)\n",
    "\n",
    "    # FIRST ROUND CONFIRMATORY BEHAVIOR (investigate only)\n",
    "    select_rounds = t2_investigate\n",
    "    select_rounds = select_rounds.loc[select_rounds.iloc[:,7]==1,:]\n",
    "    # pr(blue) when blue is more likely\n",
    "    select_rounds_low = select_rounds.loc[select_rounds.iloc[:,6]<0.5,:]\n",
    "    avg_rounds_low = np.mean(select_rounds_low.iloc[:,9])\n",
    "    # pr(red) when red is more likely\n",
    "    select_rounds_high = select_rounds.loc[select_rounds.iloc[:,6]>0.5,:]\n",
    "    avg_rounds_high = 1-np.mean(select_rounds_high.iloc[:,9])\n",
    "    # confirmatory behavior in round 1\n",
    "    t2_perc_confirmatory_round1 = np.mean([avg_rounds_low, avg_rounds_high])\n",
    "    print(t2_perc_confirmatory_round1)\n",
    "\n",
    "    # ALL ROUNDS CONFIRMATORY BEHAVIOR (investigate only)\n",
    "    select_rounds = t2_investigate_clean\n",
    "    # pr(blue) when blue is more likely\n",
    "    select_rounds_low = select_rounds.loc[select_rounds.iloc[:,14]<0.5,:]\n",
    "    avg_rounds_low = np.mean(select_rounds_low.iloc[:,9])\n",
    "    # pr(red) when red is more likely\n",
    "    select_rounds_high = select_rounds.loc[select_rounds.iloc[:,14]>0.5,:]\n",
    "    avg_rounds_high = 1-np.mean(select_rounds_high.iloc[:,9])\n",
    "    t2_perc_confirmatory_allrounds = np.mean([avg_rounds_low, avg_rounds_high])\n",
    "    print(t2_perc_confirmatory_allrounds)\n",
    "    \n",
    "    # score (good for tasks 2 and 3)\n",
    "    t2_unitcostred  = t2_accuse.iloc[:,4]\n",
    "    t2_unitcostblue = t2_accuse.iloc[:,5]\n",
    "    t2_round_score = 500 + t2_accuse_correct*1000  -t2_unitcostred*t2_accuse.iloc[:,10] -t2_unitcostblue*t2_accuse.iloc[:,11]\n",
    "    t2_avg_score = np.mean(t2_round_score)    \n",
    "    print(t2_avg_score)\n",
    "    "
   ]
  },
  {
   "cell_type": "code",
   "execution_count": 9,
   "metadata": {
    "ExecuteTime": {
     "end_time": "2020-10-14T21:23:52.130862Z",
     "start_time": "2020-10-14T21:23:52.110915Z"
    }
   },
   "outputs": [],
   "source": [
    "# FUNCTION TO CALCULATE SUMMARY STATISTICS\n",
    "def c_statistic(file):\n",
    "    \n",
    "    # read dataset\n",
    "    temp1 = pd.read_csv(file)\n",
    "\n",
    "\n",
    "    # isolate accuse rounds and investigation rounds\n",
    "    t2_accuse = temp1.loc[temp1['action_type'] == 1]\n",
    "    t2_investigate = temp1.loc[temp1['action_type'] == 0]\n",
    "    # select accuse and investigation rounds WITHOUT evidence found\n",
    "    t2_accuse_clean = t2_accuse.loc[t2_accuse['evidence_found'] == 0]\n",
    "    t2_investigate_clean = t2_investigate.loc[t2_investigate['evidence_found'] == 0]  \n",
    "    # select accuse rounds WITH evidence found\n",
    "    t2_accuse_certain = t2_accuse.loc[t2_accuse['evidence_found'] == 1]\n",
    "\n",
    "    \n",
    "    # number of collected samples at the accusation round (= round ID - 1)\n",
    "    distr_stop_time = t2_accuse['current_rounds'].to_list()\n",
    "    distr_stop_time = [x - 1 for x in distr_stop_time]\n",
    "    distr_stop_time_average = np.mean(distr_stop_time)\n",
    "    #print(distr_stop_time_average)  \n",
    "    # equivalent method (same result)\n",
    "    t2_totsamples = t2_accuse.iloc[:,10]+t2_accuse.iloc[:,11]\n",
    "    t2_avg_samples = np.mean(t2_totsamples)\n",
    "    #print(t2_avg_samples)\n",
    "\n",
    "    \n",
    "    # distribution of beliefs at the accusation round\n",
    "    distr_stop_belief = t2_accuse['posterior'].to_list()\n",
    "    \n",
    "    # percentage correct accusation\n",
    "    t2_accuse_correct = t2_accuse.iloc[:,15]==t2_accuse.iloc[:,16]\n",
    "    t2_perc_correct = np.mean(t2_accuse_correct)\n",
    "    #print(t2_perc_correct)\n",
    "    \n",
    "    # percentage evidence found\n",
    "    t2_perc_evidence_found = np.mean(t2_accuse.iloc[:,12])\n",
    "    #print(t2_perc_evidence_found)\n",
    "\n",
    "    # FIRST ROUND CONFIRMATORY BEHAVIOR (investigate only)\n",
    "    select_rounds = t2_investigate\n",
    "    select_rounds = select_rounds.loc[select_rounds.iloc[:,7]==1,:]\n",
    "    # pr(blue) when blue is more likely\n",
    "    select_rounds_low = select_rounds.loc[select_rounds.iloc[:,6]<0.5,:]\n",
    "    avg_rounds_low = np.mean(select_rounds_low.iloc[:,9])\n",
    "    # pr(red) when red is more likely\n",
    "    select_rounds_high = select_rounds.loc[select_rounds.iloc[:,6]>0.5,:]\n",
    "    avg_rounds_high = 1-np.mean(select_rounds_high.iloc[:,9])\n",
    "    # confirmatory behavior in round 1\n",
    "    t2_perc_confirmatory_round1 = np.mean([avg_rounds_low, avg_rounds_high])\n",
    "    #print(t2_perc_confirmatory_round1)\n",
    "\n",
    "    # ALL ROUNDS CONFIRMATORY BEHAVIOR (investigate only)\n",
    "    select_rounds = t2_investigate_clean\n",
    "    # pr(blue) when blue is more likely\n",
    "    select_rounds_low = select_rounds.loc[select_rounds.iloc[:,14]<0.5,:]\n",
    "    avg_rounds_low = np.mean(select_rounds_low.iloc[:,9])\n",
    "    # pr(red) when red is more likely\n",
    "    select_rounds_high = select_rounds.loc[select_rounds.iloc[:,14]>0.5,:]\n",
    "    avg_rounds_high = 1-np.mean(select_rounds_high.iloc[:,9])\n",
    "    t2_perc_confirmatory_allrounds = np.mean([avg_rounds_low, avg_rounds_high])\n",
    "    #print(t2_perc_confirmatory_allrounds)\n",
    "    \n",
    "    # score (good for tasks 2 and 3)\n",
    "    t2_unitcostred  = t2_accuse.iloc[:,4]\n",
    "    t2_unitcostblue = t2_accuse.iloc[:,5]\n",
    "    t2_round_score = 500 + t2_accuse_correct*1000  -t2_unitcostred*t2_accuse.iloc[:,10] -t2_unitcostblue*t2_accuse.iloc[:,11]\n",
    "    t2_avg_score = np.mean(t2_round_score)    \n",
    "    #print(t2_avg_score)    \n",
    "    \n",
    "    \n",
    "    # RETURN OUTPUT\n",
    "    return t2_avg_score,t2_avg_samples,t2_perc_confirmatory_allrounds,t2_perc_confirmatory_round1"
   ]
  },
  {
   "cell_type": "code",
   "execution_count": 11,
   "metadata": {
    "ExecuteTime": {
     "end_time": "2020-10-14T21:24:19.075324Z",
     "start_time": "2020-10-14T21:24:18.772986Z"
    }
   },
   "outputs": [
    {
     "name": "stdout",
     "output_type": "stream",
     "text": [
      "../Output/Task2_step4.csv\n",
      "t2_avg_score: 1292.9854166666667\n",
      "t2_avg_samples: 2.9570833333333333\n",
      "t2_perc_confirmatory_allrounds: 0.5541236554243263\n",
      "t2_perc_confirmatory_round1: 0.7781613791877722\n",
      "../Output (Simulated)/Step4_A.csv\n",
      "t2_avg_score: 963.97\n",
      "t2_avg_samples: 3.594\n",
      "t2_perc_confirmatory_allrounds: 0.5179015754460756\n",
      "t2_perc_confirmatory_round1: 0.5662532299741603\n",
      "../Output (Simulated)/Step4_B.csv\n",
      "t2_avg_score: 964.785\n",
      "t2_avg_samples: 3.466\n",
      "t2_perc_confirmatory_allrounds: 0.48346754002463904\n",
      "t2_perc_confirmatory_round1: 0.4989086868526529\n",
      "../Output (Simulated)/Step4_C.csv\n",
      "t2_avg_score: 941.485\n",
      "t2_avg_samples: 4.479\n",
      "t2_perc_confirmatory_allrounds: 0.47229245135819675\n",
      "t2_perc_confirmatory_round1: 0.48589739781368824\n",
      "../Output (Simulated)/Step4_D.csv\n",
      "t2_avg_score: 948.113\n",
      "t2_avg_samples: 4.2269\n",
      "t2_perc_confirmatory_allrounds: 0.36533251296673064\n",
      "t2_perc_confirmatory_round1: 0.05696663696663695\n"
     ]
    }
   ],
   "source": [
    "name = ['../Output/Task2_step4.csv','../Output (Simulated)/Step4_A.csv',\n",
    "        '../Output (Simulated)/Step4_B.csv','../Output (Simulated)/Step4_C.csv','../Output (Simulated)/Step4_D.csv']\n",
    "for i in name:\n",
    "    t2_avg_score,t2_avg_samples,t2_perc_confirmatory_allrounds,t2_perc_confirmatory_round1 = c_statistic(i)\n",
    "    print(i)\n",
    "    print('t2_avg_score:',t2_avg_score)\n",
    "    print('t2_avg_samples:',t2_avg_samples)\n",
    "    print('t2_perc_confirmatory_allrounds:',t2_perc_confirmatory_allrounds)\n",
    "    print('t2_perc_confirmatory_round1:',t2_perc_confirmatory_round1)"
   ]
  },
  {
   "cell_type": "code",
   "execution_count": null,
   "metadata": {},
   "outputs": [],
   "source": []
  }
 ],
 "metadata": {
  "kernelspec": {
   "display_name": "Python 3",
   "language": "python",
   "name": "python3"
  },
  "language_info": {
   "codemirror_mode": {
    "name": "ipython",
    "version": 3
   },
   "file_extension": ".py",
   "mimetype": "text/x-python",
   "name": "python",
   "nbconvert_exporter": "python",
   "pygments_lexer": "ipython3",
   "version": "3.8.3"
  },
  "latex_envs": {
   "LaTeX_envs_menu_present": true,
   "autoclose": true,
   "autocomplete": true,
   "bibliofile": "biblio.bib",
   "cite_by": "apalike",
   "current_citInitial": 1,
   "eqLabelWithNumbers": true,
   "eqNumInitial": 1,
   "hotkeys": {
    "equation": "Ctrl-E",
    "itemize": "Ctrl-I"
   },
   "labels_anchors": false,
   "latex_user_defs": false,
   "report_style_numbering": false,
   "user_envs_cfg": false
  },
  "toc": {
   "base_numbering": 1,
   "nav_menu": {},
   "number_sections": true,
   "sideBar": true,
   "skip_h1_title": false,
   "title_cell": "Table of Contents",
   "title_sidebar": "Contents",
   "toc_cell": false,
   "toc_position": {},
   "toc_section_display": true,
   "toc_window_display": true
  },
  "varInspector": {
   "cols": {
    "lenName": 16,
    "lenType": 16,
    "lenVar": 40
   },
   "kernels_config": {
    "python": {
     "delete_cmd_postfix": "",
     "delete_cmd_prefix": "del ",
     "library": "var_list.py",
     "varRefreshCmd": "print(var_dic_list())"
    },
    "r": {
     "delete_cmd_postfix": ") ",
     "delete_cmd_prefix": "rm(",
     "library": "var_list.r",
     "varRefreshCmd": "cat(var_dic_list()) "
    }
   },
   "types_to_exclude": [
    "module",
    "function",
    "builtin_function_or_method",
    "instance",
    "_Feature"
   ],
   "window_display": false
  }
 },
 "nbformat": 4,
 "nbformat_minor": 4
}
