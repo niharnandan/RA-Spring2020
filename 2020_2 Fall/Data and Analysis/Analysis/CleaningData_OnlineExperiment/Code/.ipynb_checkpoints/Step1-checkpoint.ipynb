{
 "cells": [
  {
   "cell_type": "code",
   "execution_count": 7,
   "metadata": {
    "ExecuteTime": {
     "end_time": "2020-09-22T22:34:48.327689Z",
     "start_time": "2020-09-22T22:34:48.321705Z"
    }
   },
   "outputs": [],
   "source": [
    "import numpy as np\n",
    "import pandas as pd\n",
    "from os import listdir\n",
    "from os.path import isfile, join\n",
    "import warnings\n",
    "warnings.filterwarnings('ignore')"
   ]
  },
  {
   "cell_type": "code",
   "execution_count": 8,
   "metadata": {
    "ExecuteTime": {
     "end_time": "2020-09-22T22:34:48.343644Z",
     "start_time": "2020-09-22T22:34:48.329682Z"
    }
   },
   "outputs": [
    {
     "ename": "FileNotFoundError",
     "evalue": "[Errno 2] No such file or directory: 'Output_Location.txt'",
     "output_type": "error",
     "traceback": [
      "\u001b[1;31m---------------------------------------------------------------------------\u001b[0m",
      "\u001b[1;31mFileNotFoundError\u001b[0m                         Traceback (most recent call last)",
      "\u001b[1;32m<ipython-input-8-7852f26ff9ed>\u001b[0m in \u001b[0;36m<module>\u001b[1;34m\u001b[0m\n\u001b[0;32m      1\u001b[0m \u001b[0mmypath\u001b[0m\u001b[1;33m=\u001b[0m \u001b[1;34m'../../../Data/RawData_OnlineExperiment/'\u001b[0m\u001b[1;33m\u001b[0m\u001b[1;33m\u001b[0m\u001b[0m\n\u001b[0;32m      2\u001b[0m \u001b[0mfiles\u001b[0m \u001b[1;33m=\u001b[0m \u001b[1;33m[\u001b[0m\u001b[0mf\u001b[0m \u001b[1;32mfor\u001b[0m \u001b[0mf\u001b[0m \u001b[1;32min\u001b[0m \u001b[0mlistdir\u001b[0m\u001b[1;33m(\u001b[0m\u001b[0mmypath\u001b[0m\u001b[1;33m)\u001b[0m \u001b[1;32mif\u001b[0m \u001b[0misfile\u001b[0m\u001b[1;33m(\u001b[0m\u001b[0mjoin\u001b[0m\u001b[1;33m(\u001b[0m\u001b[0mmypath\u001b[0m\u001b[1;33m,\u001b[0m \u001b[0mf\u001b[0m\u001b[1;33m)\u001b[0m\u001b[1;33m)\u001b[0m\u001b[1;33m]\u001b[0m\u001b[1;33m\u001b[0m\u001b[1;33m\u001b[0m\u001b[0m\n\u001b[1;32m----> 3\u001b[1;33m \u001b[0moloc\u001b[0m \u001b[1;33m=\u001b[0m \u001b[0mopen\u001b[0m\u001b[1;33m(\u001b[0m\u001b[1;34m\"Output_Location.txt\"\u001b[0m\u001b[1;33m,\u001b[0m \u001b[1;34m\"r\"\u001b[0m\u001b[1;33m)\u001b[0m\u001b[1;33m.\u001b[0m\u001b[0mread\u001b[0m\u001b[1;33m(\u001b[0m\u001b[1;33m)\u001b[0m\u001b[1;33m\u001b[0m\u001b[1;33m\u001b[0m\u001b[0m\n\u001b[0m",
      "\u001b[1;31mFileNotFoundError\u001b[0m: [Errno 2] No such file or directory: 'Output_Location.txt'"
     ]
    }
   ],
   "source": [
    "mypath= '../../../Data/RawData_OnlineExperiment/'\n",
    "files = [f for f in listdir(mypath) if isfile(join(mypath, f))]\n",
    "oloc = open(\"../Output_Location.txt\", \"r\").read()"
   ]
  },
  {
   "cell_type": "code",
   "execution_count": null,
   "metadata": {
    "ExecuteTime": {
     "end_time": "2020-09-22T22:34:48.345660Z",
     "start_time": "2020-09-22T22:34:48.324Z"
    }
   },
   "outputs": [],
   "source": [
    "temp = [0]*len(files)\n",
    "sum = 0\n",
    "p_count = 0\n",
    "for i in range(len(files)):\n",
    "    temp[i] = pd.read_csv(mypath+files[i])\n",
    "    temp[i] = temp[i].dropna(subset=['block_name'])\n",
    "    p_count += 1\n",
    "    temp[i]['participant_ID'] = p_count\n",
    "    sum += temp[i].count()\n",
    "print(sum)\n",
    "for i in range(len(files)-1):\n",
    "    temp[0] = temp[0].append(temp[i+1], ignore_index=True, sort=False)\n",
    "print(temp[0].count())\n",
    "temp1 = temp[0].copy(deep = True)\n",
    "temp1['part'] = 0\n",
    "temp1['treatment'] = 0\n",
    "cols = ['treatment']\n",
    "[temp1.columns.get_loc(c) for c in cols if c in temp1]\n",
    "for key,value in temp1.iterrows():\n",
    "    if 'part1' in value[1]: temp1['part'][key] = 1\n",
    "    elif 'part2' in value[1]: temp1['part'][key] = 2\n",
    "    else: temp1['part'][key] = 3\n",
    "    \n",
    "    if 'guilty' in value[1]: temp1['treatment'][key] = 1\n",
    "    else: temp1['treatment'][key] = 0\n",
    "temp1 = temp1.drop(columns=['block_name'])\n",
    "temp1.head()\n",
    "for i in range(1,4):\n",
    "    cols = temp1.columns.tolist()\n",
    "    cols.remove('participant_ID')\n",
    "    cols = ['participant_ID'] + cols\n",
    "    temp1 = temp1[cols]\n",
    "    temp2 = temp1.loc[temp1['part'] == i]\n",
    "    temp2.to_csv(oloc+'Task'+str(i)+'.csv', index=False)"
   ]
  },
  {
   "cell_type": "code",
   "execution_count": null,
   "metadata": {},
   "outputs": [],
   "source": []
  }
 ],
 "metadata": {
  "kernelspec": {
   "display_name": "Python 3",
   "language": "python",
   "name": "python3"
  },
  "language_info": {
   "codemirror_mode": {
    "name": "ipython",
    "version": 3
   },
   "file_extension": ".py",
   "mimetype": "text/x-python",
   "name": "python",
   "nbconvert_exporter": "python",
   "pygments_lexer": "ipython3",
   "version": "3.8.3"
  },
  "varInspector": {
   "cols": {
    "lenName": 16,
    "lenType": 16,
    "lenVar": 40
   },
   "kernels_config": {
    "python": {
     "delete_cmd_postfix": "",
     "delete_cmd_prefix": "del ",
     "library": "var_list.py",
     "varRefreshCmd": "print(var_dic_list())"
    },
    "r": {
     "delete_cmd_postfix": ") ",
     "delete_cmd_prefix": "rm(",
     "library": "var_list.r",
     "varRefreshCmd": "cat(var_dic_list()) "
    }
   },
   "types_to_exclude": [
    "module",
    "function",
    "builtin_function_or_method",
    "instance",
    "_Feature"
   ],
   "window_display": false
  }
 },
 "nbformat": 4,
 "nbformat_minor": 4
}
