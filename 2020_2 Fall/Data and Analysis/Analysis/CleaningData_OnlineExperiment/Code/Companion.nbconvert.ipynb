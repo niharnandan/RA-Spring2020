{
 "cells": [
  {
   "cell_type": "code",
   "execution_count": 1,
   "metadata": {},
   "outputs": [],
   "source": [
    "import numpy as np\n",
    "import pandas as pd\n",
    "from os import listdir\n",
    "from os.path import isfile, join\n",
    "import warnings\n",
    "warnings.filterwarnings('ignore')"
   ]
  },
  {
   "cell_type": "code",
   "execution_count": 2,
   "metadata": {},
   "outputs": [],
   "source": [
    "mypath= '../../../Data/RawData_OnlineExperiment/'\n",
    "files = [f for f in listdir(mypath) if isfile(join(mypath, f))]\n",
    "oloc = open(\"../Output_Location.txt\", \"r\").read()"
   ]
  },
  {
   "cell_type": "code",
   "execution_count": 3,
   "metadata": {},
   "outputs": [],
   "source": [
    "temp = [0]*len(files)\n",
    "sum = 0\n",
    "p_count = 0\n",
    "for i in range(len(files)):\n",
    "    p_count += 1\n",
    "    t1 = [p_count]\n",
    "    t1.append(files[i].strip('Detective_CSV_OnlineTest/'))\n",
    "    t = pd.read_csv(mypath+files[i])\n",
    "    t1.append(t['total_bonus_paid_cents'].to_list()[-1])\n",
    "    time1 = []\n",
    "    time2 = []\n",
    "    time3 = []\n",
    "    for key,value in t.iterrows():\n",
    "        get_time = [x for x in value[71:133] if x > 0]\n",
    "        if not get_time: continue\n",
    "        if 'part1' in value[1]: time1.append(get_time[-1])\n",
    "        elif 'part2' in value[1]: time2.append(get_time[-1])\n",
    "        else: time3.append(get_time[-1])\n",
    "    t1.append(np.mean(time1))\n",
    "    t1.append(np.mean(time2))\n",
    "    t1.append(np.mean(time3))\n",
    "    temp[i] = t1"
   ]
  },
  {
   "cell_type": "code",
   "execution_count": 4,
   "metadata": {},
   "outputs": [
    {
     "name": "stdout",
     "output_type": "stream",
     "text": [
      "[[1, 'bayes_306996CF7Z6S7V8JTSXQ8SCMJJ9B10_AL8KOIH1DJ7D9_31Q0U3WYDT18S32N6DQCSALCXHW71B_results.', 500.0, 7157.11841733329, 4258.131955999977, 4175.394625999974], [2, 'bayes_308KJXFUKUSOX5F0PXH4JNBBTNUTAH_ANKDLLQHHM2OH_3FTF2T8WLV457N6JIYDHZW2CORCW98_results.', 500.0, 11915.948452000022, 6935.851228000149, 5862.74212799991], [3, 'bayes_30UZJB2PPKYMSI5PFMKWTZRR79Q35C_AX4U4ZJJQKKMS_3X4MXAO0BKABBN25CFD3QH26UDJWRW_results.', 488.0, 8411.767444000041, 3743.310084000029, 3604.198373999977], [4, 'bayes_324N5FAHT0X9MASB6JU8EJ2SXSLKV2_APGX2WZ59OWDN_3K5TEWLKGZXL3ZZHWIEYQNI1GJFIVN_results.', 388.0, 10112.78903200034, 11534.681399999803, 8879.267212000037], [5, 'bayes_386T3MLZMQH9Y8PUUX9G3L3B5FZ08R_AJM4334V07JDQ_3STRJBFXO0DXW2LGRQZV2L9TUSTKTO_results.', 374.0, 19230.22717200006, 7594.969116000042, 4391.099064000053], [6, 'bayes_386T3MLZMQH9Y8PUUX9G3L3B6N508E_A4ZCS7YTJS0DF_3F1567XTN0R0NQAX6PEB77KQ0Q2Q95_results.', 351.0, 10958.000884000005, 13466.764979999989, 8696.642149999963], [7, 'bayes_38G0E1M86PRNP6XN0XYAK6BQXCRVU2_A6TYPWUJVFINW_3JMSRU9HQMG9NUXV0ZO758K99JFEVO_results.', 359.0, 35887.739388000475, 9558.730111999837, 8350.536115999781], [8, 'bayes_3G9UA71JWYGC00LX60RG7QMCT4XJ7S_AUYYXUVPZBIWP_38F71OA9GXII3L3IHI7M0UMWSO6FM6_results.', 370.0, 17078.905632000122, 6978.680544000198, 2459.30631599984], [9, 'bayes_3IKMEYR0MZH0PJU9I9AXCE5HYLJK21_AOM4UJQEDKXAC_3NC5L260MS863OOUUYMZSYB1OODFOE_results.', 440.0, 19055.199017332838, 12898.792547999821, 7730.2506079999575], [10, 'bayes_3K2CEDRADENPZ6OPM079SE6BPY3TMB_A98E8M4QLI9RS_3AUQQEL7U9FAW4I1SSPSKJI5X1GV0E_results.', 125.0, 12784.620204000008, 6034.510951999882, 4558.325091999937], [11, 'bayes_3PEG1BH7BHDUDWU51238D78LSACBKC_A34DYM8J0X5VK_3DZQRBDBSP1QL40UHK26BUW5LEES33_results.', 483.0, 11723.893028000048, 9324.42588800045, 6960.470167999918], [12, 'bayes_3XWUWJ18UOCNCR8NV7O5OK97IVUUU3_ACDIDJHRJ5THM_3L2IS5HSFE4D4LL8O8HLZ9CZ71GUN5_results.', 482.0, 13669.920432000012, 11267.514547999921, 9586.663174000016], [13, 'bayes_3ZRKL6Z1FBPOSWFOMX4O54QSOQUSGL_A6KOTWP7N7RLU_31UV0MXWNUY455K2QRWLMPO2NP95I7_results.', 498.0, 17925.22792000039, 8362.746319999902, 12047.930919999897]]\n"
     ]
    }
   ],
   "source": [
    "print(temp)"
   ]
  },
  {
   "cell_type": "code",
   "execution_count": 5,
   "metadata": {},
   "outputs": [],
   "source": [
    "temp2 = pd.DataFrame(temp, columns = ['participant_ID','csv', 'total_bonus_paid_cents', 'part1_average'\n",
    "            ,'part2_average', 'part3_average'])\n",
    "temp2.to_csv(oloc+'companion.csv')"
   ]
  },
  {
   "cell_type": "code",
   "execution_count": null,
   "metadata": {},
   "outputs": [],
   "source": []
  }
 ],
 "metadata": {
  "kernelspec": {
   "display_name": "Python 3",
   "language": "python",
   "name": "python3"
  },
  "language_info": {
   "codemirror_mode": {
    "name": "ipython",
    "version": 3
   },
   "file_extension": ".py",
   "mimetype": "text/x-python",
   "name": "python",
   "nbconvert_exporter": "python",
   "pygments_lexer": "ipython3",
   "version": "3.8.3"
  },
  "varInspector": {
   "cols": {
    "lenName": 16,
    "lenType": 16,
    "lenVar": 40
   },
   "kernels_config": {
    "python": {
     "delete_cmd_postfix": "",
     "delete_cmd_prefix": "del ",
     "library": "var_list.py",
     "varRefreshCmd": "print(var_dic_list())"
    },
    "r": {
     "delete_cmd_postfix": ") ",
     "delete_cmd_prefix": "rm(",
     "library": "var_list.r",
     "varRefreshCmd": "cat(var_dic_list()) "
    }
   },
   "types_to_exclude": [
    "module",
    "function",
    "builtin_function_or_method",
    "instance",
    "_Feature"
   ],
   "window_display": false
  }
 },
 "nbformat": 4,
 "nbformat_minor": 4
}
