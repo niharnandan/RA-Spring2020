{
 "cells": [
  {
   "cell_type": "code",
   "execution_count": 1,
   "metadata": {},
   "outputs": [],
   "source": [
    "import numpy as np\n",
    "import pandas as pd\n",
    "from os import listdir\n",
    "from os.path import isfile, join\n",
    "import warnings\n",
    "warnings.filterwarnings('ignore')"
   ]
  },
  {
   "cell_type": "code",
   "execution_count": 53,
   "metadata": {},
   "outputs": [],
   "source": [
    "folder = ''\n",
    "temp1 = pd.read_csv(folder+'Task1_step4.csv')\n",
    "players = list(set(temp1['participant_ID'].to_list()))"
   ]
  },
  {
   "cell_type": "code",
   "execution_count": 62,
   "metadata": {},
   "outputs": [],
   "source": [
    "t1 = np.array([[int(i),0] for i in players])\n",
    "for key,value in temp1.iterrows():\n",
    "    if value[7] == 1:\n",
    "        if value[-2] == value[-3]:\n",
    "            t1[list(t1[:,0]).index(value[0]),1] += 1000"
   ]
  },
  {
   "cell_type": "code",
   "execution_count": 63,
   "metadata": {
    "scrolled": true
   },
   "outputs": [
    {
     "name": "stdout",
     "output_type": "stream",
     "text": [
      "[[    1 23000]\n",
      " [    2 20000]\n",
      " [    3 22000]\n",
      " [    4 19000]\n",
      " [    5 20000]\n",
      " [    6 24000]\n",
      " [    7 21000]\n",
      " [    8 20000]\n",
      " [    9 23000]\n",
      " [   10 20000]\n",
      " [   11 21000]\n",
      " [   12 23000]\n",
      " [   13 15000]\n",
      " [   14 21000]]\n"
     ]
    }
   ],
   "source": [
    "print(t1)"
   ]
  },
  {
   "cell_type": "code",
   "execution_count": 84,
   "metadata": {},
   "outputs": [],
   "source": [
    "temp2 = pd.read_csv(folder+'Task2_step4.csv')\n",
    "players = list(set(temp2['participant_ID'].to_list()))"
   ]
  },
  {
   "cell_type": "code",
   "execution_count": 85,
   "metadata": {},
   "outputs": [],
   "source": [
    "t2 = np.array([[int(i),500] for i in players])\n",
    "for key,value in temp2.iterrows():\n",
    "    if value[7] == 1:\n",
    "        if value[-2] == value[-3]:\n",
    "            t2[list(t2[:,0]).index(value[0]),1] += 1000 - value[4]*value[10] - value[5]*value[11]"
   ]
  },
  {
   "cell_type": "code",
   "execution_count": 86,
   "metadata": {
    "scrolled": true
   },
   "outputs": [
    {
     "name": "stdout",
     "output_type": "stream",
     "text": [
      "[[    1 18500]\n",
      " [    2  9500]\n",
      " [    3 25500]\n",
      " [    4 17500]\n",
      " [    5 15500]\n",
      " [    6 21500]\n",
      " [    7  3500]\n",
      " [    8 21500]\n",
      " [    9 16500]\n",
      " [   10 12500]\n",
      " [   11 21500]\n",
      " [   12  8500]\n",
      " [   13 19500]\n",
      " [   14 23500]]\n"
     ]
    }
   ],
   "source": [
    "print(t2)"
   ]
  },
  {
   "cell_type": "code",
   "execution_count": 94,
   "metadata": {},
   "outputs": [],
   "source": [
    "temp3 = pd.read_csv(folder+'Task3_step4.csv')\n",
    "players = list(set(temp3['participant_ID'].to_list()))"
   ]
  },
  {
   "cell_type": "code",
   "execution_count": 95,
   "metadata": {},
   "outputs": [],
   "source": [
    "t3 = np.array([[int(i),500] for i in players])\n",
    "for key,value in temp3.iterrows():\n",
    "    if value[7] == 1:\n",
    "        if value[-2] == value[-3]:\n",
    "            t3[list(t3[:,0]).index(value[0]),1] += 1000 + value[4]*value[10] - value[5]*value[11]"
   ]
  },
  {
   "cell_type": "code",
   "execution_count": 96,
   "metadata": {},
   "outputs": [
    {
     "name": "stdout",
     "output_type": "stream",
     "text": [
      "[[    1 42500]\n",
      " [    2 16500]\n",
      " [    3 47500]\n",
      " [    4 33500]\n",
      " [    5 25500]\n",
      " [    6 46500]\n",
      " [    7   500]\n",
      " [    8 46500]\n",
      " [    9 37500]\n",
      " [   10 22500]\n",
      " [   11 47500]\n",
      " [   12 15500]\n",
      " [   13 43500]\n",
      " [   14 45500]]\n"
     ]
    }
   ],
   "source": [
    "print(t3)"
   ]
  },
  {
   "cell_type": "code",
   "execution_count": 102,
   "metadata": {},
   "outputs": [],
   "source": [
    "df = pd.DataFrame(t3, columns=['participant_ID', 'task_3'])\n",
    "df['task_2'] = t2[:,1]\n",
    "df['task_1'] = t1[:,1]"
   ]
  },
  {
   "cell_type": "code",
   "execution_count": 103,
   "metadata": {},
   "outputs": [],
   "source": [
    "df.to_csv('payoff.csv', index=False)"
   ]
  },
  {
   "cell_type": "code",
   "execution_count": null,
   "metadata": {},
   "outputs": [],
   "source": []
  }
 ],
 "metadata": {
  "kernelspec": {
   "display_name": "Python 3",
   "language": "python",
   "name": "python3"
  },
  "language_info": {
   "codemirror_mode": {
    "name": "ipython",
    "version": 3
   },
   "file_extension": ".py",
   "mimetype": "text/x-python",
   "name": "python",
   "nbconvert_exporter": "python",
   "pygments_lexer": "ipython3",
   "version": "3.7.6"
  }
 },
 "nbformat": 4,
 "nbformat_minor": 4
}
