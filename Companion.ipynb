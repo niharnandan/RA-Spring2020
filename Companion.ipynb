{
 "cells": [
  {
   "cell_type": "code",
   "execution_count": 80,
   "metadata": {},
   "outputs": [],
   "source": [
    "import numpy as np\n",
    "import pandas as pd\n",
    "from os import listdir\n",
    "from os.path import isfile, join\n",
    "import warnings\n",
    "warnings.filterwarnings('ignore')"
   ]
  },
  {
   "cell_type": "code",
   "execution_count": 139,
   "metadata": {},
   "outputs": [],
   "source": [
    "mypath= 'Detective_CSV_OnlineTest/'\n",
    "files = [f for f in listdir(mypath) if isfile(join(mypath, f))]"
   ]
  },
  {
   "cell_type": "code",
   "execution_count": 140,
   "metadata": {},
   "outputs": [],
   "source": [
    "temp = [0]*len(files)\n",
    "sum = 0\n",
    "p_count = 0\n",
    "for i in range(len(files)):\n",
    "    p_count += 1\n",
    "    t1 = [p_count]\n",
    "    t1.append(files[i].strip('Detective_CSV_OnlineTest/'))\n",
    "    t = pd.read_csv(mypath+files[i])\n",
    "    t1.append(t['total_bonus_paid_cents'].to_list()[-1])\n",
    "    time1 = []\n",
    "    time2 = []\n",
    "    time3 = []\n",
    "    for key,value in t.iterrows():\n",
    "        get_time = [x for x in value[71:133] if x > 0]\n",
    "        if not get_time: continue\n",
    "        if 'part1' in value[1]: time1.append(get_time[-1])\n",
    "        elif 'part2' in value[1]: time2.append(get_time[-1])\n",
    "        else: time3.append(get_time[-1])\n",
    "    t1.append(np.mean(time1))\n",
    "    t1.append(np.mean(time2))\n",
    "    t1.append(np.mean(time3))\n",
    "    temp[i] = t1"
   ]
  },
  {
   "cell_type": "code",
   "execution_count": 141,
   "metadata": {},
   "outputs": [
    {
     "name": "stdout",
     "output_type": "stream",
     "text": [
      "[[1, 'bayes_33NOQL7T9PN6QWN4YK9RGXLJIJZZ88_A3MKQR5WVPT3C4_3NVC2EB65SNN7T5NGJHEZT0M0153YZ_results.', 736.0, 6566.855835998875, 11584.94422, 11601.930467999953], [2, 'bayes_3OEWW2KGQKZ68N5ODJ9QMRSG96VOD3_A2DIC0HKUOATSA_3PS7W85Z81QD59V9NMVPIPBTLQQ9TO_results.', 800.0, 8668.682716000016, 5446.32122400001, 4567.036615999999], [3, 'bayes_3OKP4QVBP3LKI3LE5Q5GRHB8XL5AG6_A3MKQR5WVPT3C4_3RWE2M8QWJYXE22CQUQKGF48T5BN0S_results.', 764.0, 9855.334879999948, 12536.058976000015, 12136.707746000007], [4, 'bayes_3ZICQFRS326LASOR7A94THINGGXZZF_A3MKQR5WVPT3C4_3AMW0RGHOFQ02J6W7F5AVG5G1YFNPX_uid-2s2xesxnk2dw41k5_results.', 598.0, 18686.51755599806, 10008.28126400008, 10117.499186666713], [5, 'bayes_3CZH926SID27W096QU51EB4WRYUE4N_A3BDBXNO8N6XCH_39ASUFLU6ZV1HMVA07C8Z6XAPAQEX0_results.', 336.0, 14789.437348000016, 10154.648264001125, 5838.659071999955], [6, 'bayes_3D06DR52267KADH0GT3B4MV5ST5AM9_A38HVPKCR10RG1_3YDTZAI2WZ4BZJDO48FOVBHI72Y14Y_uid-4fg0snk2m4elx8_results.', 759.0, 8680.75467200002, 9091.385783999986, 9574.86074799997], [7, 'bayes_3URJ6VVYUQBT8RMVK88XJNYAWQGO4Y_A1G9Y364FPP726_3WS1NTTKE00LQAPVS6778AVZRDT0F0_results.', 320.0, 12641.107867999926, 6170.948124000025, 2576.4662320000048], [8, 'bayes_3EAWOID6MUL7ZNDR2J792C25AHO0V6_A3K74MQDRJ5556_386PBUZZXHLES80D0PKBLSFFN96JLY_results.', 608.0, 10534.82272000004, 13192.971639999389, 16052.096509999787], [9, 'bayes_375VMB7D4K7WC1ULFOWL2UWUW39IDQ__ASSIGNMENT_ID_NOT_AVAILABLE_results.', 798.0, 6925.769043999991, 9433.429612000002, 10338.495245999966], [10, 'bayes_3IZVJEBJ6B8JMI4G55CTWJPSBVEZ64_A2DIC0HKUOATSA_36AHBNMV1T0LPL7K98NQC2MYR4DDY6_results.', 740.0, 8526.415600000006, 7708.191596000015, 9297.907733999902], [11, 'bayes_3CVDZS288IOF64Y8R9P3IN6WP70MFC_A3MKQR5WVPT3C4_3LEP4MGT3IOPCDE9ZG964ROX6QRBDB_uid-z9tank2byglfe_results.', 785.0, 7467.855698666639, 7101.474219999943, 11910.552956666847], [12, 'bayes_3LN3BXKGC1JHPGOH6V18968ZP4AGWP_A3MKQR5WVPT3C4_3C2NJ6JBKC54AC5Q5HUYZ3XNQ3NN24_results.', 592.0, 33033.30832399744, 10461.820436000005, 8609.705802000026], [13, 'bayes_3ZURAPD289BIAFCJYN65YVITRE3F1V_A38HVPKCR10RG1_3II4UPYCOLVCGJGYIY6WZGJWSVKDQR_results.', 501.0, 12257.177776000033, 8320.217555999778, 6707.155647999974], [14, 'bayes_3RWO3EJELIXU1S1DCQ2AAPWXUHZ1PO_A3MKQR5WVPT3C4_3Z2R0DQ0JJ20G6SDCIRF9G3ECBBE2V_results.', 518.0, 9191.823435999962, 8627.136560000008, 7890.61918600002]]\n"
     ]
    }
   ],
   "source": [
    "print(temp)"
   ]
  },
  {
   "cell_type": "code",
   "execution_count": 142,
   "metadata": {},
   "outputs": [],
   "source": [
    "temp2 = pd.DataFrame(temp, columns = ['participant_ID','csv', 'total_bonus_paid_cents', 'part1_average'\n",
    "            ,'part2_average', 'part3_average'])\n",
    "temp2.to_csv('companion.csv')"
   ]
  },
  {
   "cell_type": "code",
   "execution_count": null,
   "metadata": {},
   "outputs": [],
   "source": []
  }
 ],
 "metadata": {
  "kernelspec": {
   "display_name": "Python 3",
   "language": "python",
   "name": "python3"
  },
  "language_info": {
   "codemirror_mode": {
    "name": "ipython",
    "version": 3
   },
   "file_extension": ".py",
   "mimetype": "text/x-python",
   "name": "python",
   "nbconvert_exporter": "python",
   "pygments_lexer": "ipython3",
   "version": "3.7.6"
  }
 },
 "nbformat": 4,
 "nbformat_minor": 4
}
