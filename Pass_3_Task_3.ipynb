{
 "cells": [
  {
   "cell_type": "code",
   "execution_count": 6,
   "metadata": {},
   "outputs": [],
   "source": [
    "import numpy as np\n",
    "import pandas as pd\n",
    "from os import listdir\n",
    "from os.path import isfile, join\n",
    "import matplotlib.pyplot as plt\n",
    "import warnings\n",
    "import seaborn as sns\n",
    "sns.set_style(\"darkgrid\")\n",
    "warnings.filterwarnings('ignore')"
   ]
  },
  {
   "cell_type": "code",
   "execution_count": 7,
   "metadata": {},
   "outputs": [],
   "source": [
    "folder = ''\n",
    "temp1 = pd.read_csv(folder+'Task3_step2.csv')"
   ]
  },
  {
   "cell_type": "code",
   "execution_count": 8,
   "metadata": {},
   "outputs": [],
   "source": [
    "for key,value in temp1.iterrows():\n",
    "    if value[1] == 0:\n",
    "        temp = temp1.iloc[key, 9:69].to_list()\n",
    "        temp1.iloc[key, 9:69] = [int(x) ^ 1 if x == 1.0 or x == 0.0 else np.nan for x in temp]"
   ]
  },
  {
   "cell_type": "code",
   "execution_count": 9,
   "metadata": {},
   "outputs": [
    {
     "data": {
      "text/plain": [
       "Index(['participant_ID', 'treatment', 'part', 'trial_no', 'setup_cost_red',\n",
       "       'setup_cost_blue', 'red_prior_prob', 'true_guilty_suspect',\n",
       "       'suspect_accused', 'choice_1',\n",
       "       ...\n",
       "       'timing_choice_55', 'timing_choice_56', 'timing_choice_57',\n",
       "       'timing_choice_58', 'timing_choice_59', 'timing_choice_60',\n",
       "       'timing_choice_61', 'timing_choice_62', 'correct_suspect_accused',\n",
       "       'evidence_round'],\n",
       "      dtype='object', length=193)"
      ]
     },
     "execution_count": 9,
     "metadata": {},
     "output_type": "execute_result"
    }
   ],
   "source": [
    "temp1.to_csv('Task3_step3.csv', index=False)\n",
    "temp1.columns"
   ]
  },
  {
   "cell_type": "code",
   "execution_count": 10,
   "metadata": {},
   "outputs": [
    {
     "ename": "ValueError",
     "evalue": "6.0 is not in list",
     "output_type": "error",
     "traceback": [
      "\u001b[0;31m---------------------------------------------------------------------------\u001b[0m",
      "\u001b[0;31mValueError\u001b[0m                                Traceback (most recent call last)",
      "\u001b[0;32m<ipython-input-10-17973a905667>\u001b[0m in \u001b[0;36m<module>\u001b[0;34m\u001b[0m\n\u001b[1;32m      8\u001b[0m \u001b[0mt7\u001b[0m \u001b[0;34m=\u001b[0m \u001b[0;34m[\u001b[0m\u001b[0;36m0\u001b[0m\u001b[0;34m]\u001b[0m\u001b[0;34m*\u001b[0m \u001b[0;36m5\u001b[0m\u001b[0;34m\u001b[0m\u001b[0;34m\u001b[0m\u001b[0m\n\u001b[1;32m      9\u001b[0m \u001b[0;32mfor\u001b[0m \u001b[0mkey\u001b[0m\u001b[0;34m,\u001b[0m\u001b[0mvalue\u001b[0m \u001b[0;32min\u001b[0m \u001b[0mtemp1\u001b[0m\u001b[0;34m.\u001b[0m\u001b[0miterrows\u001b[0m\u001b[0;34m(\u001b[0m\u001b[0;34m)\u001b[0m\u001b[0;34m:\u001b[0m\u001b[0;34m\u001b[0m\u001b[0;34m\u001b[0m\u001b[0m\n\u001b[0;32m---> 10\u001b[0;31m     \u001b[0mt2\u001b[0m\u001b[0;34m[\u001b[0m\u001b[0mt1\u001b[0m\u001b[0;34m.\u001b[0m\u001b[0mindex\u001b[0m\u001b[0;34m(\u001b[0m\u001b[0mvalue\u001b[0m\u001b[0;34m[\u001b[0m\u001b[0;36m5\u001b[0m\u001b[0;34m]\u001b[0m\u001b[0;34m)\u001b[0m\u001b[0;34m]\u001b[0m \u001b[0;34m+=\u001b[0m \u001b[0;36m1\u001b[0m\u001b[0;34m\u001b[0m\u001b[0;34m\u001b[0m\u001b[0m\n\u001b[0m\u001b[1;32m     11\u001b[0m     \u001b[0mt3\u001b[0m\u001b[0;34m[\u001b[0m\u001b[0mt1\u001b[0m\u001b[0;34m.\u001b[0m\u001b[0mindex\u001b[0m\u001b[0;34m(\u001b[0m\u001b[0mvalue\u001b[0m\u001b[0;34m[\u001b[0m\u001b[0;36m5\u001b[0m\u001b[0;34m]\u001b[0m\u001b[0;34m)\u001b[0m\u001b[0;34m]\u001b[0m \u001b[0;34m+=\u001b[0m \u001b[0;36m1\u001b[0m \u001b[0;32mif\u001b[0m \u001b[0mvalue\u001b[0m\u001b[0;34m[\u001b[0m\u001b[0;36m7\u001b[0m\u001b[0;34m]\u001b[0m \u001b[0;34m==\u001b[0m \u001b[0;36m0\u001b[0m \u001b[0;32melse\u001b[0m \u001b[0;36m0\u001b[0m\u001b[0;34m\u001b[0m\u001b[0;34m\u001b[0m\u001b[0m\n\u001b[1;32m     12\u001b[0m \u001b[0;34m\u001b[0m\u001b[0m\n",
      "\u001b[0;31mValueError\u001b[0m: 6.0 is not in list"
     ]
    }
   ],
   "source": [
    "total_no = len(temp1)\n",
    "t1 = [0.1, 0.3, 0.5, 0.7, 0.9]\n",
    "t2 = [0]* 5\n",
    "t3 = [0]* 5\n",
    "t4 = [0]* 5\n",
    "t5 = [0]* 5\n",
    "t6 = [0]* 5\n",
    "t7 = [0]* 5\n",
    "for key,value in temp1.iterrows():\n",
    "    t2[t1.index(value[5])] += 1\n",
    "    t3[t1.index(value[5])] += 1 if value[7] == 0 else 0\n",
    "    \n",
    "    t4[t1.index(value[5])] += 1 if value[4] == 1 else 0\n",
    "    t5[t1.index(value[5])] += 1 if value[7] == 0 and value[4] == 1 else 0\n",
    "    \n",
    "    t6[t1.index(value[5])] += 1 if value[4] == 9 else 0\n",
    "    t7[t1.index(value[5])] += 1 if value[7] == 0 and value[4] == 9 else 0\n",
    "\n",
    "total = np.array(t3)/np.array(t2)\n",
    "rounds1 = np.array(t5)/np.array(t4)\n",
    "rounds9 = np.array(t7)/np.array(t6)"
   ]
  },
  {
   "cell_type": "code",
   "execution_count": null,
   "metadata": {},
   "outputs": [],
   "source": [
    "plt.plot(t1, total , 'ro', label='All rounds')\n",
    "plt.plot(t1, total , 'r')\n",
    "plt.plot(t1, rounds1 , 'bo', label='1 round')\n",
    "plt.plot(t1, rounds1 , 'b')\n",
    "plt.plot(t1, rounds9 , 'go', label='9 rounds')\n",
    "plt.plot(t1, rounds9 , 'g')\n",
    "plt.legend()\n",
    "plt.show()"
   ]
  },
  {
   "cell_type": "code",
   "execution_count": null,
   "metadata": {},
   "outputs": [],
   "source": []
  }
 ],
 "metadata": {
  "kernelspec": {
   "display_name": "Python 3",
   "language": "python",
   "name": "python3"
  },
  "language_info": {
   "codemirror_mode": {
    "name": "ipython",
    "version": 3
   },
   "file_extension": ".py",
   "mimetype": "text/x-python",
   "name": "python",
   "nbconvert_exporter": "python",
   "pygments_lexer": "ipython3",
   "version": "3.7.6"
  }
 },
 "nbformat": 4,
 "nbformat_minor": 4
}
